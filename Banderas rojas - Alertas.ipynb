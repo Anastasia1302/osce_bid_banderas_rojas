{
 "cells": [
  {
   "cell_type": "markdown",
   "id": "748f6cf2",
   "metadata": {},
   "source": [
    "# Banderas rojas "
   ]
  },
  {
   "cell_type": "markdown",
   "id": "59df1640",
   "metadata": {},
   "source": [
    "Este notebook contiene el código que importa los datos de base de datos SQL hasta la generación de salida con detalle de alertas para cada convocatoria. \n",
    "\n",
    "1. Configuración: Librerias, directorios y configuraciones de Jupyter notebook\n",
    "2. Data: Importación de datos desde base de datos SQL\n",
    "3. Preprocesamiento de los datos\n",
    "4. Banderas: Codigo de generación de cada una de las banderas\n",
    "5. Salidas: \n",
    "    - Postprocesamiento que vincula el dataframe que contiene convocatorias 2021 y sus caracteristicas con cada una de las banderas generadas en el paso previo.\n",
    "    - Generacion de Excels o CSV con salidas del proceso: Tiempos de procesamiento de cada bandera, cantidad de convocatorias que tienen alerta por cada bandera, cantidad de convocatorias con alertas por entidad, diccionario de grupos de items y malla que contiene los datos desagregados de caracteristicas y banderas a nivel convocatoria\n"
   ]
  },
  {
   "cell_type": "markdown",
   "id": "04c38d84",
   "metadata": {},
   "source": [
    "## 1. Configuración"
   ]
  },
  {
   "cell_type": "code",
   "execution_count": 1,
   "id": "bb0d0803",
   "metadata": {},
   "outputs": [],
   "source": [
    "# Librerias\n",
    "import pandas as pd\n",
    "from pathlib import Path\n",
    "import os\n",
    "from sqlalchemy import create_engine\n",
    "import numpy as np\n",
    "import datetime\n",
    "from datetime import datetime\n",
    "import math\n",
    "import datetime\n",
    "import re"
   ]
  },
  {
   "cell_type": "code",
   "execution_count": 2,
   "id": "90596929",
   "metadata": {},
   "outputs": [],
   "source": [
    "# Display options\n",
    "pd.options.display.max_colwidth = 200\n",
    "pd.options.display.float_format = '{:,.0f}'.format\n",
    "pd.options.display.max_columns = None\n",
    "pd.options.display.max_rows = None\n",
    "pd.set_option('display.max_colwidth', None)"
   ]
  },
  {
   "cell_type": "code",
   "execution_count": 3,
   "id": "cac7091f",
   "metadata": {},
   "outputs": [],
   "source": [
    "#  Working directory\n",
    "try:\n",
    "    path = Path(__file__).parent # para correr en consola\n",
    "except NameError:\n",
    "    path = Path('/Users/mac/Documents/IDB') #para correr en spyder\n",
    "os.chdir(path)"
   ]
  },
  {
   "cell_type": "code",
   "execution_count": 4,
   "id": "15473715",
   "metadata": {},
   "outputs": [],
   "source": [
    "# Credenciales conexion nueva BD\n",
    "import etl.etapa_1_nueva_base.credentials_newdb as credentials"
   ]
  },
  {
   "cell_type": "code",
   "execution_count": 5,
   "id": "3dcb48c1",
   "metadata": {},
   "outputs": [],
   "source": [
    "# Funcion para registrar el tiempo que tarda en hacer cada bandera\n",
    "\n",
    "tiempos = pd.DataFrame(columns = ['numero','tipo','tiempo_procesamiento'])\n",
    "\n",
    "def registro_tiempo_procesamiento(nro_bandera,start,end, tiempos):\n",
    "    '''\n",
    "    Agrega a dataframe de control de tiempos de procesamiento el tiempo que tarda en computarse cada bandera\n",
    "    \n",
    "    Params\n",
    "    ------\n",
    "    nro_bandera (int): Número de bandera que se procesa\n",
    "    start (datetime): Fecha y hora de inicio de procesamiento de bandera\n",
    "    end (datetime): Fecha y hora de fin de procesamiento de bandera\n",
    "    df_tiempos (dataframe) : Dataframe donde se van registrando los tiempos de procesamiento de cada bandera\n",
    "    \n",
    "    Returns\n",
    "    ------\n",
    "    \n",
    "    df_tiempos (dataframe): Dataframe que contiene el computo del tiempo transcurrido entre incio y fin de proceso \n",
    "    de la bandera agregada\n",
    "    '''\n",
    "    # Calculo tiempo de proceso\n",
    "    tiempo_proceso = end - start\n",
    "    \n",
    "    # Agrego a DF\n",
    "    tiempos = tiempos.append({'numero':nro_bandera,\n",
    "                              'tipo':'Bandera',\n",
    "                             'tiempo_procesamiento': tiempo_proceso}, ignore_index = True)\n",
    "    return(tiempos)"
   ]
  },
  {
   "cell_type": "markdown",
   "id": "e10d2e6a",
   "metadata": {},
   "source": [
    "## 2. Data"
   ]
  },
  {
   "cell_type": "code",
   "execution_count": 6,
   "id": "b9d031d2",
   "metadata": {},
   "outputs": [],
   "source": [
    "# Conexion a BD\n",
    "hostname = credentials.hostname\n",
    "username = credentials.username\n",
    "password = credentials.password\n",
    "database = credentials.database\n",
    "port = credentials.port\n",
    "\n",
    "# Create an engine instance\n",
    "alchemyEngine = create_engine(f'postgresql+psycopg2://{username}:{password}@{hostname}:{port}/{database}', pool_recycle=3600);"
   ]
  },
  {
   "cell_type": "code",
   "execution_count": 7,
   "id": "8e7d9976",
   "metadata": {},
   "outputs": [],
   "source": [
    "# Connect to PostgreSQL server\n",
    "dbConnection    = alchemyEngine.connect();"
   ]
  },
  {
   "cell_type": "code",
   "execution_count": 8,
   "id": "d90fa8d8",
   "metadata": {},
   "outputs": [],
   "source": [
    "# Base convocatorias\n",
    "convocatorias = pd.read_sql_table('F_CONVOCATORIAS', con = dbConnection) "
   ]
  },
  {
   "cell_type": "code",
   "execution_count": 9,
   "id": "ab15ce64",
   "metadata": {},
   "outputs": [],
   "source": [
    "# Base convocatorias a nivel convocatoria\n",
    "convocatorias_agg = pd.read_sql_table('f_convocatorias_ccunico', con = dbConnection) "
   ]
  },
  {
   "cell_type": "code",
   "execution_count": 10,
   "id": "5cca9f72",
   "metadata": {},
   "outputs": [],
   "source": [
    "# Postores\n",
    "postores = pd.read_sql_table('F_POSTOR', con = dbConnection) "
   ]
  },
  {
   "cell_type": "code",
   "execution_count": 11,
   "id": "2eddf7ae",
   "metadata": {},
   "outputs": [],
   "source": [
    "# Postores a nivel convocatoria\n",
    "postores_agg = pd.read_sql_table('f_postor_ccunico', con = dbConnection) "
   ]
  },
  {
   "cell_type": "code",
   "execution_count": 12,
   "id": "19a0a12a",
   "metadata": {},
   "outputs": [],
   "source": [
    "# Participantes\n",
    "participantes = pd.read_sql_table('F_PROVEEDOR_PARTICIPANTE', con = dbConnection) "
   ]
  },
  {
   "cell_type": "code",
   "execution_count": 13,
   "id": "21fd75f2",
   "metadata": {},
   "outputs": [],
   "source": [
    "# Participantes a nivel convocatoria\n",
    "participantes_agg = pd.read_sql_table('f_participantes_ccunico', con = dbConnection) "
   ]
  },
  {
   "cell_type": "code",
   "execution_count": 14,
   "id": "667e9c17",
   "metadata": {},
   "outputs": [],
   "source": [
    "# Base adjudicaciones \n",
    "adjudicaciones = pd.read_sql_table('F_ADJUDICACIONES', con = dbConnection) "
   ]
  },
  {
   "cell_type": "code",
   "execution_count": 15,
   "id": "e106a593",
   "metadata": {},
   "outputs": [],
   "source": [
    "# Base adjudicaciones a nivel convocatoria\n",
    "adjudicaciones_agg = pd.read_sql_table('f_adjudicaciones_ccunico', con = dbConnection) "
   ]
  },
  {
   "cell_type": "code",
   "execution_count": 16,
   "id": "de6b21d3",
   "metadata": {},
   "outputs": [],
   "source": [
    "# Base contratos a nivel convocatoria\n",
    "contratos = pd.read_sql_table('F_CONTRATOS_NEW', con = dbConnection) "
   ]
  },
  {
   "cell_type": "code",
   "execution_count": 17,
   "id": "a35f3438",
   "metadata": {},
   "outputs": [],
   "source": [
    "# Base contratos a nivel convocatoria\n",
    "contratos_agg = pd.read_sql_table('f_contratos_ccunico', con = dbConnection) "
   ]
  },
  {
   "cell_type": "code",
   "execution_count": 18,
   "id": "b40b82ce",
   "metadata": {},
   "outputs": [],
   "source": [
    "# PAC\n",
    "pac = pd.read_sql_table('F_PAC', con = dbConnection) "
   ]
  },
  {
   "cell_type": "code",
   "execution_count": 19,
   "id": "b9d75fb7",
   "metadata": {},
   "outputs": [],
   "source": [
    "# PAC a nivel anio,ruc_entidad,n referencia\n",
    "pac_agg = pd.read_sql_table('f_pac_ccunico', con = dbConnection) "
   ]
  },
  {
   "cell_type": "code",
   "execution_count": 20,
   "id": "1339f633",
   "metadata": {},
   "outputs": [],
   "source": [
    "# SUNAT\n",
    "sunat = pd.read_excel('data/sunat/SUNAT.xlsx')"
   ]
  },
  {
   "cell_type": "code",
   "execution_count": 21,
   "id": "768e94ca",
   "metadata": {},
   "outputs": [],
   "source": [
    "# Tablas para hacer match entre convocatorias y PAC\n",
    "match2018 = pd.read_excel('data/match_convocatorias_pac/Convocatoria 2018.xlsx')\n",
    "match2019 = pd.read_excel('data/match_convocatorias_pac/Convocatoria 2019.xlsx')\n",
    "match2020 = pd.read_excel('data/match_convocatorias_pac/Convocatoria 2020.xlsx')\n",
    "match2021 = pd.read_excel('data/match_convocatorias_pac/Convocatoria 2021.xlsx')"
   ]
  },
  {
   "cell_type": "code",
   "execution_count": 22,
   "id": "55049703",
   "metadata": {},
   "outputs": [],
   "source": [
    "match = match2018.append([match2019, match2020,match2021])"
   ]
  },
  {
   "cell_type": "code",
   "execution_count": 23,
   "id": "fa583e94",
   "metadata": {},
   "outputs": [],
   "source": [
    "# Traigo convocatorias de la base de datos abiertos para completar los datos que faltan en la nueva base\n",
    "# Conexion a BD\n",
    "hostname = credentials.hostname_old\n",
    "username = credentials.username_old\n",
    "password = credentials.password_old\n",
    "database = credentials.database_old\n",
    "port = credentials.port_old\n",
    "\n",
    "# Create an engine instance\n",
    "alchemyEngine = create_engine(f'postgresql+psycopg2://{username}:{password}@{hostname}:{port}/{database}', pool_recycle=3600);\n",
    "\n",
    "dbConnection  = alchemyEngine.connect();\n",
    "\n",
    "convocatorias_old_agg = pd.read_sql_table('convocatorias_ccunico_soles', con = dbConnection) "
   ]
  },
  {
   "cell_type": "code",
   "execution_count": 24,
   "id": "e0fa7b75",
   "metadata": {},
   "outputs": [],
   "source": [
    "# Feriados para calculo de fechas solo dias habiles\n",
    "feriados = pd.read_excel('data/nueva_base/FeriadosPeru.xlsx')\n",
    "fecha_feriados=np.array(feriados['fecha'],dtype='datetime64[D]')"
   ]
  },
  {
   "cell_type": "code",
   "execution_count": 25,
   "id": "78bc2c8f",
   "metadata": {},
   "outputs": [],
   "source": [
    "# Clasificacion de Entes para Bandera 1\n",
    "entes_tipoa= pd.read_excel('data/data_complementaria/Bandera1_Clasicación de Entidades.xlsx', sheet_name = 'TIPO A', skiprows = 1)\n",
    "entes_tipob= pd.read_excel('data/data_complementaria/Bandera1_Clasicación de Entidades.xlsx', sheet_name = 'TIPO B', skiprows = 1)\n",
    "entes_tipoc= pd.read_excel('data/data_complementaria/Bandera1_Clasicación de Entidades.xlsx', sheet_name = 'TIPO C', skiprows = 1)\n",
    "entes_tipod= pd.read_excel('data/data_complementaria/Bandera1_Clasicación de Entidades.xlsx', sheet_name = 'TIPO D', skiprows = 1)\n",
    "entes_tipoe= pd.read_excel('data/data_complementaria/Bandera1_Clasicación de Entidades.xlsx', sheet_name = 'TIPO E', skiprows = 1)"
   ]
  },
  {
   "cell_type": "code",
   "execution_count": 26,
   "id": "ff105a31",
   "metadata": {},
   "outputs": [],
   "source": [
    "# DGR 2021\n",
    "dgr_aso = pd.read_excel('data/data_complementaria/Bandera_8_Data DGR 2021.xlsx', sheet_name = 'ASO2021')\n",
    "dgr_dict = pd.read_excel('data/data_complementaria/Bandera_8_Data DGR 2021.xlsx', sheet_name = 'DICT2021')"
   ]
  },
  {
   "cell_type": "markdown",
   "id": "197749a0",
   "metadata": {},
   "source": [
    "## 3. Preprocesamiento"
   ]
  },
  {
   "cell_type": "code",
   "execution_count": 27,
   "id": "591f12b0",
   "metadata": {},
   "outputs": [],
   "source": [
    "def convertir_a_minuscula(df):\n",
    "    df.columns = map(str.lower, df.columns)\n",
    "    return\n",
    "\n",
    "def agregar_anio(df,variable):\n",
    "    df['anio'] = df[variable].dt.year"
   ]
  },
  {
   "cell_type": "code",
   "execution_count": 28,
   "id": "5bb641c0",
   "metadata": {},
   "outputs": [],
   "source": [
    "# Columns to lowercase\n",
    "convertir_a_minuscula(convocatorias)\n",
    "convertir_a_minuscula(adjudicaciones)\n",
    "convertir_a_minuscula(contratos)\n",
    "convertir_a_minuscula(postores)\n",
    "convertir_a_minuscula(participantes)\n",
    "convertir_a_minuscula(pac)\n",
    "convertir_a_minuscula(match)\n",
    "convertir_a_minuscula(sunat)\n",
    "convertir_a_minuscula(dgr_aso)\n",
    "convertir_a_minuscula(dgr_dict)\n",
    "\n",
    "convertir_a_minuscula(convocatorias_agg)\n",
    "convertir_a_minuscula(adjudicaciones_agg)\n",
    "convertir_a_minuscula(contratos_agg)\n",
    "convertir_a_minuscula(pac_agg)\n",
    "convertir_a_minuscula(postores_agg)\n",
    "convertir_a_minuscula(participantes_agg)\n",
    "\n",
    "# Agrego año de convocatoria\n",
    "agregar_anio(convocatorias,'fecha_convocatoria')\n",
    "agregar_anio(convocatorias_agg,'fecha_convocatoria')\n",
    "agregar_anio(adjudicaciones,'fechaconvocatoria')\n",
    "agregar_anio(adjudicaciones_agg,'fechaconvocatoria')\n",
    "agregar_anio(contratos,'fechaconvocatoria')\n",
    "agregar_anio(contratos_agg,'fechaconvocatoria')\n"
   ]
  },
  {
   "cell_type": "code",
   "execution_count": 29,
   "id": "90558f88",
   "metadata": {},
   "outputs": [],
   "source": [
    "# Convierto a Int todos los itemcubso\n",
    "adjudicaciones['codigogrupo'] = adjudicaciones['codigogrupo'].astype('Int64')\n",
    "adjudicaciones['codigoitem'] = adjudicaciones['codigoitem'].astype('Int64')\n",
    "adjudicaciones['codigofamilia'] = adjudicaciones['codigofamilia'].astype('Int64')\n",
    "adjudicaciones['codigoclase'] = adjudicaciones['codigoclase'].astype('Int64')\n",
    "adjudicaciones['codigocommodity'] = adjudicaciones['codigocommodity'].astype('Int64')\n",
    "\n",
    "convocatorias['codigo_grupo'] = convocatorias['codigo_grupo'].astype('Int64')\n",
    "convocatorias['codigoitem'] = convocatorias['codigoitem'].astype('Int64')\n",
    "convocatorias['codigo_familia'] = convocatorias['codigo_familia'].astype('Int64')\n",
    "convocatorias['codigoclase'] = convocatorias['codigoclase'].astype('Int64')\n",
    "convocatorias['codigocommodity'] = convocatorias['codigocommodity'].astype('Int64')"
   ]
  },
  {
   "cell_type": "code",
   "execution_count": 30,
   "id": "1b6157a0",
   "metadata": {},
   "outputs": [],
   "source": [
    "# Funcion paraagregar 00 adelante de codigoitem para que tenga 8 caracteres de largo\n",
    "def agregar_ceros_codigoitem(codigoitem):\n",
    "    if pd.isnull(codigoitem):\n",
    "        nuevo_codigoitem = codigoitem\n",
    "    else:\n",
    "        if len(str(codigoitem)) == 1:\n",
    "            nuevo_codigoitem = str(\"0000000\") + str(codigoitem)\n",
    "        elif len(str(codigoitem)) == 2:\n",
    "            nuevo_codigoitem = str(\"000000\") + str(codigoitem)\n",
    "        elif len(str(codigoitem)) == 3:\n",
    "            nuevo_codigoitem = str(\"00000\") + str(codigoitem)\n",
    "        elif len(str(codigoitem)) == 4:\n",
    "            nuevo_codigoitem = str(\"0000\") + str(codigoitem)\n",
    "        elif len(str(codigoitem)) == 5:\n",
    "            nuevo_codigoitem = str(\"000\") + str(codigoitem)\n",
    "        elif len(str(codigoitem)) == 6:\n",
    "            nuevo_codigoitem = str(\"00\") + str(codigoitem)\n",
    "        elif len(str(codigoitem)) == 7:\n",
    "            nuevo_codigoitem = str(\"0\") + str(codigoitem)\n",
    "        else:\n",
    "            nuevo_codigoitem = str(codigoitem)\n",
    "        nuevo_codigoitem = nuevo_codigoitem[0:8]\n",
    "    return (nuevo_codigoitem)"
   ]
  },
  {
   "cell_type": "code",
   "execution_count": 31,
   "id": "f4ee0d83",
   "metadata": {},
   "outputs": [],
   "source": [
    "# Agrego 00 adelante de codigoitem para que tenga 8 caracteres de largo\n",
    "adjudicaciones['codigoitem'] = adjudicaciones.apply(lambda x : agregar_ceros_codigoitem(x['codigoitem']) \n",
    "                                      if x['codigoitem'] is not None else x['codigoitem'], axis = 1)\n",
    "\n",
    "convocatorias['codigoitem'] = convocatorias.apply(lambda x : agregar_ceros_codigoitem(x['codigoitem']) \n",
    "                                      if x['codigoitem'] is not None else x['codigoitem'], axis = 1)"
   ]
  },
  {
   "cell_type": "code",
   "execution_count": 32,
   "id": "9b72096e",
   "metadata": {},
   "outputs": [],
   "source": [
    "convocatorias['codigoitem'] = convocatorias['codigoitem'].where(pd.notnull(convocatorias['codigoitem']),None)\n",
    "adjudicaciones['codigoitem'] = adjudicaciones['codigoitem'].where(pd.notnull(adjudicaciones['codigoitem']),None)"
   ]
  },
  {
   "cell_type": "code",
   "execution_count": 33,
   "id": "e1bfee51",
   "metadata": {},
   "outputs": [],
   "source": [
    "# Concatenar codigos items en convocatorias\n",
    "convocatorias['grupo_familia'] = convocatorias['codigo_grupo'].astype(str) +'-'+ convocatorias['codigo_familia'].astype(str)\n",
    "convocatorias['grupo_familia_clase'] = convocatorias['codigo_grupo'].astype(str) +'-'+ convocatorias['codigo_familia'].astype(str) +'-'+ convocatorias['codigoclase'].astype(str)\n",
    "convocatorias['grupo_familia_clase_commodity'] = convocatorias['codigo_grupo'].astype(str) +'-'+ convocatorias['codigo_familia'].astype(str) +'-'+ convocatorias['codigoclase'].astype(str)+'-'+ convocatorias['codigocommodity'].astype(str)"
   ]
  },
  {
   "cell_type": "code",
   "execution_count": 34,
   "id": "fcd86083",
   "metadata": {},
   "outputs": [],
   "source": [
    "# Concatenar codigos items en adjudicaciones\n",
    "adjudicaciones['grupo_familia'] = adjudicaciones['codigogrupo'].astype(str) +'-'+ adjudicaciones['codigofamilia'].astype(str)\n",
    "adjudicaciones['grupo_familia_clase'] = adjudicaciones['codigogrupo'].astype(str) +'-'+ adjudicaciones['codigofamilia'].astype(str) +'-'+ adjudicaciones['codigoclase'].astype(str)\n",
    "adjudicaciones['grupo_familia_clase_commodity'] = adjudicaciones['codigogrupo'].astype(str) +'-'+ adjudicaciones['codigofamilia'].astype(str) +'-'+ adjudicaciones['codigoclase'].astype(str)+'-'+ adjudicaciones['codigocommodity'].astype(str)"
   ]
  },
  {
   "cell_type": "code",
   "execution_count": 35,
   "id": "f3b9f6fa",
   "metadata": {},
   "outputs": [],
   "source": [
    "# DGR\n",
    "# Renombro columnas\n",
    "dgr_aso = dgr_aso.rename(columns = {'fecha\\noficio':'fecha_oficio',\n",
    "                                   'n° de expediente (seace)': 'codigoconvocatoria'})\n",
    "\n",
    "dgr_dict = dgr_dict.rename(columns = {'fecha de emisión':'fecha_emision',\n",
    "                                   'conclusión \\nfinal': 'conclusion_final',\n",
    "                                   'nº de expediente - seace': 'codigoconvocatoria'})\n"
   ]
  },
  {
   "cell_type": "code",
   "execution_count": 36,
   "id": "34d8b6d1",
   "metadata": {},
   "outputs": [],
   "source": [
    "# flatten de dataframe para vincular ambas tablas(match)\n",
    "match_sin_duplicado = match.drop_duplicates(['año_de_convocatoria','ruc_entidad','numero_ref_pac'])#[['año_de_convocatoria','ruc_entidad','numero_ref_pac','nomenclatura','año_pac']]"
   ]
  },
  {
   "cell_type": "code",
   "execution_count": 37,
   "id": "3c7c10c7",
   "metadata": {
    "scrolled": true
   },
   "outputs": [
    {
     "name": "stderr",
     "output_type": "stream",
     "text": [
      "<ipython-input-37-b8f9bb1774a9>:6: SettingWithCopyWarning: \n",
      "A value is trying to be set on a copy of a slice from a DataFrame.\n",
      "Try using .loc[row_indexer,col_indexer] = value instead\n",
      "\n",
      "See the caveats in the documentation: https://pandas.pydata.org/pandas-docs/stable/user_guide/indexing.html#returning-a-view-versus-a-copy\n",
      "  match_sin_duplicado['año_de_convocatoria'] = match_sin_duplicado['año_de_convocatoria'].astype(str)\n",
      "<ipython-input-37-b8f9bb1774a9>:7: SettingWithCopyWarning: \n",
      "A value is trying to be set on a copy of a slice from a DataFrame.\n",
      "Try using .loc[row_indexer,col_indexer] = value instead\n",
      "\n",
      "See the caveats in the documentation: https://pandas.pydata.org/pandas-docs/stable/user_guide/indexing.html#returning-a-view-versus-a-copy\n",
      "  match_sin_duplicado['año_pac'] = match_sin_duplicado['año_pac'].astype(str)\n",
      "<ipython-input-37-b8f9bb1774a9>:8: SettingWithCopyWarning: \n",
      "A value is trying to be set on a copy of a slice from a DataFrame.\n",
      "Try using .loc[row_indexer,col_indexer] = value instead\n",
      "\n",
      "See the caveats in the documentation: https://pandas.pydata.org/pandas-docs/stable/user_guide/indexing.html#returning-a-view-versus-a-copy\n",
      "  match_sin_duplicado['ruc_entidad'] = match_sin_duplicado['ruc_entidad'].astype(str)\n",
      "<ipython-input-37-b8f9bb1774a9>:9: SettingWithCopyWarning: \n",
      "A value is trying to be set on a copy of a slice from a DataFrame.\n",
      "Try using .loc[row_indexer,col_indexer] = value instead\n",
      "\n",
      "See the caveats in the documentation: https://pandas.pydata.org/pandas-docs/stable/user_guide/indexing.html#returning-a-view-versus-a-copy\n",
      "  match_sin_duplicado['nomenclatura'] = match_sin_duplicado['nomenclatura'].astype(str)\n"
     ]
    }
   ],
   "source": [
    "# datatypes\n",
    "convocatorias_agg['anio'] = convocatorias_agg['anio'].astype(str)\n",
    "convocatorias_agg['ruc_entidad'] = convocatorias_agg['ruc_entidad'].astype(str)\n",
    "convocatorias_agg['proceso'] = convocatorias_agg['proceso'].astype(str)\n",
    "\n",
    "match_sin_duplicado['año_de_convocatoria'] = match_sin_duplicado['año_de_convocatoria'].astype(str)\n",
    "match_sin_duplicado['año_pac'] = match_sin_duplicado['año_pac'].astype(str)\n",
    "match_sin_duplicado['ruc_entidad'] = match_sin_duplicado['ruc_entidad'].astype(str)\n",
    "match_sin_duplicado['nomenclatura'] = match_sin_duplicado['nomenclatura'].astype(str)\n",
    "\n",
    "pac_agg['año'] = pac_agg['año'].astype(str)\n",
    "pac_agg['ruc_entidad'] = pac_agg['ruc_entidad'].astype(str)\n",
    "pac_agg['n_referencia'] = pac_agg['n_referencia'].astype(int)"
   ]
  },
  {
   "cell_type": "code",
   "execution_count": 38,
   "id": "8e1576b8",
   "metadata": {},
   "outputs": [],
   "source": [
    "# Reemplazar nulls por ceros\n",
    "postores_agg['cant_ruc_codigo_postor'].fillna(0, inplace = True)\n",
    "participantes_agg['cant_rucparticipante'].fillna(0, inplace = True)"
   ]
  },
  {
   "cell_type": "code",
   "execution_count": 39,
   "id": "8699122b",
   "metadata": {},
   "outputs": [],
   "source": [
    "# Agrego una columna a cada dataframe para identificar el estadio\n",
    "convocatorias_agg['convocada'] = 'Si'\n",
    "adjudicaciones_agg['adjudicada'] = 'Si'\n",
    "contratos_agg['contrato'] = 'Si'"
   ]
  },
  {
   "cell_type": "code",
   "execution_count": 40,
   "id": "54e6c863",
   "metadata": {},
   "outputs": [],
   "source": [
    "# Contratos: Genero columna en la que si Ruc ganador de pago es consorcio, tomo ruc destinatario de pago\n",
    "contratos['ruc_proveedor'] = contratos.apply(lambda x: x['ruc_destinatario_pago'] if x['es_consorcio'] == 'S'\n",
    "                                            else x['ruc_codigo_ganador'], axis = 1)\n",
    "# Contratos: Genero columna en la que si Ruc ganador de pago es consorcio, tomo ruc destinatario de pago\n",
    "contratos['ruc_proveedor_razon_social'] = contratos.apply(lambda x: x['nombre_destinatario_pago'] if x['es_consorcio'] == 'S'\n",
    "                                            else x['ganador'], axis = 1)"
   ]
  },
  {
   "cell_type": "code",
   "execution_count": 42,
   "id": "b5b4d971",
   "metadata": {},
   "outputs": [],
   "source": [
    "def solo_alfanumericos(texto):\n",
    "    if texto is None:\n",
    "        resultado = None\n",
    "    else:\n",
    "        resultado = re.sub(r'[^A-Za-z\\u00f1\\u00d1]',' ', texto)\n",
    "    return(resultado)"
   ]
  },
  {
   "cell_type": "code",
   "execution_count": 43,
   "id": "85ac17d8",
   "metadata": {},
   "outputs": [],
   "source": [
    "# Sacar caracteres especiales de razon social\n",
    "adjudicaciones['ganador2'] = adjudicaciones.apply(lambda x: solo_alfanumericos(x['ganador']), axis = 1)"
   ]
  },
  {
   "cell_type": "code",
   "execution_count": 46,
   "id": "b6a4f390",
   "metadata": {},
   "outputs": [],
   "source": [
    "# Sacar caracteres especiales de razon social\n",
    "contratos['ruc_proveedor_razon_social'] = contratos.apply(lambda x: solo_alfanumericos(x['ruc_proveedor_razon_social']), axis = 1)"
   ]
  },
  {
   "cell_type": "code",
   "execution_count": 47,
   "id": "6bccdbe7",
   "metadata": {},
   "outputs": [],
   "source": [
    "# Sacar caracteres especiales de razon social\n",
    "postores['detalle_postor'] = postores.apply(lambda x: solo_alfanumericos(x['detalle_postor']), axis = 1)"
   ]
  },
  {
   "cell_type": "code",
   "execution_count": 48,
   "id": "a6ef04b2",
   "metadata": {},
   "outputs": [],
   "source": [
    "# Agrego a tabla convocatoria, datos de convocatoria(fechas) que teniamos en Datos abiertos y en nueva base no estan\n",
    "convocatorias_old_agg = convocatorias_old_agg[['codigoconvocatoria','fechaintegracionbases','fechapresentacionpropuesta','montoreferencial']]\n",
    "\n",
    "# Join de data nueva con data de datos abiertos para traernos las fechas de integracion y presentacion de propuestas\n",
    "convocatorias_agg = convocatorias_agg.join(convocatorias_old_agg.set_index(['codigoconvocatoria']),\n",
    "             on = ['codigoconvocatoria'],                                       \n",
    "             how = 'left')"
   ]
  },
  {
   "cell_type": "code",
   "execution_count": 49,
   "id": "d4fe3544",
   "metadata": {},
   "outputs": [],
   "source": [
    "# Join de tabla convocatorias con tabla para join (match)\n",
    "convo_match = convocatorias_agg[['codigoconvocatoria','anio','ruc_entidad','proceso']].join(match_sin_duplicado\\\n",
    "                                .set_index(['año_de_convocatoria','ruc_entidad','nomenclatura']),\n",
    "                                    on = ['anio','ruc_entidad','proceso'],\n",
    "                                    how = 'inner')"
   ]
  },
  {
   "cell_type": "code",
   "execution_count": 50,
   "id": "544a088c",
   "metadata": {},
   "outputs": [],
   "source": [
    "# Borro duplicados que surgen de que exista el mismo proceso para el mismo ruc y anio pero distinto nro ref pac\n",
    "convo_match.drop_duplicates('codigoconvocatoria', inplace=True)"
   ]
  },
  {
   "cell_type": "code",
   "execution_count": 51,
   "id": "23266a6d",
   "metadata": {},
   "outputs": [],
   "source": [
    "# Join de tabla convocatorias con tabla para join (match) con pac\n",
    "convo_match_pac = convo_match.join(pac_agg.set_index(['año','ruc_entidad','n_referencia']),\n",
    "                        on = ['año_pac','ruc_entidad','numero_ref_pac'],\n",
    "                        how = 'inner')"
   ]
  },
  {
   "cell_type": "code",
   "execution_count": 52,
   "id": "98bcd329",
   "metadata": {
    "scrolled": true
   },
   "outputs": [],
   "source": [
    "# Selecciono columnas\n",
    "convo_match_pac = convo_match_pac[['codigoconvocatoria','ruc_entidad','anio','proceso','numero_ref_pac','año_pac','max_version','tipoprocesoseleccion','max_fecha_publicacion']]"
   ]
  },
  {
   "cell_type": "code",
   "execution_count": 53,
   "id": "1767cd48",
   "metadata": {},
   "outputs": [],
   "source": [
    "# Borro 1 duplicado\n",
    "convo_match_pac.drop_duplicates('codigoconvocatoria', inplace=True)"
   ]
  },
  {
   "cell_type": "code",
   "execution_count": 54,
   "id": "6f6a6aeb",
   "metadata": {},
   "outputs": [],
   "source": [
    "# Agrego una columna a cada dataframe para identificar el estadio\n",
    "convo_match_pac['pac'] = 'Si'"
   ]
  },
  {
   "cell_type": "markdown",
   "id": "14bbfb45",
   "metadata": {},
   "source": [
    "#### Malla PAC-Convocatoria-Ajudicaciones-Contratos"
   ]
  },
  {
   "cell_type": "code",
   "execution_count": 56,
   "id": "9464d445",
   "metadata": {},
   "outputs": [],
   "source": [
    "# Join pac con convocatorias\n",
    "df_pac_conv = convo_match_pac.join(convocatorias_agg.set_index('codigoconvocatoria'),\n",
    "                               on = 'codigoconvocatoria',\n",
    "                               how = 'left',\n",
    "                               rsuffix = '_conv')"
   ]
  },
  {
   "cell_type": "code",
   "execution_count": 57,
   "id": "72399298",
   "metadata": {},
   "outputs": [],
   "source": [
    "# Join convocatoria con adjudicaciones\n",
    "df_agg = df_pac_conv.join(adjudicaciones_agg.set_index('codigoconvocatoria'),\n",
    "                               on = 'codigoconvocatoria',\n",
    "                               how = 'left',\n",
    "                               rsuffix = '_adj')"
   ]
  },
  {
   "cell_type": "code",
   "execution_count": 58,
   "id": "ef7a6650",
   "metadata": {},
   "outputs": [],
   "source": [
    "# Saco convocatorias sin adjudicaciones \n",
    "df_agg_ca = df_agg.loc[~df_agg['ruc_entidad_adj'].isna()]"
   ]
  },
  {
   "cell_type": "code",
   "execution_count": 59,
   "id": "35c77eae",
   "metadata": {},
   "outputs": [],
   "source": [
    "# Join convocatoria con adjudicaciones con contratos\n",
    "df_agg_pcac = df_agg_ca.join(contratos_agg.set_index('codigoconvocatoria'),\n",
    "                      on = 'codigoconvocatoria',\n",
    "                      how = 'left',\n",
    "                      rsuffix = '_contr')"
   ]
  },
  {
   "cell_type": "code",
   "execution_count": 60,
   "id": "4d98b38e",
   "metadata": {},
   "outputs": [],
   "source": [
    "# Borro duplicados 2.989\n",
    "df_agg_pcac.drop_duplicates('codigoconvocatoria', inplace=True)"
   ]
  },
  {
   "cell_type": "markdown",
   "id": "4c81d5a5",
   "metadata": {},
   "source": [
    "#### Malla Convocatoria-Ajudicaciones-Contratos"
   ]
  },
  {
   "cell_type": "code",
   "execution_count": 62,
   "id": "1209ccc9",
   "metadata": {},
   "outputs": [],
   "source": [
    "# Join convocatoria con adjudicaciones\n",
    "df_agg = convocatorias_agg.join(adjudicaciones_agg.set_index('codigoconvocatoria'),\n",
    "                               on = 'codigoconvocatoria',\n",
    "                               how = 'left',\n",
    "                               rsuffix = '_adj')"
   ]
  },
  {
   "cell_type": "code",
   "execution_count": 63,
   "id": "09b6fbc9",
   "metadata": {},
   "outputs": [],
   "source": [
    "# Saco convocatorias sin adjudicaciones \n",
    "df_agg_ca = df_agg.loc[~df_agg['ruc_entidad_adj'].isna()]"
   ]
  },
  {
   "cell_type": "code",
   "execution_count": 64,
   "id": "ed8b6486",
   "metadata": {},
   "outputs": [],
   "source": [
    "# Join convocatoria con adjudicaciones con contratos\n",
    "df_agg_cac = df_agg_ca.join(contratos_agg.set_index('codigoconvocatoria'),\n",
    "                      on = 'codigoconvocatoria',\n",
    "                      how = 'left',\n",
    "                      rsuffix = '_contr')"
   ]
  },
  {
   "cell_type": "code",
   "execution_count": 65,
   "id": "e162f76f",
   "metadata": {},
   "outputs": [],
   "source": [
    "# Borro duplicados 2.989\n",
    "df_agg_cac.drop_duplicates('codigoconvocatoria', inplace=True)"
   ]
  },
  {
   "cell_type": "code",
   "execution_count": 66,
   "id": "1568b754",
   "metadata": {},
   "outputs": [],
   "source": [
    "# Genero campo de monto de convocatoria\n",
    "# Si tengo el dato en tabla contrtos uso ese (ultimo envio de BD), caso contrario lo traigo de\n",
    "# tabla convocatorias de base de datos anterior\n",
    "df_agg_cac['monto_convocatoria'] = df_agg_cac.apply(lambda x: x['montoreferencial'] if pd.isnull(x['monto_referencial_total'])\n",
    "                                                   else x['monto_referencial_total'], axis = 1)\n",
    "\n",
    "\n"
   ]
  },
  {
   "cell_type": "markdown",
   "id": "68ed950d",
   "metadata": {},
   "source": [
    "#### Universo de análisis"
   ]
  },
  {
   "cell_type": "code",
   "execution_count": 68,
   "id": "cdddb77a",
   "metadata": {
    "scrolled": true
   },
   "outputs": [
    {
     "name": "stdout",
     "output_type": "stream",
     "text": [
      "Cantidad de filas al seleccionar procesos - malla PAC-Conv-Adj-Contr: 114141\n",
      "Cantidad de filas al seleccionar procesos - malla Conv-Adj-Contr: 143735\n"
     ]
    }
   ],
   "source": [
    "# Lista procesos seleccionados \n",
    "tipoprocesos = ['Adjudicación Simplificada', \n",
    "                'Contratación Directa', \n",
    "                'Subasta Inversa Electrónica',\n",
    "                'Licitación Pública',\n",
    "                'Comparación de Precios', \n",
    "                'Concurso Público']\n",
    "\n",
    "\n",
    "# Saco los tipos de contrataciones que no vamos a utilizar - Malla que incluye PAC\n",
    "df_agg_pcac = df_agg_pcac[df_agg_pcac['tipoprocesoseleccion'].isin(tipoprocesos)]\n",
    "df_agg_pcac = df_agg_pcac[df_agg_pcac['tipoprocesoseleccion'].isin(tipoprocesos)]\n",
    "print(f'Cantidad de filas al seleccionar procesos - malla PAC-Conv-Adj-Contr: {df_agg_pcac.shape[0]}')\n",
    "\n",
    "# Saco los tipos de contrataciones que no vamos a utilizar - Malla sin PAC\n",
    "df_agg_cac = df_agg_cac[df_agg_cac['tipoprocesoseleccion'].isin(tipoprocesos)]\n",
    "df_agg_cac = df_agg_cac[df_agg_cac['tipoprocesoseleccion'].isin(tipoprocesos)]\n",
    "print(f'Cantidad de filas al seleccionar procesos - malla Conv-Adj-Contr: {df_agg_cac.shape[0]}')"
   ]
  },
  {
   "cell_type": "markdown",
   "id": "d904da19",
   "metadata": {},
   "source": [
    "## 4. Banderas"
   ]
  },
  {
   "cell_type": "markdown",
   "id": "560564f0",
   "metadata": {},
   "source": [
    "### Bandera 1: Número de versiones de PAC es demasiado alto"
   ]
  },
  {
   "cell_type": "code",
   "execution_count": 69,
   "id": "c768e4ac",
   "metadata": {},
   "outputs": [],
   "source": [
    "# Start time de bandera\n",
    "start = datetime.datetime.now()"
   ]
  },
  {
   "cell_type": "code",
   "execution_count": 70,
   "id": "bd506140",
   "metadata": {},
   "outputs": [],
   "source": [
    "# Genero lista con rucs de entidades pertenecientes a cada grupo\n",
    "tipoa = list(entes_tipoa['RUC de la Entidad'])\n",
    "tipob = list(entes_tipob['RUC de la Entidad'])\n",
    "tipoc = list(entes_tipoc['RUC de la Entidad'])\n",
    "tipod = list(entes_tipod['RUC de la Entidad'])\n",
    "tipoe = list(entes_tipoe['RUC de la Entidad'])"
   ]
  },
  {
   "cell_type": "code",
   "execution_count": 71,
   "id": "0bcaf4ae",
   "metadata": {},
   "outputs": [],
   "source": [
    "df_agg_pcac['ruc_entidad'] = df_agg_pcac['ruc_entidad'].astype(int)"
   ]
  },
  {
   "cell_type": "code",
   "execution_count": 72,
   "id": "f949e3dd",
   "metadata": {},
   "outputs": [],
   "source": [
    "# Defino funcion para asignar grupo a cada entidad\n",
    "def grupo_entidad(ruc_entidad,tipoa,tipob,tipoc,tipod,tipoe):\n",
    "    \"\"\"\n",
    "    Devuelve el grupo al que pertenece un RUC de entidad\n",
    "    \n",
    "    Params\n",
    "    ------\n",
    "    ruc_entidad(integer): RUC de la entidad\n",
    "    tipoa(list): Listado de RUCs de entidad pertenecientes al grupo A\n",
    "    tipob(list): Listado de RUCs de entidad pertenecientes al grupo B\n",
    "    tipoc(list): Listado de RUCs de entidad pertenecientes al grupo C\n",
    "    tipod(list): Listado de RUCs de entidad pertenecientes al grupo D\n",
    "    tipoe(list): Listado de RUCs de entidad pertenecientes al grupo E\n",
    "    \n",
    "    Returns\n",
    "    -------\n",
    "    resultado(string): Letra del grupo al que pertenece la entidad\n",
    "    \n",
    "    \"\"\"\n",
    "    if ruc_entidad in tipoa:\n",
    "        resultado = 'A'\n",
    "    elif ruc_entidad in tipob:\n",
    "        resultado = 'B'\n",
    "    elif ruc_entidad in tipoc:\n",
    "        resultado = 'C'\n",
    "    elif ruc_entidad in tipod:\n",
    "        resultado = 'D'\n",
    "    elif ruc_entidad in tipoe:\n",
    "        resultado = 'E'\n",
    "    else:\n",
    "        resultado = None\n",
    "    return(resultado)"
   ]
  },
  {
   "cell_type": "code",
   "execution_count": 73,
   "id": "74f4d1f1",
   "metadata": {},
   "outputs": [],
   "source": [
    "# Asigno grupo a la entidad - en df de pacs\n",
    "df_agg_pcac['grupo_entidad'] = df_agg_pcac.apply(lambda x: grupo_entidad(x['ruc_entidad'],tipoa,tipob,tipoc,tipod,tipoe), axis = 1)"
   ]
  },
  {
   "cell_type": "code",
   "execution_count": 74,
   "id": "26b933b5",
   "metadata": {},
   "outputs": [],
   "source": [
    "# Selecciono columnas relevantes para la bandera a construir\n",
    "df_bandera_1 = df_agg_pcac[['anio','codigoconvocatoria','fecha_convocatoria','ruc_entidad','grupo_entidad','entidad','max_version']]"
   ]
  },
  {
   "cell_type": "code",
   "execution_count": 75,
   "id": "681dfbae",
   "metadata": {},
   "outputs": [],
   "source": [
    "# Me quedo solo con 2021 para que tarde menos en correr el proceso\n",
    "df_bandera_1 = df_bandera_1.loc[df_bandera_1['anio'] == '2021']"
   ]
  },
  {
   "cell_type": "code",
   "execution_count": 76,
   "id": "0dfbfce3",
   "metadata": {},
   "outputs": [],
   "source": [
    "# Asigno grupo a la entidad - en df de bandera\n",
    "df_bandera_1['grupo_entidad'] = df_bandera_1.apply(lambda x: grupo_entidad(x['ruc_entidad'],tipoa,tipob,tipoc,tipod,tipoe), axis = 1)\n"
   ]
  },
  {
   "cell_type": "code",
   "execution_count": 77,
   "id": "0f1ca5a8",
   "metadata": {},
   "outputs": [],
   "source": [
    "# Selecciono anio de presentacion de PAC a considerar\n",
    "def seleccion_anio_pac(df,anio):\n",
    "    '''\n",
    "    Filtra dataframe que contiene data de PAC, filtrando por el anio de presentacion de PAC\n",
    "    \n",
    "    Params\n",
    "    ------\n",
    "    df (dataframe): Dataframe que contiene anio de presentacion de PAC\n",
    "    anio (string): Anio en que se presento el PAC\n",
    "    \n",
    "    Returns\n",
    "    ------\n",
    "    df (dataframe) : Dataframe filtrado para el anio que se quiere analizar\n",
    "    '''\n",
    "    \n",
    "    df = df.loc[df['anio'] == anio]\n",
    "    return(df)"
   ]
  },
  {
   "cell_type": "code",
   "execution_count": 78,
   "id": "14309ef0",
   "metadata": {},
   "outputs": [],
   "source": [
    "# Me quedo solo con las PAC del anio que quiero considerar\n",
    "df_agg_pcac_2020 = seleccion_anio_pac(df_agg_pcac,'2020')"
   ]
  },
  {
   "cell_type": "code",
   "execution_count": 79,
   "id": "fa5e9f93",
   "metadata": {},
   "outputs": [],
   "source": [
    "# Calculo media y std para cada grupo\n",
    "grupos_desc = df_agg_pcac_2020.groupby('grupo_entidad',as_index = False)[['grupo_entidad','max_version']].agg(['mean','std'])"
   ]
  },
  {
   "cell_type": "code",
   "execution_count": 80,
   "id": "86d36d3c",
   "metadata": {},
   "outputs": [],
   "source": [
    "# Flatten del hierarchie column index\n",
    "grupos_desc.columns = [' '.join(col).strip() for col in grupos_desc.columns.values]"
   ]
  },
  {
   "cell_type": "code",
   "execution_count": 81,
   "id": "fd87c60b",
   "metadata": {},
   "outputs": [],
   "source": [
    "# Convierto index a columna (grupo)\n",
    "grupos_desc.reset_index(level=0, inplace=True)"
   ]
  },
  {
   "cell_type": "code",
   "execution_count": 82,
   "id": "d7e5c88d",
   "metadata": {},
   "outputs": [],
   "source": [
    "# Renombro columnas\n",
    "grupos_desc = grupos_desc.rename(columns = {'max_version mean':'bandera_1_media_versionesPAC',\n",
    "                             'max_version std': 'bandera_1_std_versionesPAC'})"
   ]
  },
  {
   "cell_type": "code",
   "execution_count": 83,
   "id": "af8bc7e9",
   "metadata": {},
   "outputs": [],
   "source": [
    "# Calculo umbral(media + 2 * std)\n",
    "grupos_desc['bandera_1_umbral_versionesPAC'] = grupos_desc['bandera_1_media_versionesPAC'] + 2 * grupos_desc['bandera_1_std_versionesPAC']"
   ]
  },
  {
   "cell_type": "code",
   "execution_count": 84,
   "id": "5e76f870",
   "metadata": {},
   "outputs": [],
   "source": [
    "# Join de df bandera con desc por grupo\n",
    "df_bandera_1 = df_bandera_1.join(grupos_desc.set_index('grupo_entidad'),\n",
    "                                  on = 'grupo_entidad',\n",
    "                                  how = 'left')"
   ]
  },
  {
   "cell_type": "code",
   "execution_count": 85,
   "id": "ce8360f9",
   "metadata": {},
   "outputs": [],
   "source": [
    "# Genero bandera\n",
    "df_bandera_1['bandera_1'] = df_bandera_1.apply(lambda x: 'Si' if (x['max_version'] > x['bandera_1_umbral_versionesPAC'])\n",
    "                                              else 'No', axis = 1)"
   ]
  },
  {
   "cell_type": "code",
   "execution_count": 86,
   "id": "5ebc8aa5",
   "metadata": {},
   "outputs": [],
   "source": [
    "# Descriptive stats con decimales\n",
    "df_bandera_1[['bandera_1_media_versionesPAC','bandera_1_std_versionesPAC','bandera_1_umbral_versionesPAC']] = df_bandera_1[['bandera_1_media_versionesPAC','bandera_1_std_versionesPAC','bandera_1_umbral_versionesPAC']].applymap(\"{0:.2f}\".format)"
   ]
  },
  {
   "cell_type": "code",
   "execution_count": 87,
   "id": "577448ac",
   "metadata": {},
   "outputs": [],
   "source": [
    "# Renombro columnas\n",
    "df_bandera_1.rename(columns = {'max_version': 'bandera_1_version', 'grupo_entidad':'bandera_1_grupo_entidad'},\n",
    "                   inplace = True)"
   ]
  },
  {
   "cell_type": "code",
   "execution_count": 88,
   "id": "58b2b21a",
   "metadata": {},
   "outputs": [],
   "source": [
    "# End time de bandera\n",
    "end = datetime.datetime.now()\n",
    "\n",
    "# Calculo tiempo de procesamiento de bandera y agrego a DF\n",
    "tiempos = registro_tiempo_procesamiento('1',start,end, tiempos)"
   ]
  },
  {
   "cell_type": "markdown",
   "id": "f3a05545",
   "metadata": {},
   "source": [
    "### Bandera 2: Un ente tiene una alta proporción de contratación directa"
   ]
  },
  {
   "cell_type": "code",
   "execution_count": 97,
   "id": "9f6d0d14",
   "metadata": {},
   "outputs": [],
   "source": [
    "# Start time de bandera\n",
    "start = datetime.datetime.now()"
   ]
  },
  {
   "cell_type": "code",
   "execution_count": 98,
   "id": "d4e83891",
   "metadata": {},
   "outputs": [],
   "source": [
    "# Selecciono variables relevantes para la bandera\n",
    "df_bandera2 = df_agg_cac[['codigoconvocatoria','anio','fechaconvocatoria','tipoprocesoseleccion','ruc_entidad']]"
   ]
  },
  {
   "cell_type": "code",
   "execution_count": 99,
   "id": "fa0bf82a",
   "metadata": {},
   "outputs": [],
   "source": [
    "# Solo 2021\n",
    "df_bandera2 = df_bandera2.loc[df_bandera2['anio'] == '2021']"
   ]
  },
  {
   "cell_type": "code",
   "execution_count": 100,
   "id": "715798a8",
   "metadata": {},
   "outputs": [],
   "source": [
    "# Solo contratacion directa\n",
    "df_bandera2_cd = df_bandera2.loc[df_bandera2['tipoprocesoseleccion'] == 'Contratación Directa']\n",
    "df_bandera2_resto = df_bandera2.loc[df_bandera2['tipoprocesoseleccion'] != 'Contratación Directa']"
   ]
  },
  {
   "cell_type": "code",
   "execution_count": 101,
   "id": "b42a3a13",
   "metadata": {},
   "outputs": [],
   "source": [
    "def proporcion_contrataciondirecta_itemcubso_ente(codigoconvocatoria,fechaconvocatoria, ruc_entidad,convocatorias, months = 12):\n",
    "    # 1. Genero lista con items de la convocatoria analizada - excluyendo codigoitem null\n",
    "    items_convocatoria = convocatorias.loc[(convocatorias['codigoconvocatoria'] == codigoconvocatoria) & (pd.notnull(convocatorias['codigoitem']))]['codigoitem'].unique()\n",
    "    if len(items_convocatoria) == 0:\n",
    "        diccionario = {}\n",
    "        diccionario[f'Entidad {ruc_entidad}'] = f'Codigos de item cubso nulos'\n",
    "    else:\n",
    "        diccionario = {}\n",
    "        # 2. Filtro tabla convocatoria para ventana temporal a analizar\n",
    "        fecha_inicio = fechaconvocatoria - pd.DateOffset(months=months)\n",
    "        df = convocatorias.loc[(convocatorias['fecha_convocatoria'] < fechaconvocatoria) & (convocatorias['fecha_convocatoria'] > fecha_inicio)] # filtro ventana temporal\n",
    "        # 3. Check si la entidad esta en la ventana temporal\n",
    "        ruc_entidad = int(ruc_entidad)\n",
    "        df_entidad = df.loc[df['ruc_entidad'] == ruc_entidad]\n",
    "        \n",
    "        if df_entidad.empty: #si la entidad no esta en las convocatorias de ultimos 12 meses\n",
    "            diccionario = {}\n",
    "            diccionario[f'Entidad {ruc_entidad}'] = 'Entidad no tiene convocatorias en la ventana consultada'\n",
    "\n",
    "        else: # Si la entidad esta en las conv de ult 12 meses, recorro cada item de la convocatoria\n",
    "            for item in items_convocatoria:\n",
    "                # Filtro df de convocatorias de ventana para ver el item en analisis\n",
    "                df_item = df.loc[df['codigoitem'] == item]\n",
    "                # Calculo cantidad de convocatorias para cada entidad y proceso de seleccion\n",
    "                agg_df = df_item.groupby(['ruc_entidad','tipoprocesoseleccion'],as_index = False).count()[['ruc_entidad','tipoprocesoseleccion','codigoconvocatoria']].rename(columns = {'codigoconvocatoria':'cantidad'})\n",
    "                # Calculo % que cada proceso de seleccion representa para cada entidad\n",
    "                agg_df['porcentaje'] = (agg_df.cantidad*1.0 / agg_df.cantidad.sum())*100\n",
    "                # Me quedo solo con los procesos de contratacion directa\n",
    "                agg_df_contratacion_directa = agg_df.loc[agg_df['tipoprocesoseleccion'] == 'Contratación Directa']\n",
    "                # Me quedo solo con los procesos de contratacion directa de este ente\n",
    "                agg_df_contratacion_directa_ente = agg_df.loc[agg_df['ruc_entidad'] == ruc_entidad]\n",
    "                if  agg_df_contratacion_directa.empty: # No hay convocatorias de ese item\n",
    "                    diccionario[f'itemcubso {item}'] = f'Entidad no tiene convocatorias de item {item} en la ventana consultada'\n",
    "                elif agg_df_contratacion_directa_ente.empty: # No hay contratcion directa\n",
    "                    diccionario[f'itemcubso {item}'] = f'Entidad no tiene convocatorias de contratación directa del item {item} en la ventana consultada'\n",
    "                elif min(agg_df_contratacion_directa['porcentaje']) >= 90: # mercado no competitivo - \n",
    "                    diccionario[f'itemcubso {item}'] = f'Item {item} Mercado no competitivo'\n",
    "                else:\n",
    "                    media = agg_df_contratacion_directa['porcentaje'].mean()\n",
    "                    std = agg_df_contratacion_directa['porcentaje'].std() \n",
    "                    umbral = agg_df_contratacion_directa['porcentaje'].mean() + 2 * agg_df_contratacion_directa['porcentaje'].std()  \n",
    "                    porcentaje_ente = agg_df_contratacion_directa_ente['porcentaje'].values[0]\n",
    "                    if porcentaje_ente > umbral:\n",
    "                        diccionario[f'itemcubso {item}'] = {'Media': round(media,2), 'Std': round(std,2), 'Umbral': round(umbral,2), 'Porcentaje_ente': round(porcentaje_ente,2)}\n",
    "                    else:\n",
    "                        diccionario[f'itemcubso {item}'] = 'Ok: Porcentaje < +2STD'\n",
    "    return (diccionario)\n",
    "        "
   ]
  },
  {
   "cell_type": "code",
   "execution_count": 102,
   "id": "04520119",
   "metadata": {
    "scrolled": false
   },
   "outputs": [
    {
     "name": "stderr",
     "output_type": "stream",
     "text": [
      "<ipython-input-102-a0a487faf8aa>:1: SettingWithCopyWarning: \n",
      "A value is trying to be set on a copy of a slice from a DataFrame.\n",
      "Try using .loc[row_indexer,col_indexer] = value instead\n",
      "\n",
      "See the caveats in the documentation: https://pandas.pydata.org/pandas-docs/stable/user_guide/indexing.html#returning-a-view-versus-a-copy\n",
      "  df_bandera2_cd['bandera2_ente_%contrdirecta_item_mayor_2SD']= df_bandera2_cd.apply(lambda x: proporcion_contrataciondirecta_itemcubso_ente(x['codigoconvocatoria'],\n"
     ]
    }
   ],
   "source": [
    "df_bandera2_cd['bandera2_ente_%contrdirecta_item_mayor_2SD']= df_bandera2_cd.apply(lambda x: proporcion_contrataciondirecta_itemcubso_ente(x['codigoconvocatoria'],\n",
    "                                                                                                               x['fechaconvocatoria'], \n",
    "                                                                                                               x['ruc_entidad'],\n",
    "                                                                                                               convocatorias, \n",
    "                                                                                                               months = 12)\n",
    "                                                       , axis = 1)\n",
    "\n"
   ]
  },
  {
   "cell_type": "code",
   "execution_count": 103,
   "id": "ab402a1f",
   "metadata": {},
   "outputs": [],
   "source": [
    "def generar_bandera_2 (atributo):\n",
    "    atributo = str(atributo.values())\n",
    "    if 'Porcentaje_ente' in atributo:\n",
    "        resultado = 'Si'\n",
    "    elif 'Codigos de item cubso nulos' in atributo:\n",
    "        resultado = 'No aplica'\n",
    "    elif 'Entidad no tiene' in atributo:\n",
    "        resultado = 'No aplica'\n",
    "    elif 'Mercado no competitivo' in atributo:\n",
    "        resultado = 'No aplica'\n",
    "    elif 'Ok:' in atributo:\n",
    "        resultado = 'No'\n",
    "    else:\n",
    "        resultado = None\n",
    "    return(resultado)"
   ]
  },
  {
   "cell_type": "code",
   "execution_count": 104,
   "id": "c2aceda2",
   "metadata": {},
   "outputs": [
    {
     "name": "stderr",
     "output_type": "stream",
     "text": [
      "<ipython-input-104-2ce31e9aaed2>:2: SettingWithCopyWarning: \n",
      "A value is trying to be set on a copy of a slice from a DataFrame.\n",
      "Try using .loc[row_indexer,col_indexer] = value instead\n",
      "\n",
      "See the caveats in the documentation: https://pandas.pydata.org/pandas-docs/stable/user_guide/indexing.html#returning-a-view-versus-a-copy\n",
      "  df_bandera2_cd['bandera_2'] = df_bandera2_cd.apply(lambda x: generar_bandera_2(x['bandera2_ente_%contrdirecta_item_mayor_2SD']), axis = 1)\n"
     ]
    }
   ],
   "source": [
    "# Genero bandera\n",
    "df_bandera2_cd['bandera_2'] = df_bandera2_cd.apply(lambda x: generar_bandera_2(x['bandera2_ente_%contrdirecta_item_mayor_2SD']), axis = 1)"
   ]
  },
  {
   "cell_type": "code",
   "execution_count": 105,
   "id": "2f359c7a",
   "metadata": {},
   "outputs": [
    {
     "name": "stderr",
     "output_type": "stream",
     "text": [
      "<ipython-input-105-30e59fb3e5cc>:2: SettingWithCopyWarning: \n",
      "A value is trying to be set on a copy of a slice from a DataFrame.\n",
      "Try using .loc[row_indexer,col_indexer] = value instead\n",
      "\n",
      "See the caveats in the documentation: https://pandas.pydata.org/pandas-docs/stable/user_guide/indexing.html#returning-a-view-versus-a-copy\n",
      "  df_bandera2_cd['bandera2_ente_%contrdirecta_item_mayor_2SD'] = df_bandera2_cd.apply(lambda x: None if x['bandera_2'] == 'No' else x['bandera2_ente_%contrdirecta_item_mayor_2SD'], axis = 1)\n"
     ]
    }
   ],
   "source": [
    "# Los casos ok pongo en null el atributo\n",
    "df_bandera2_cd['bandera2_ente_%contrdirecta_item_mayor_2SD'] = df_bandera2_cd.apply(lambda x: None if x['bandera_2'] == 'No' else x['bandera2_ente_%contrdirecta_item_mayor_2SD'], axis = 1)"
   ]
  },
  {
   "cell_type": "code",
   "execution_count": 106,
   "id": "2176c68a",
   "metadata": {},
   "outputs": [
    {
     "name": "stderr",
     "output_type": "stream",
     "text": [
      "<ipython-input-106-1ad581140bb4>:2: SettingWithCopyWarning: \n",
      "A value is trying to be set on a copy of a slice from a DataFrame.\n",
      "Try using .loc[row_indexer,col_indexer] = value instead\n",
      "\n",
      "See the caveats in the documentation: https://pandas.pydata.org/pandas-docs/stable/user_guide/indexing.html#returning-a-view-versus-a-copy\n",
      "  df_bandera2_resto['bandera2_ente_%contrdirecta_item_mayor_2SD'] = None\n",
      "<ipython-input-106-1ad581140bb4>:3: SettingWithCopyWarning: \n",
      "A value is trying to be set on a copy of a slice from a DataFrame.\n",
      "Try using .loc[row_indexer,col_indexer] = value instead\n",
      "\n",
      "See the caveats in the documentation: https://pandas.pydata.org/pandas-docs/stable/user_guide/indexing.html#returning-a-view-versus-a-copy\n",
      "  df_bandera2_resto['bandera_2'] = 'No aplica'\n"
     ]
    }
   ],
   "source": [
    "# Concat con resto de procesos\n",
    "df_bandera2_resto['bandera2_ente_%contrdirecta_item_mayor_2SD'] = None\n",
    "df_bandera2_resto['bandera_2'] = 'No aplica'\n",
    "\n",
    "df_bandera2 = pd.concat([df_bandera2_cd,df_bandera2_resto])"
   ]
  },
  {
   "cell_type": "code",
   "execution_count": 107,
   "id": "f8bac32d",
   "metadata": {},
   "outputs": [],
   "source": [
    "# End time de bandera\n",
    "end = datetime.datetime.now()\n",
    "\n",
    "# Calculo tiempo de procesamiento de bandera y agrego a DF\n",
    "tiempos = registro_tiempo_procesamiento('2',start,end, tiempos)"
   ]
  },
  {
   "cell_type": "markdown",
   "id": "73dd5cf0",
   "metadata": {},
   "source": [
    "### Bandera 3: El número de días entre  fecha de convocatoria y fecha de presentación de propuestas es inferior al marcado en legislación"
   ]
  },
  {
   "cell_type": "code",
   "execution_count": 118,
   "id": "e90c4d85",
   "metadata": {},
   "outputs": [],
   "source": [
    "# Start time de bandera\n",
    "start = datetime.datetime.now()"
   ]
  },
  {
   "cell_type": "code",
   "execution_count": 119,
   "id": "d3d4626f",
   "metadata": {},
   "outputs": [
    {
     "name": "stderr",
     "output_type": "stream",
     "text": [
      "/Users/mac/anaconda3/envs/IDB/lib/python3.8/site-packages/pandas/core/series.py:4517: SettingWithCopyWarning: \n",
      "A value is trying to be set on a copy of a slice from a DataFrame\n",
      "\n",
      "See the caveats in the documentation: https://pandas.pydata.org/pandas-docs/stable/user_guide/indexing.html#returning-a-view-versus-a-copy\n",
      "  return super().fillna(\n",
      "<ipython-input-119-60681d7a4748>:9: SettingWithCopyWarning: \n",
      "A value is trying to be set on a copy of a slice from a DataFrame.\n",
      "Try using .loc[row_indexer,col_indexer] = value instead\n",
      "\n",
      "See the caveats in the documentation: https://pandas.pydata.org/pandas-docs/stable/user_guide/indexing.html#returning-a-view-versus-a-copy\n",
      "  df_bandera_3['bandera_3_dif_convocatoria_presentacionpropuestas'] = np.busday_count(df_bandera_3['fechaconvocatoria'].values.astype('datetime64[D]'),\n",
      "<ipython-input-119-60681d7a4748>:14: SettingWithCopyWarning: \n",
      "A value is trying to be set on a copy of a slice from a DataFrame.\n",
      "Try using .loc[row_indexer,col_indexer] = value instead\n",
      "\n",
      "See the caveats in the documentation: https://pandas.pydata.org/pandas-docs/stable/user_guide/indexing.html#returning-a-view-versus-a-copy\n",
      "  df_bandera_3['bandera_3_dif_convocatoria_presentacionpropuestas'] = df_bandera_3.apply(lambda x: None if x['fechapresentacionpropuesta'] == '1900-01-01' or x['fechaconvocatoria'] == '1900-01-01'\n"
     ]
    }
   ],
   "source": [
    "# Selecciono columnas relevantes para la bandera a construir\n",
    "df_bandera_3 = df_agg_cac[['anio','codigoconvocatoria','tipoprocesoseleccion','fechaconvocatoria','fechapresentacionpropuesta']]\n",
    "\n",
    "# Calculo diferencia de dias entre fechas\n",
    "df_bandera_3['fechapresentacionpropuesta'].fillna('1900-01-01', inplace=True) # nan a 1900 para poder computar np.busday\n",
    "df_bandera_3['fechaconvocatoria'].fillna('1900-01-01', inplace=True) # nan a 1900 para poder computar np.busday\n",
    "\n",
    "# Calculo diferencia de dias entre fechas excluyendo fin de semanas y feriados\n",
    "df_bandera_3['bandera_3_dif_convocatoria_presentacionpropuestas'] = np.busday_count(df_bandera_3['fechaconvocatoria'].values.astype('datetime64[D]'),\n",
    "                                       df_bandera_3['fechapresentacionpropuesta'].values.astype('datetime64[D]'), \n",
    "                                      holidays = fecha_feriados)\n",
    "\n",
    "# Asigno NA a los casos en los que fecha convocatoria y/o fechapresentacionpropuesta es null\n",
    "df_bandera_3['bandera_3_dif_convocatoria_presentacionpropuestas'] = df_bandera_3.apply(lambda x: None if x['fechapresentacionpropuesta'] == '1900-01-01' or x['fechaconvocatoria'] == '1900-01-01'\n",
    "                                                                                      else x['bandera_3_dif_convocatoria_presentacionpropuestas'], axis = 1)"
   ]
  },
  {
   "cell_type": "code",
   "execution_count": 120,
   "id": "06872646",
   "metadata": {},
   "outputs": [],
   "source": [
    "# Defino cantidad de dias de acuerdo a tipo de proceso\n",
    "def bandera_3_umbral_dias(tipoprocesoseleccion):\n",
    "    \"\"\"\n",
    "    Determina cantidad de dias máximos que pueden transcurrir entre fecha de convocatoria y fecha de presentación de propuesta\n",
    "    de acuerdo al tipo de proceso de selección\n",
    "    \n",
    "    Params\n",
    "    ------\n",
    "    tipoprocesoseleccion(string): Tipo de proceso de seleccion de la convocatoria, por ejemplo 'Adjudicación Simplificada'\n",
    "    \n",
    "    Returns\n",
    "    -------\n",
    "    Cantidad de días máximos que pueden transcurrir entre fecha de convocatoria y fecha de presentación de propuesta\n",
    "    dado el tipo de proceso de selección\n",
    "    \n",
    "    \"\"\"\n",
    "    if tipoprocesoseleccion == 'Adjudicación Simplificada':\n",
    "        resultado = 3\n",
    "    elif tipoprocesoseleccion == 'Licitación Pública':\n",
    "        resultado = 22\n",
    "    elif tipoprocesoseleccion == 'Concurso Público':\n",
    "        resultado = 22\n",
    "    else:\n",
    "        resultado = None\n",
    "    return(resultado)"
   ]
  },
  {
   "cell_type": "code",
   "execution_count": 121,
   "id": "441ae02d",
   "metadata": {},
   "outputs": [
    {
     "name": "stderr",
     "output_type": "stream",
     "text": [
      "<ipython-input-121-896b831228b6>:2: SettingWithCopyWarning: \n",
      "A value is trying to be set on a copy of a slice from a DataFrame.\n",
      "Try using .loc[row_indexer,col_indexer] = value instead\n",
      "\n",
      "See the caveats in the documentation: https://pandas.pydata.org/pandas-docs/stable/user_guide/indexing.html#returning-a-view-versus-a-copy\n",
      "  df_bandera_3['bandera_3_umbral'] = df_bandera_3.apply(lambda x: bandera_3_umbral_dias(x['tipoprocesoseleccion']), axis = 1)\n"
     ]
    }
   ],
   "source": [
    "# Agrego columna que indica umbral\n",
    "df_bandera_3['bandera_3_umbral'] = df_bandera_3.apply(lambda x: bandera_3_umbral_dias(x['tipoprocesoseleccion']), axis = 1)"
   ]
  },
  {
   "cell_type": "code",
   "execution_count": 122,
   "id": "7e5edcef",
   "metadata": {},
   "outputs": [],
   "source": [
    "# listo los procesos a los que no aplica ningun umbral\n",
    "procesos_noaplica = ['Contratación Directa','Subasta Inversa Electrónica','Comparación de Precios']"
   ]
  },
  {
   "cell_type": "code",
   "execution_count": 123,
   "id": "13d64b1d",
   "metadata": {},
   "outputs": [
    {
     "name": "stderr",
     "output_type": "stream",
     "text": [
      "<ipython-input-123-37caa7c4e0d7>:2: SettingWithCopyWarning: \n",
      "A value is trying to be set on a copy of a slice from a DataFrame.\n",
      "Try using .loc[row_indexer,col_indexer] = value instead\n",
      "\n",
      "See the caveats in the documentation: https://pandas.pydata.org/pandas-docs/stable/user_guide/indexing.html#returning-a-view-versus-a-copy\n",
      "  df_bandera_3['bandera_3'] = df_bandera_3.apply(lambda x: 'Si'\n"
     ]
    }
   ],
   "source": [
    "# Computo bandera 3\n",
    "df_bandera_3['bandera_3'] = df_bandera_3.apply(lambda x: 'Si' \n",
    "                                               if x['bandera_3_dif_convocatoria_presentacionpropuestas'] < x['bandera_3_umbral'] \n",
    "                                               else ('No aplica' if x['tipoprocesoseleccion'] in procesos_noaplica else'No'), \n",
    "                                               axis = 1)"
   ]
  },
  {
   "cell_type": "code",
   "execution_count": 124,
   "id": "71d9517e",
   "metadata": {},
   "outputs": [
    {
     "name": "stderr",
     "output_type": "stream",
     "text": [
      "<ipython-input-124-c5455144e752>:2: SettingWithCopyWarning: \n",
      "A value is trying to be set on a copy of a slice from a DataFrame.\n",
      "Try using .loc[row_indexer,col_indexer] = value instead\n",
      "\n",
      "See the caveats in the documentation: https://pandas.pydata.org/pandas-docs/stable/user_guide/indexing.html#returning-a-view-versus-a-copy\n",
      "  df_bandera_3['bandera_3'] = np.where(df_bandera_3['bandera_3_dif_convocatoria_presentacionpropuestas'] < -10000,\n",
      "<ipython-input-124-c5455144e752>:6: SettingWithCopyWarning: \n",
      "A value is trying to be set on a copy of a slice from a DataFrame.\n",
      "Try using .loc[row_indexer,col_indexer] = value instead\n",
      "\n",
      "See the caveats in the documentation: https://pandas.pydata.org/pandas-docs/stable/user_guide/indexing.html#returning-a-view-versus-a-copy\n",
      "  df_bandera_3['bandera_3_dif_convocatoria_presentacionpropuestas'] = np.where(df_bandera_3['bandera_3_dif_convocatoria_presentacionpropuestas'] < -10000,\n"
     ]
    }
   ],
   "source": [
    "# Asigno No aplica al campo de bandera para los casos en que presentacion propuesta es de 1900\n",
    "df_bandera_3['bandera_3'] = np.where(df_bandera_3['bandera_3_dif_convocatoria_presentacionpropuestas'] < -10000,\n",
    "                                     'No aplica', df_bandera_3['bandera_3'])\n",
    "\n",
    "# Asigno null al campo de atributo para los casos en que presentacion propuesta es de 1900\n",
    "df_bandera_3['bandera_3_dif_convocatoria_presentacionpropuestas'] = np.where(df_bandera_3['bandera_3_dif_convocatoria_presentacionpropuestas'] < -10000,\n",
    "                                     None, df_bandera_3['bandera_3_dif_convocatoria_presentacionpropuestas'])\n"
   ]
  },
  {
   "cell_type": "code",
   "execution_count": 126,
   "id": "ea87e09f",
   "metadata": {},
   "outputs": [],
   "source": [
    "# End time de bandera\n",
    "end = datetime.datetime.now()\n",
    "\n",
    "# Calculo tiempo de procesamiento de bandera y agrego a DF\n",
    "tiempos = registro_tiempo_procesamiento('3',start,end, tiempos)"
   ]
  },
  {
   "cell_type": "markdown",
   "id": "183ca915",
   "metadata": {},
   "source": [
    "### Bandera 3a: El número de días entre fecha de convocatoria y fecha de presentación de propuestas es demasiado largo"
   ]
  },
  {
   "cell_type": "code",
   "execution_count": 135,
   "id": "90fcf651",
   "metadata": {},
   "outputs": [],
   "source": [
    "# Start time de bandera\n",
    "start = datetime.datetime.now()"
   ]
  },
  {
   "cell_type": "code",
   "execution_count": 136,
   "id": "16e63fd3",
   "metadata": {},
   "outputs": [
    {
     "name": "stderr",
     "output_type": "stream",
     "text": [
      "/Users/mac/anaconda3/envs/IDB/lib/python3.8/site-packages/pandas/core/series.py:4517: SettingWithCopyWarning: \n",
      "A value is trying to be set on a copy of a slice from a DataFrame\n",
      "\n",
      "See the caveats in the documentation: https://pandas.pydata.org/pandas-docs/stable/user_guide/indexing.html#returning-a-view-versus-a-copy\n",
      "  return super().fillna(\n",
      "<ipython-input-136-adef28ff2cd8>:9: SettingWithCopyWarning: \n",
      "A value is trying to be set on a copy of a slice from a DataFrame.\n",
      "Try using .loc[row_indexer,col_indexer] = value instead\n",
      "\n",
      "See the caveats in the documentation: https://pandas.pydata.org/pandas-docs/stable/user_guide/indexing.html#returning-a-view-versus-a-copy\n",
      "  df_bandera_3a['bandera_3a_dif_convocatoria_presentacionpropuestas'] = np.busday_count(df_bandera_3a['fechaconvocatoria'].values.astype('datetime64[D]'),\n",
      "<ipython-input-136-adef28ff2cd8>:14: SettingWithCopyWarning: \n",
      "A value is trying to be set on a copy of a slice from a DataFrame.\n",
      "Try using .loc[row_indexer,col_indexer] = value instead\n",
      "\n",
      "See the caveats in the documentation: https://pandas.pydata.org/pandas-docs/stable/user_guide/indexing.html#returning-a-view-versus-a-copy\n",
      "  df_bandera_3a['bandera_3a_dif_convocatoria_presentacionpropuestas'] = df_bandera_3a.apply(lambda x: None if x['fechapresentacionpropuesta'] == '1900-01-01' or x['fechaconvocatoria'] == '1900-01-01'\n",
      "<ipython-input-136-adef28ff2cd8>:18: SettingWithCopyWarning: \n",
      "A value is trying to be set on a copy of a slice from a DataFrame.\n",
      "Try using .loc[row_indexer,col_indexer] = value instead\n",
      "\n",
      "See the caveats in the documentation: https://pandas.pydata.org/pandas-docs/stable/user_guide/indexing.html#returning-a-view-versus-a-copy\n",
      "  df_bandera_3a['bandera_3a_dif_convocatoria_presentacionpropuestas'] = df_bandera_3a.apply(lambda x: None if x['bandera_3a_dif_convocatoria_presentacionpropuestas'] < 0\n"
     ]
    }
   ],
   "source": [
    "# Selecciono columnas relevantes para la bandera a construir\n",
    "df_bandera_3a = df_agg_cac[['anio','codigoconvocatoria','tipoprocesoseleccion','fechaconvocatoria','fechapresentacionpropuesta']]\n",
    "\n",
    "# Calculo diferencia de dias entre fechas\n",
    "df_bandera_3a['fechapresentacionpropuesta'].fillna('1900-01-01', inplace=True) # nan a 1900 para poder computar np.busday\n",
    "df_bandera_3a['fechaconvocatoria'].fillna('1900-01-01', inplace=True) # nan a 1900 para poder computar np.busday\n",
    "\n",
    "# Calculo diferencia de dias entre fechas excluyendo fin de semanas y feriados\n",
    "df_bandera_3a['bandera_3a_dif_convocatoria_presentacionpropuestas'] = np.busday_count(df_bandera_3a['fechaconvocatoria'].values.astype('datetime64[D]'),\n",
    "                                       df_bandera_3a['fechapresentacionpropuesta'].values.astype('datetime64[D]'), \n",
    "                                      holidays = fecha_feriados)\n",
    "\n",
    "# Asigno NA a los casos en los que fecha convocatoria y/o fechapresentacionpropuesta es null\n",
    "df_bandera_3a['bandera_3a_dif_convocatoria_presentacionpropuestas'] = df_bandera_3a.apply(lambda x: None if x['fechapresentacionpropuesta'] == '1900-01-01' or x['fechaconvocatoria'] == '1900-01-01'\n",
    "                                                                                      else x['bandera_3a_dif_convocatoria_presentacionpropuestas'], axis = 1)\n",
    "\n",
    "# Reemplazo por null a la diferencia de dias negativa:\n",
    "df_bandera_3a['bandera_3a_dif_convocatoria_presentacionpropuestas'] = df_bandera_3a.apply(lambda x: None if x['bandera_3a_dif_convocatoria_presentacionpropuestas'] < 0 \n",
    "                                                                                      else x['bandera_3a_dif_convocatoria_presentacionpropuestas'], axis = 1)\n"
   ]
  },
  {
   "cell_type": "code",
   "execution_count": 137,
   "id": "07e0019e",
   "metadata": {
    "scrolled": true
   },
   "outputs": [],
   "source": [
    "def estadisticas_dif_dias(fechaconvocatoria,tipoprocesoseleccion,df, months = 12):\n",
    "    # Selecciono convocatorias de tipo de proceso de la convocatoria\n",
    "    fecha_inicio = fechaconvocatoria - pd.DateOffset(months=months)\n",
    "    df_convocatorias = df.loc[df['tipoprocesoseleccion']== tipoprocesoseleccion] # filtro proceso seleccion \n",
    "    df_convocatorias = df_convocatorias.loc[(df_convocatorias['fechaconvocatoria'] < fechaconvocatoria) & (df_convocatorias['fechaconvocatoria'] > fecha_inicio)] # filtro ventana temporal\n",
    "    media = round(df_convocatorias['bandera_3a_dif_convocatoria_presentacionpropuestas'].mean(),2)\n",
    "    std = round(df_convocatorias['bandera_3a_dif_convocatoria_presentacionpropuestas'].std(),2)\n",
    "    umbral = round(df_convocatorias['bandera_3a_dif_convocatoria_presentacionpropuestas'].mean() + 2 * df_convocatorias['bandera_3a_dif_convocatoria_presentacionpropuestas'].std(),2)\n",
    "    \n",
    "    return(pd.Series([media,std,umbral]))"
   ]
  },
  {
   "cell_type": "code",
   "execution_count": 138,
   "id": "21c89a6e",
   "metadata": {
    "scrolled": true
   },
   "outputs": [
    {
     "name": "stderr",
     "output_type": "stream",
     "text": [
      "/Users/mac/anaconda3/envs/IDB/lib/python3.8/site-packages/pandas/core/frame.py:3065: SettingWithCopyWarning: \n",
      "A value is trying to be set on a copy of a slice from a DataFrame.\n",
      "Try using .loc[row_indexer,col_indexer] = value instead\n",
      "\n",
      "See the caveats in the documentation: https://pandas.pydata.org/pandas-docs/stable/user_guide/indexing.html#returning-a-view-versus-a-copy\n",
      "  self[k1] = value[k2]\n"
     ]
    }
   ],
   "source": [
    "df_bandera_3a[['bandera_3a_media','bandera_3a_std','bandera_3a_umbral']] = df_bandera_3a.apply(lambda x: estadisticas_dif_dias(x['fechaconvocatoria'],\n",
    "                                                                          x['tipoprocesoseleccion'],\n",
    "                                                                          df_bandera_3a, 12), axis = 1)"
   ]
  },
  {
   "cell_type": "code",
   "execution_count": 139,
   "id": "31a3b894",
   "metadata": {},
   "outputs": [
    {
     "name": "stderr",
     "output_type": "stream",
     "text": [
      "<ipython-input-139-dc580c265208>:1: SettingWithCopyWarning: \n",
      "A value is trying to be set on a copy of a slice from a DataFrame.\n",
      "Try using .loc[row_indexer,col_indexer] = value instead\n",
      "\n",
      "See the caveats in the documentation: https://pandas.pydata.org/pandas-docs/stable/user_guide/indexing.html#returning-a-view-versus-a-copy\n",
      "  df_bandera_3a['bandera_3a'] = df_bandera_3a.apply(lambda x: 'Si' if x['bandera_3a_dif_convocatoria_presentacionpropuestas']> x['bandera_3a_umbral'] else 'No', axis = 1)\n"
     ]
    }
   ],
   "source": [
    "df_bandera_3a['bandera_3a'] = df_bandera_3a.apply(lambda x: 'Si' if x['bandera_3a_dif_convocatoria_presentacionpropuestas']> x['bandera_3a_umbral'] else 'No', axis = 1)"
   ]
  },
  {
   "cell_type": "code",
   "execution_count": 140,
   "id": "1aff47aa",
   "metadata": {},
   "outputs": [],
   "source": [
    "# End time de bandera\n",
    "end = datetime.datetime.now()\n",
    "\n",
    "# Calculo tiempo de procesamiento de bandera y agrego a DF\n",
    "tiempos = registro_tiempo_procesamiento('3a',start,end, tiempos)"
   ]
  },
  {
   "cell_type": "markdown",
   "id": "d0469d63",
   "metadata": {},
   "source": [
    "### Bandera 4:  No se dispone de la información sobre el postor (la convocatoria no cuenta con postores) de una convocatoria adjudicada"
   ]
  },
  {
   "cell_type": "code",
   "execution_count": 149,
   "id": "7021e1f6",
   "metadata": {},
   "outputs": [],
   "source": [
    "# Start time de bandera\n",
    "start = datetime.datetime.now()"
   ]
  },
  {
   "cell_type": "code",
   "execution_count": 150,
   "id": "f5be738a",
   "metadata": {},
   "outputs": [],
   "source": [
    "# Creacion bandera\n",
    "df_bandera_4 = df_agg_cac[['codigoconvocatoria','adjudicada']]\\\n",
    "               .join(postores_agg[['codigo_convocatoria','cant_ruc_codigo_postor']]\\\n",
    "               .set_index('codigo_convocatoria'),\n",
    "                    on = 'codigoconvocatoria',\n",
    "                    how = 'left')\n",
    "df_bandera_4['bandera_4'] = df_bandera_4.apply(lambda x: \"No\" if x['cant_ruc_codigo_postor']>= 1 else \"Si\", axis = 1)\n",
    "df_bandera_4 = df_bandera_4.rename(columns = {'cant_ruc_codigo_postor':'bandera_4_cantidad_ruc_postores',\n",
    "                                             'adjudicada': 'bandera_4_adjudicada'})"
   ]
  },
  {
   "cell_type": "code",
   "execution_count": 151,
   "id": "0d5f1a55",
   "metadata": {},
   "outputs": [],
   "source": [
    "# End time de bandera\n",
    "end = datetime.datetime.now()\n",
    "\n",
    "# Calculo tiempo de procesamiento de bandera y agrego a DF\n",
    "tiempos = registro_tiempo_procesamiento('4',start,end, tiempos)"
   ]
  },
  {
   "cell_type": "markdown",
   "id": "2c2b3c9e",
   "metadata": {},
   "source": [
    "### Bandera 4a: Número de participantes es mayor que el número de postores\n"
   ]
  },
  {
   "cell_type": "code",
   "execution_count": 152,
   "id": "d6ddac99",
   "metadata": {},
   "outputs": [],
   "source": [
    "# Start time de bandera\n",
    "start = datetime.datetime.now()"
   ]
  },
  {
   "cell_type": "code",
   "execution_count": 153,
   "id": "a74371ec",
   "metadata": {},
   "outputs": [],
   "source": [
    "# Creacion bandera\n",
    "df_bandera_4a = df_agg_cac[['anio','codigoconvocatoria','fechaconvocatoria','tipoprocesoseleccion']]\\\n",
    "               .join(postores_agg[['codigo_convocatoria','cant_ruc_codigo_postor']]\\\n",
    "               .set_index('codigo_convocatoria'),\n",
    "                    on = 'codigoconvocatoria',\n",
    "                    how = 'left')\\\n",
    "               .join(participantes_agg[['codigoconvocatoria','cant_rucparticipante']]\\\n",
    "                    .set_index('codigoconvocatoria'),\n",
    "                    on ='codigoconvocatoria',\n",
    "                    how = 'left')\n",
    "\n",
    "df_bandera_4a['ratio_postor_participante'] = round((df_bandera_4a['cant_ruc_codigo_postor'] * 1.00 / df_bandera_4a['cant_rucparticipante'] * 1.00 )* 100,2)\n",
    "# 0 a los que no pudo hacer join\n",
    "#df_bandera_4a.fillna(0,inplace = True) # reemplaz por null"
   ]
  },
  {
   "cell_type": "code",
   "execution_count": 154,
   "id": "3e05c33f",
   "metadata": {},
   "outputs": [],
   "source": [
    "def bandera4a_calcular_media_dosSD(df, tipoprocesoseleccion, fechaconvocatoria, months):\n",
    "    fecha_inicio = fechaconvocatoria - pd.DateOffset(months=months)\n",
    "    df = df.loc[df['tipoprocesoseleccion']== tipoprocesoseleccion] # filtro proceso seleccion \n",
    "    df = df.loc[(df['fechaconvocatoria'] < fechaconvocatoria) & (df['fechaconvocatoria'] > fecha_inicio)] # filtro ventana temporal\n",
    "    \n",
    "    media = round(df['ratio_postor_participante'].mean(),2)\n",
    "    std = round(df['ratio_postor_participante'].std(),2)\n",
    "    umbral = round(df['ratio_postor_participante'].mean() - 2 * df['ratio_postor_participante'].std(),2)\n",
    "    return pd.Series([media,std,umbral])"
   ]
  },
  {
   "cell_type": "code",
   "execution_count": 155,
   "id": "9b2145cb",
   "metadata": {},
   "outputs": [],
   "source": [
    "# Solo 2021\n",
    "df_bandera_4a_2021 = df_bandera_4a.loc[df_bandera_4a['anio'] == '2021']"
   ]
  },
  {
   "cell_type": "code",
   "execution_count": 156,
   "id": "22379b4e",
   "metadata": {},
   "outputs": [
    {
     "name": "stderr",
     "output_type": "stream",
     "text": [
      "/Users/mac/anaconda3/envs/IDB/lib/python3.8/site-packages/pandas/core/frame.py:3065: SettingWithCopyWarning: \n",
      "A value is trying to be set on a copy of a slice from a DataFrame.\n",
      "Try using .loc[row_indexer,col_indexer] = value instead\n",
      "\n",
      "See the caveats in the documentation: https://pandas.pydata.org/pandas-docs/stable/user_guide/indexing.html#returning-a-view-versus-a-copy\n",
      "  self[k1] = value[k2]\n"
     ]
    }
   ],
   "source": [
    "# Calculo media y 2SD de \"ratio postor participante\" para cada tipo de proceso de seleccion \n",
    "# en los 365 dias previos a la fecha de convocatoria de la convocatoria analizada \n",
    "df_bandera_4a_2021[['bandera_4a_media_ratio_postor_participante','bandera_4a_std_ratio_postor_participante','bandera_4a_umbral_ratio_postor_participante']] = df_bandera_4a_2021.apply(lambda x: bandera4a_calcular_media_dosSD(df_bandera_4a, \n",
    "                                                                                                                                                                          x['tipoprocesoseleccion'],\n",
    "                                                                                                                                                                          x['fechaconvocatoria'],\n",
    "                                                                                                                                                                          12), \n",
    "                                                                                                                                 axis = 1)"
   ]
  },
  {
   "cell_type": "code",
   "execution_count": 157,
   "id": "abb816d1",
   "metadata": {},
   "outputs": [
    {
     "name": "stderr",
     "output_type": "stream",
     "text": [
      "<ipython-input-157-87e5c64168aa>:2: SettingWithCopyWarning: \n",
      "A value is trying to be set on a copy of a slice from a DataFrame.\n",
      "Try using .loc[row_indexer,col_indexer] = value instead\n",
      "\n",
      "See the caveats in the documentation: https://pandas.pydata.org/pandas-docs/stable/user_guide/indexing.html#returning-a-view-versus-a-copy\n",
      "  df_bandera_4a_2021['bandera_4a'] = df_bandera_4a_2021.apply(lambda x: 'Si' if x['ratio_postor_participante'] < x['bandera_4a_umbral_ratio_postor_participante'] else 'No', axis = 1)\n"
     ]
    }
   ],
   "source": [
    "# Creo bandera\n",
    "df_bandera_4a_2021['bandera_4a'] = df_bandera_4a_2021.apply(lambda x: 'Si' if x['ratio_postor_participante'] < x['bandera_4a_umbral_ratio_postor_participante'] else 'No', axis = 1)\n",
    "\n",
    "\n",
    "\n"
   ]
  },
  {
   "cell_type": "code",
   "execution_count": 158,
   "id": "e13e124f",
   "metadata": {},
   "outputs": [],
   "source": [
    "# Renombro columnas para identificar los atributos de la bandera\n",
    "df_bandera_4a_2021 = df_bandera_4a_2021.rename(columns = {'cant_ruc_codigo_postor': 'bandera_4a_cant_ruc_codigo_postor',\n",
    "                                    'cant_rucparticipante': 'bandera_4a_cant_rucparticipante',\n",
    "                                    'ratio_postor_participante' : 'bandera_4a_ratio_postor_participante'})"
   ]
  },
  {
   "cell_type": "code",
   "execution_count": 160,
   "id": "ff4f2280",
   "metadata": {},
   "outputs": [],
   "source": [
    "# End time de bandera\n",
    "end = datetime.datetime.now()\n",
    "\n",
    "# Calculo tiempo de procesamiento de bandera y agrego a DF\n",
    "tiempos = registro_tiempo_procesamiento('4a',start,end, tiempos)"
   ]
  },
  {
   "cell_type": "markdown",
   "id": "50ad98b9",
   "metadata": {},
   "source": [
    "### Bandera 5: Se presenta un postor que nunca había ganado en un proceso de compras públicas antes"
   ]
  },
  {
   "cell_type": "code",
   "execution_count": 169,
   "id": "3ef3ca11",
   "metadata": {},
   "outputs": [],
   "source": [
    "# Start time de bandera\n",
    "start = datetime.datetime.now()"
   ]
  },
  {
   "cell_type": "code",
   "execution_count": 170,
   "id": "ac65d544",
   "metadata": {},
   "outputs": [],
   "source": [
    "# Selecciono variables relevantes para la bandera\n",
    "df_bandera5 = df_agg_cac[['codigoconvocatoria','tipoprocesoseleccion','anio','fechaconvocatoria']]"
   ]
  },
  {
   "cell_type": "code",
   "execution_count": 171,
   "id": "3dc6ce40",
   "metadata": {},
   "outputs": [],
   "source": [
    "def busqueda_ruc_tabla_adjudicaciones(codigoconvocatoria,fechaconvocatoria,df_contratos):\n",
    "    '''\n",
    "    Se buscan los RUCS de los proveedores ganadores de una convocatoria en adjudicaciones previas a la fecha\n",
    "    de convocatoria de la convocatoria analizada\n",
    "    \n",
    "    Params\n",
    "    ------\n",
    "    codigoconvocatoria (string): Número de identificación de convocatoria analizada\n",
    "    fechaconvocatoria(datetime): Fecha de convocatoria analizada\n",
    "    df_contratos(dataframe): Dataframe que contiene todas las contrataciones\n",
    "    \n",
    "    Returns\n",
    "    ------\n",
    "    proveedores_primera_vez(list): Lista de todos los proveedores que ganaron la convocatoria analizada y que\n",
    "    no habian ganado un proceso de contratacion antes \n",
    "    '''\n",
    "    df_contrato = df_contratos.loc[df_contratos['codigoconvocatoria'] == codigoconvocatoria]\n",
    "    proveedores_de_convocatoria = df_contrato['ruc_proveedor'].unique()\n",
    "    proveedores_de_convocatoria_razon_social = df_contrato['ruc_proveedor_razon_social'].unique()\n",
    "    proveedores_primera_vez = []\n",
    "    for proveedor,proveedor_razonsocial in zip(proveedores_de_convocatoria,proveedores_de_convocatoria_razon_social):\n",
    "        # 1.Filtro contratos anteriores a la fecha de convocatoria\n",
    "        df_contratos = df_contratos.loc[df_contratos['fechaconvocatoria'] < fechaconvocatoria]\n",
    "        # 2. Me quedo con listado de proveedores \n",
    "        proveedores = df_contratos['ruc_codigo_ganador'].unique()\n",
    "        # 3. Busco proveedor en proveedores\n",
    "        if proveedor in proveedores:\n",
    "            continue\n",
    "        else:\n",
    "            proveedores_primera_vez.append((proveedor,proveedor_razonsocial))\n",
    "            #proveedores_primera_vez.append(proveedor)\n",
    "    return(proveedores_primera_vez)"
   ]
  },
  {
   "cell_type": "code",
   "execution_count": 172,
   "id": "9c919851",
   "metadata": {},
   "outputs": [],
   "source": [
    "# Solo contratacion directa y 2021\n",
    "df_bandera5_condir_2021 = df_bandera5.loc[(df_bandera5['tipoprocesoseleccion']=='Contratación Directa') & (df_bandera5['anio']=='2021')]\n",
    "df_bandera5_resto=pd.concat([df_bandera5,df_bandera5_condir_2021]).drop_duplicates(keep=False)"
   ]
  },
  {
   "cell_type": "code",
   "execution_count": 173,
   "id": "a340f3d8",
   "metadata": {},
   "outputs": [
    {
     "name": "stderr",
     "output_type": "stream",
     "text": [
      "<ipython-input-173-4c922812d985>:2: SettingWithCopyWarning: \n",
      "A value is trying to be set on a copy of a slice from a DataFrame.\n",
      "Try using .loc[row_indexer,col_indexer] = value instead\n",
      "\n",
      "See the caveats in the documentation: https://pandas.pydata.org/pandas-docs/stable/user_guide/indexing.html#returning-a-view-versus-a-copy\n",
      "  df_bandera5_condir_2021['bandera_5_proveedores_primera_vez'] = df_bandera5_condir_2021.apply(lambda x: busqueda_ruc_tabla_adjudicaciones(x['codigoconvocatoria'],\n"
     ]
    }
   ],
   "source": [
    "# Atributo: proveedores primera vez\n",
    "df_bandera5_condir_2021['bandera_5_proveedores_primera_vez'] = df_bandera5_condir_2021.apply(lambda x: busqueda_ruc_tabla_adjudicaciones(x['codigoconvocatoria'], \n",
    "                                                                                                                                      x['fechaconvocatoria'],\n",
    "                                                                                                                                      contratos),\n",
    "                                                                                                          axis = 1)"
   ]
  },
  {
   "cell_type": "code",
   "execution_count": 174,
   "id": "893d3e62",
   "metadata": {},
   "outputs": [
    {
     "name": "stderr",
     "output_type": "stream",
     "text": [
      "<ipython-input-174-bf082bfa2172>:2: SettingWithCopyWarning: \n",
      "A value is trying to be set on a copy of a slice from a DataFrame.\n",
      "Try using .loc[row_indexer,col_indexer] = value instead\n",
      "\n",
      "See the caveats in the documentation: https://pandas.pydata.org/pandas-docs/stable/user_guide/indexing.html#returning-a-view-versus-a-copy\n",
      "  df_bandera5_condir_2021['bandera_5_proveedores_primera_vez'] = df_bandera5_condir_2021.apply(lambda x: None if len(x['bandera_5_proveedores_primera_vez']) == 0 else x['bandera_5_proveedores_primera_vez'], axis = 1)\n"
     ]
    }
   ],
   "source": [
    "# Cambio list vacia por null\n",
    "df_bandera5_condir_2021['bandera_5_proveedores_primera_vez'] = df_bandera5_condir_2021.apply(lambda x: None if len(x['bandera_5_proveedores_primera_vez']) == 0 else x['bandera_5_proveedores_primera_vez'], axis = 1)"
   ]
  },
  {
   "cell_type": "code",
   "execution_count": 175,
   "id": "fd1eb5a0",
   "metadata": {
    "scrolled": true
   },
   "outputs": [
    {
     "name": "stderr",
     "output_type": "stream",
     "text": [
      "<ipython-input-175-18b65532ff30>:2: SettingWithCopyWarning: \n",
      "A value is trying to be set on a copy of a slice from a DataFrame.\n",
      "Try using .loc[row_indexer,col_indexer] = value instead\n",
      "\n",
      "See the caveats in the documentation: https://pandas.pydata.org/pandas-docs/stable/user_guide/indexing.html#returning-a-view-versus-a-copy\n",
      "  df_bandera5_condir_2021['bandera_5'] = df_bandera5_condir_2021.apply(lambda x: 'No' if x['bandera_5_proveedores_primera_vez'] is None else 'Si', axis = 1)\n"
     ]
    }
   ],
   "source": [
    "# Genero bandera\n",
    "df_bandera5_condir_2021['bandera_5'] = df_bandera5_condir_2021.apply(lambda x: 'No' if x['bandera_5_proveedores_primera_vez'] is None else 'Si', axis = 1)"
   ]
  },
  {
   "cell_type": "code",
   "execution_count": 176,
   "id": "d6872697",
   "metadata": {},
   "outputs": [],
   "source": [
    "# agrego al dataset los procesos que no son contratacion directa o 2021\n",
    "df_bandera5_resto['bandera_5_proveedores_primera_vez'] = 'No aplica'\n",
    "df_bandera5_resto['bandera_5'] = 'No aplica'"
   ]
  },
  {
   "cell_type": "code",
   "execution_count": 177,
   "id": "cdac52ad",
   "metadata": {},
   "outputs": [],
   "source": [
    "# Join de dataframe con bandera par 2021 condirecta y resto\n",
    "df_bandera5 = pd.concat([df_bandera5_condir_2021,df_bandera5_resto])"
   ]
  },
  {
   "cell_type": "code",
   "execution_count": 178,
   "id": "3a37d5f3",
   "metadata": {},
   "outputs": [],
   "source": [
    "# End time de bandera\n",
    "end = datetime.datetime.now()\n",
    "\n",
    "# Calculo tiempo de procesamiento de bandera y agrego a DF\n",
    "tiempos = registro_tiempo_procesamiento('5',start,end, tiempos)"
   ]
  },
  {
   "cell_type": "markdown",
   "id": "9e1549d5",
   "metadata": {},
   "source": [
    "### Bandera 5a: Se presenta un postor que nunca había ganado en un proceso de compras públicas para este grupo de ítems"
   ]
  },
  {
   "cell_type": "code",
   "execution_count": 184,
   "id": "c5bab35b",
   "metadata": {},
   "outputs": [],
   "source": [
    "# Start time de bandera\n",
    "start = datetime.datetime.now()"
   ]
  },
  {
   "cell_type": "code",
   "execution_count": 185,
   "id": "bbd0ac79",
   "metadata": {},
   "outputs": [],
   "source": [
    "# Selecciono variables relevantes para la bandera\n",
    "df_bandera5a = df_agg_cac[['codigoconvocatoria','anio','fechaconvocatoria']]"
   ]
  },
  {
   "cell_type": "code",
   "execution_count": 186,
   "id": "49fdf515",
   "metadata": {},
   "outputs": [],
   "source": [
    "# Solo 2021\n",
    "df_bandera5a_2021 = df_bandera5a.loc[df_bandera5a['anio']=='2021']"
   ]
  },
  {
   "cell_type": "code",
   "execution_count": 187,
   "id": "b148b7d5",
   "metadata": {},
   "outputs": [],
   "source": [
    "# Genero tabla con codigoconvocatoria y postulantes unicos \n",
    "# (en tabla original esta aperturado por item y duplica postor)\n",
    "postores_cc = postores.groupby(['codigo_convocatoria','ruc_detallepostor','detalle_postor'], as_index =  False).count()"
   ]
  },
  {
   "cell_type": "code",
   "execution_count": 188,
   "id": "3e52187c",
   "metadata": {},
   "outputs": [],
   "source": [
    "# Renombro columnas de items en adjudicaciones para que sean iguales que en convocatorias\n",
    "df_adjudicaciones = adjudicaciones.copy()\n",
    "df_adjudicaciones['codigo_grupo'] = df_adjudicaciones['codigogrupo']\n",
    "df_adjudicaciones['grupo'] = df_adjudicaciones['descripcion_grupo']\n",
    "df_adjudicaciones['familia'] = df_adjudicaciones['descripcion_familia']\n",
    "df_adjudicaciones = df_adjudicaciones.drop(columns = ['codigogrupo','descripcion_grupo','descripcion_familia'])"
   ]
  },
  {
   "cell_type": "code",
   "execution_count": 189,
   "id": "a260bd9f",
   "metadata": {},
   "outputs": [],
   "source": [
    "def items_nuevos_para_postor(codigoconvocatoria,fechaconvocatoria,df_convocatorias,df_adjudicaciones,df_postores, nivel_itemcubso = 'codigoclase', nivel_itemcubso_string = 'clase'):\n",
    "    #0. Identifico postores para esta convocatoria\n",
    "    df_postores = df_postores.loc[df_postores['codigo_convocatoria'] == codigoconvocatoria]\n",
    "    df_postores = df_postores[df_postores['ruc_detallepostor'] != '99999999999']\n",
    "    postores_de_convocatoria = df_postores['ruc_detallepostor'].unique()\n",
    "    postores_de_convocatoria_razonsocial = df_postores['detalle_postor'].unique()\n",
    "    \n",
    "    #1. Selecciono items de la convocatoria bajo analisis\n",
    "    df_convocatorias = df_convocatorias.loc[df_convocatorias['codigoconvocatoria'] == codigoconvocatoria]\n",
    "    df_convocatorias = df_convocatorias.loc[pd.notnull(df_convocatorias[nivel_itemcubso])]\n",
    "    df_convocatorias = df_convocatorias.loc[df_convocatorias[nivel_itemcubso] != '<NA>-<NA>']\n",
    "    items_convocatoria = df_convocatorias[nivel_itemcubso].unique()\n",
    "    \n",
    "    #2. Selecciono las adjudicaciones hechas previas a la fecha de convocatoria\n",
    "    df_adjudicaciones = df_adjudicaciones.loc[(df_adjudicaciones['fecha_consentimiento_bp'] < fechaconvocatoria)]\n",
    "    \n",
    "    #3. Genero diccionario vacio para llenar postores e items nuevos\n",
    "    diccionario = {}    \n",
    "    if len(items_convocatoria)!=0:\n",
    "        for postor,postor_razonsocial in zip(postores_de_convocatoria,postores_de_convocatoria_razonsocial):\n",
    "            # Agrego el postor al diccionario\n",
    "            items_nuevos = []\n",
    "            diccionario[(postor,postor_razonsocial)] = items_nuevos\n",
    "            #diccionario[postor] = items_nuevos\n",
    "            # Selecciono adjudicaciones previas de este postor\n",
    "            df_adjudicaciones_postor = df_adjudicaciones.loc[df_adjudicaciones['ruc_codigo_ganador'] == postor]\n",
    "            df_adjudicaciones_postor = df_adjudicaciones_postor.loc[pd.notnull(df_adjudicaciones_postor[nivel_itemcubso])]\n",
    "            # Selecciono items de las adjudicaciones ganadas por este postor\n",
    "            df_items_adjudicados = df_adjudicaciones_postor.loc[df_adjudicaciones_postor[nivel_itemcubso] != '<NA>-<NA>']\n",
    "            items_adjudicados = list(df_items_adjudicados[nivel_itemcubso].unique())\n",
    "            if len(items_adjudicados)==0:\n",
    "                #diccionario[postor] =  'sin items adjudicados o dato de item'\n",
    "                continue\n",
    "            else: \n",
    "                # Agrego al diccionario los items del postor para los que nunca adjudico antes. \n",
    "                for item in items_convocatoria:\n",
    "                    if item in items_adjudicados:\n",
    "                        continue\n",
    "                    else:\n",
    "                        if df_convocatorias.loc[df_convocatorias[nivel_itemcubso] == item].size != 0:\n",
    "                            item_string = df_convocatorias.loc[df_convocatorias[nivel_itemcubso] == item][nivel_itemcubso_string].unique()[0]\n",
    "                        else: \n",
    "                            item_string = None\n",
    "                        diccionario[(postor,postor_razonsocial)].append((item, item_string, items_adjudicados))\n",
    "                        #diccionario[postor].append((item, item_string, items_adjudicados))\n",
    "    #else:\n",
    "        #diccionario['todos_los_rucs'] = 'sin items adjudicados o dato de item'\n",
    "\n",
    "    # Limpio el diccionario cuando no hay items que mostrar                \n",
    "    diccionario = {key:val for key, val in diccionario.items() if len(val) != 0}\n",
    "    return diccionario"
   ]
  },
  {
   "cell_type": "code",
   "execution_count": 190,
   "id": "bb90f39f",
   "metadata": {},
   "outputs": [
    {
     "name": "stderr",
     "output_type": "stream",
     "text": [
      "<ipython-input-190-b6d8aea7f623>:2: SettingWithCopyWarning: \n",
      "A value is trying to be set on a copy of a slice from a DataFrame.\n",
      "Try using .loc[row_indexer,col_indexer] = value instead\n",
      "\n",
      "See the caveats in the documentation: https://pandas.pydata.org/pandas-docs/stable/user_guide/indexing.html#returning-a-view-versus-a-copy\n",
      "  df_bandera5a_2021['bandera5a_items_nunca_antes_adjudicados_por_postor'] = df_bandera5a_2021.apply(lambda x: items_nuevos_para_postor(x['codigoconvocatoria'],\n"
     ]
    }
   ],
   "source": [
    "# Genero atributos de bandera 5a\n",
    "df_bandera5a_2021['bandera5a_items_nunca_antes_adjudicados_por_postor'] = df_bandera5a_2021.apply(lambda x: items_nuevos_para_postor(x['codigoconvocatoria'],\n",
    "                                                                               x['fechaconvocatoria'],\n",
    "                                                                               convocatorias,\n",
    "                                                                               df_adjudicaciones,\n",
    "                                                                               postores_cc,\n",
    "                                                                               nivel_itemcubso = 'grupo_familia',# codigo_grupo #'grupo_familia_clase',#'grupo_familia',#nivel_itemcubso = 'codigo_grupo',\n",
    "                                                                               nivel_itemcubso_string = 'familia'),# grupo #'clase'), #nivel_itemcubso_string = 'grupo'),\n",
    "                                           axis = 1)"
   ]
  },
  {
   "cell_type": "code",
   "execution_count": 191,
   "id": "d615d576",
   "metadata": {
    "scrolled": false
   },
   "outputs": [
    {
     "name": "stderr",
     "output_type": "stream",
     "text": [
      "<ipython-input-191-90b9ff99c9ee>:2: SettingWithCopyWarning: \n",
      "A value is trying to be set on a copy of a slice from a DataFrame.\n",
      "Try using .loc[row_indexer,col_indexer] = value instead\n",
      "\n",
      "See the caveats in the documentation: https://pandas.pydata.org/pandas-docs/stable/user_guide/indexing.html#returning-a-view-versus-a-copy\n",
      "  df_bandera5a_2021['bandera5a_items_nunca_antes_adjudicados_por_postor'] = df_bandera5a_2021.apply(lambda x: None if not(x['bandera5a_items_nunca_antes_adjudicados_por_postor']) else x['bandera5a_items_nunca_antes_adjudicados_por_postor'], axis = 1)\n"
     ]
    }
   ],
   "source": [
    "# Reemplazar diccionarios vacios por null\n",
    "df_bandera5a_2021['bandera5a_items_nunca_antes_adjudicados_por_postor'] = df_bandera5a_2021.apply(lambda x: None if not(x['bandera5a_items_nunca_antes_adjudicados_por_postor']) else x['bandera5a_items_nunca_antes_adjudicados_por_postor'], axis = 1)"
   ]
  },
  {
   "cell_type": "code",
   "execution_count": 192,
   "id": "bace53f9",
   "metadata": {},
   "outputs": [
    {
     "name": "stderr",
     "output_type": "stream",
     "text": [
      "<ipython-input-192-740269db974e>:2: SettingWithCopyWarning: \n",
      "A value is trying to be set on a copy of a slice from a DataFrame.\n",
      "Try using .loc[row_indexer,col_indexer] = value instead\n",
      "\n",
      "See the caveats in the documentation: https://pandas.pydata.org/pandas-docs/stable/user_guide/indexing.html#returning-a-view-versus-a-copy\n",
      "  df_bandera5a_2021['bandera_5a'] = df_bandera5a_2021.apply(lambda x: 'No' if (x['bandera5a_items_nunca_antes_adjudicados_por_postor'] is None) or (pd.isnull(x['bandera5a_items_nunca_antes_adjudicados_por_postor']))\n"
     ]
    }
   ],
   "source": [
    "# Bandera 5a\n",
    "df_bandera5a_2021['bandera_5a'] = df_bandera5a_2021.apply(lambda x: 'No' if (x['bandera5a_items_nunca_antes_adjudicados_por_postor'] is None) or (pd.isnull(x['bandera5a_items_nunca_antes_adjudicados_por_postor'])) \n",
    "                                                                else 'Si', axis = 1)"
   ]
  },
  {
   "cell_type": "code",
   "execution_count": 194,
   "id": "39d77747",
   "metadata": {},
   "outputs": [],
   "source": [
    "# End time de bandera\n",
    "end = datetime.datetime.now()\n",
    "\n",
    "# Calculo tiempo de procesamiento de bandera y agrego a DF\n",
    "tiempos = registro_tiempo_procesamiento('5a',start,end, tiempos)"
   ]
  },
  {
   "cell_type": "markdown",
   "id": "8624dd56",
   "metadata": {},
   "source": [
    "### Bandera 8: Se ha adjudicado buena pro, a pesar de que antes hubo denuncia o dictamen que indica que se declare la nulidad del procedimiento\n"
   ]
  },
  {
   "cell_type": "code",
   "execution_count": 199,
   "id": "a9f60617",
   "metadata": {},
   "outputs": [],
   "source": [
    "# Start time de bandera\n",
    "start = datetime.datetime.now()"
   ]
  },
  {
   "cell_type": "code",
   "execution_count": 200,
   "id": "8562fbfa",
   "metadata": {},
   "outputs": [],
   "source": [
    "# Selecciono variables relevantes para la bandera\n",
    "df_bandera8 = df_agg_cac[['codigoconvocatoria']]"
   ]
  },
  {
   "cell_type": "code",
   "execution_count": 201,
   "id": "b272284b",
   "metadata": {},
   "outputs": [],
   "source": [
    "# DGR\n",
    "df_bandera8_aso = dgr_aso[['codigoconvocatoria','disposicion','fecha_oficio']].rename(columns = {'disposicion':'resultado','fecha_oficio':'fecha'})\n",
    "df_bandera8_dict = dgr_dict[['codigoconvocatoria','conclusion_final','fecha_emision']].rename(columns = {'conclusion_final':'resultado','fecha_emision':'fecha'})\n",
    "df_bandera8_dgr = pd.concat([df_bandera8_aso,df_bandera8_dict])"
   ]
  },
  {
   "cell_type": "code",
   "execution_count": 202,
   "id": "deaca7b1",
   "metadata": {},
   "outputs": [],
   "source": [
    "# Adjudicaciones solo items contratados, adjudicados, consentidos o apelados\n",
    "df_bandera8_adj = adjudicaciones.loc[adjudicaciones['estado_item'].isin(['Contratado', 'Adjudicado', 'Consentido', 'Apelado'])][['codigoconvocatoria','fecha_consentimiento_bp','n_item','codigoitem','itemcubso']]"
   ]
  },
  {
   "cell_type": "code",
   "execution_count": 203,
   "id": "6583b1bb",
   "metadata": {},
   "outputs": [],
   "source": [
    "# Join adjudicaciones con DGR ASO\n",
    "df_bandera8_adj_dgr = df_bandera8_adj.join(df_bandera8_dgr.set_index(['codigoconvocatoria']),\n",
    "                                                         on = ['codigoconvocatoria'],\n",
    "                                                         how = 'left',\n",
    "                                                         rsuffix = '_dgr')"
   ]
  },
  {
   "cell_type": "code",
   "execution_count": 204,
   "id": "3b7ae6d7",
   "metadata": {},
   "outputs": [],
   "source": [
    "# Nan a None\n",
    "df_bandera8_adj_dgr = df_bandera8_adj_dgr.where(pd.notnull(df_bandera8_adj_dgr),None)"
   ]
  },
  {
   "cell_type": "code",
   "execution_count": 205,
   "id": "5a035054",
   "metadata": {},
   "outputs": [],
   "source": [
    "# Calculo diferencia entre fecha buena pro y oficio para cada idem\n",
    "df_bandera8_adj_dgr['bandera_8_diferencia_fechabuenapro_fecha'] =  df_bandera8_adj_dgr['fecha'] - df_bandera8_adj_dgr['fecha_consentimiento_bp']"
   ]
  },
  {
   "cell_type": "code",
   "execution_count": 206,
   "id": "ef4c09a6",
   "metadata": {},
   "outputs": [],
   "source": [
    "# Genero Bandera a nivel item\n",
    "df_bandera8_adj_dgr['bandera_8'] = df_bandera8_adj_dgr.apply(lambda x: 'Si' if (x['bandera_8_diferencia_fechabuenapro_fecha'] < pd.Timedelta(0)) & (x['resultado'] in (['NULIDAD','Fundado'])) else 'No', axis = 1)\n",
    "\n"
   ]
  },
  {
   "cell_type": "code",
   "execution_count": 207,
   "id": "3fb20272",
   "metadata": {},
   "outputs": [],
   "source": [
    "# Me quedo solo con los items que tienen bandera = si\n",
    "df_bandera8_adj_dgr = df_bandera8_adj_dgr.loc[df_bandera8_adj_dgr['bandera_8'] == 'Si']"
   ]
  },
  {
   "cell_type": "code",
   "execution_count": 208,
   "id": "7952d346",
   "metadata": {},
   "outputs": [],
   "source": [
    "# Genero atributos \n",
    "df_bandera8_adj_dgr['bandera_8_atributos'] = ' N_item:' + df_bandera8_adj_dgr['n_item'].astype(str) + ';' +\\\n",
    "                                             ' Codigoitem:' + df_bandera8_adj_dgr['codigoitem'].astype(str) + ';' +\\\n",
    "                                             ' Itemcubso:' + df_bandera8_adj_dgr['itemcubso'].astype(str) + ';' +\\\n",
    "                                             ' Fecha Consentimiento BP:' + df_bandera8_adj_dgr['fecha_consentimiento_bp'].astype(str) + ';' +\\\n",
    "                                             ' Fecha:' + df_bandera8_adj_dgr['fecha'].astype(str) + ';' +\\\n",
    "                                             ' Resultado:' + df_bandera8_adj_dgr['resultado'].astype(str) + ',' "
   ]
  },
  {
   "cell_type": "code",
   "execution_count": 209,
   "id": "f4da3676",
   "metadata": {},
   "outputs": [],
   "source": [
    "# Flatten a nivel codigo convocatoria\n",
    "df_bandera8_adj_dgr = pd.DataFrame(df_bandera8_adj_dgr.groupby('codigoconvocatoria', as_index = False)['bandera_8_atributos'].apply(' | '.join))"
   ]
  },
  {
   "cell_type": "code",
   "execution_count": 210,
   "id": "9302ed5c",
   "metadata": {},
   "outputs": [],
   "source": [
    "# Join con df_bandera_8 \n",
    "df_bandera8 = df_bandera8.join(df_bandera8_adj_dgr.set_index('codigoconvocatoria'),\n",
    "                               on = 'codigoconvocatoria',\n",
    "                               how = 'left')"
   ]
  },
  {
   "cell_type": "code",
   "execution_count": 211,
   "id": "f23b589e",
   "metadata": {},
   "outputs": [],
   "source": [
    "# Nan a None\n",
    "df_bandera8 = df_bandera8.where(pd.notnull(df_bandera8),None)"
   ]
  },
  {
   "cell_type": "code",
   "execution_count": 212,
   "id": "06b3af04",
   "metadata": {},
   "outputs": [],
   "source": [
    "# Bandera a nivel cod convocatoria\n",
    "df_bandera8['bandera_8'] = df_bandera8.apply(lambda x: 'No' if x['bandera_8_atributos'] is None else 'Si', axis = 1)"
   ]
  },
  {
   "cell_type": "code",
   "execution_count": 213,
   "id": "f02ddf69",
   "metadata": {},
   "outputs": [],
   "source": [
    "# Renombro columna\n",
    "df_bandera8 = df_bandera8.rename(columns = {'bandera_8_atributos':'bandera8_FechaAdj_Posterior_FechaDGR'})"
   ]
  },
  {
   "cell_type": "code",
   "execution_count": 218,
   "id": "abb4008e",
   "metadata": {},
   "outputs": [],
   "source": [
    "# End time de bandera\n",
    "end = datetime.datetime.now()\n",
    "\n",
    "# Calculo tiempo de procesamiento de bandera y agrego a DF\n",
    "tiempos = registro_tiempo_procesamiento('8',start,end, tiempos)"
   ]
  },
  {
   "cell_type": "markdown",
   "id": "53a3a0f6",
   "metadata": {},
   "source": [
    "### Bandera 13: Se ha hecho la adjudicación a un ganador no habido no hallado."
   ]
  },
  {
   "cell_type": "code",
   "execution_count": 219,
   "id": "722e2bdc",
   "metadata": {},
   "outputs": [],
   "source": [
    "# Start time de bandera\n",
    "start = datetime.datetime.now()"
   ]
  },
  {
   "cell_type": "code",
   "execution_count": 220,
   "id": "2d5764fc",
   "metadata": {},
   "outputs": [],
   "source": [
    "# Selecciono variables relevantes para la bandera\n",
    "df_bandera13 = df_agg_cac[['codigoconvocatoria','anio']]"
   ]
  },
  {
   "cell_type": "code",
   "execution_count": 221,
   "id": "904c1162",
   "metadata": {},
   "outputs": [],
   "source": [
    "# Genero copia de tabla adjudicaciones\n",
    "Bandera13_adjudicaciones = adjudicaciones.copy()"
   ]
  },
  {
   "cell_type": "code",
   "execution_count": 222,
   "id": "8349a86f",
   "metadata": {},
   "outputs": [],
   "source": [
    "# Me quedo con un codigoconvocatoria-ruc por adjudicacion\n",
    "Bandera13_adjudicaciones = Bandera13_adjudicaciones[['codigoconvocatoria','ruc_codigo_ganador','ganador','tipo_proveedor']].drop_duplicates()"
   ]
  },
  {
   "cell_type": "code",
   "execution_count": 223,
   "id": "eb89b1a2",
   "metadata": {},
   "outputs": [],
   "source": [
    "# Ruc de tabla SUNAT como string para poder hacer el join\n",
    "sunat['ruc'] = sunat['ruc'].astype(str)"
   ]
  },
  {
   "cell_type": "code",
   "execution_count": 224,
   "id": "08f3a2ae",
   "metadata": {},
   "outputs": [],
   "source": [
    "# Join de bandera13_adjudicaciones y sunat\n",
    "Bandera13_adjudicaciones = Bandera13_adjudicaciones.join(sunat[['ruc','eshabido']].set_index('ruc'),\n",
    "                                                        on = 'ruc_codigo_ganador',\n",
    "                                                        how = 'left')"
   ]
  },
  {
   "cell_type": "code",
   "execution_count": 225,
   "id": "9aad2c70",
   "metadata": {},
   "outputs": [],
   "source": [
    "# Transformo Nan a 'No encontrado en Sunat'\n",
    "Bandera13_adjudicaciones = Bandera13_adjudicaciones.where(pd.notnull(Bandera13_adjudicaciones),'No encontrado en Sunat')"
   ]
  },
  {
   "cell_type": "code",
   "execution_count": 226,
   "id": "f3e963b5",
   "metadata": {},
   "outputs": [],
   "source": [
    "# Bandera 13 a nivel ruc-convocatoria\n",
    "Bandera13_adjudicaciones['bandera_13'] = Bandera13_adjudicaciones.apply(lambda x: 'No aplica' if  'No encontrado en Sunat' in x['eshabido']\n",
    "                                                                        else ('Si' if x['eshabido'] in ('NO HABIDO','NO HALLADO') else 'No'), axis = 1)"
   ]
  },
  {
   "cell_type": "code",
   "execution_count": 227,
   "id": "c3d04e75",
   "metadata": {
    "scrolled": true
   },
   "outputs": [],
   "source": [
    "# Me quedo solamente con las conv que tienen al menos un ruc no habido/no hallado o 'no aplica'\n",
    "Bandera13_adjudicaciones_si_noaplica = Bandera13_adjudicaciones.loc[Bandera13_adjudicaciones['bandera_13'].isin(['Si','No aplica'])]"
   ]
  },
  {
   "cell_type": "code",
   "execution_count": 228,
   "id": "d4b1c455",
   "metadata": {},
   "outputs": [
    {
     "name": "stderr",
     "output_type": "stream",
     "text": [
      "<ipython-input-228-fd2f6b4eabb7>:2: SettingWithCopyWarning: \n",
      "A value is trying to be set on a copy of a slice from a DataFrame.\n",
      "Try using .loc[row_indexer,col_indexer] = value instead\n",
      "\n",
      "See the caveats in the documentation: https://pandas.pydata.org/pandas-docs/stable/user_guide/indexing.html#returning-a-view-versus-a-copy\n",
      "  Bandera13_adjudicaciones_si_noaplica ['ruc_codigo_ganador'] = Bandera13_adjudicaciones_si_noaplica ['ruc_codigo_ganador'].astype(str)\n",
      "<ipython-input-228-fd2f6b4eabb7>:3: SettingWithCopyWarning: \n",
      "A value is trying to be set on a copy of a slice from a DataFrame.\n",
      "Try using .loc[row_indexer,col_indexer] = value instead\n",
      "\n",
      "See the caveats in the documentation: https://pandas.pydata.org/pandas-docs/stable/user_guide/indexing.html#returning-a-view-versus-a-copy\n",
      "  Bandera13_adjudicaciones_si_noaplica ['ganador'] = Bandera13_adjudicaciones_si_noaplica ['ganador'].astype(str)\n",
      "<ipython-input-228-fd2f6b4eabb7>:4: SettingWithCopyWarning: \n",
      "A value is trying to be set on a copy of a slice from a DataFrame.\n",
      "Try using .loc[row_indexer,col_indexer] = value instead\n",
      "\n",
      "See the caveats in the documentation: https://pandas.pydata.org/pandas-docs/stable/user_guide/indexing.html#returning-a-view-versus-a-copy\n",
      "  Bandera13_adjudicaciones_si_noaplica ['eshabido'] = Bandera13_adjudicaciones_si_noaplica['eshabido'].astype(str)\n",
      "<ipython-input-228-fd2f6b4eabb7>:5: SettingWithCopyWarning: \n",
      "A value is trying to be set on a copy of a slice from a DataFrame.\n",
      "Try using .loc[row_indexer,col_indexer] = value instead\n",
      "\n",
      "See the caveats in the documentation: https://pandas.pydata.org/pandas-docs/stable/user_guide/indexing.html#returning-a-view-versus-a-copy\n",
      "  Bandera13_adjudicaciones_si_noaplica ['tipo_proveedor'] = Bandera13_adjudicaciones_si_noaplica['tipo_proveedor'].astype(str)\n"
     ]
    }
   ],
   "source": [
    "# Todas las columnas a concatenar como strings\n",
    "Bandera13_adjudicaciones_si_noaplica ['ruc_codigo_ganador'] = Bandera13_adjudicaciones_si_noaplica ['ruc_codigo_ganador'].astype(str)\n",
    "Bandera13_adjudicaciones_si_noaplica ['ganador'] = Bandera13_adjudicaciones_si_noaplica ['ganador'].astype(str)\n",
    "Bandera13_adjudicaciones_si_noaplica ['eshabido'] = Bandera13_adjudicaciones_si_noaplica['eshabido'].astype(str)\n",
    "Bandera13_adjudicaciones_si_noaplica ['tipo_proveedor'] = Bandera13_adjudicaciones_si_noaplica['tipo_proveedor'].astype(str)"
   ]
  },
  {
   "cell_type": "code",
   "execution_count": 229,
   "id": "9a750e43",
   "metadata": {},
   "outputs": [
    {
     "name": "stderr",
     "output_type": "stream",
     "text": [
      "<ipython-input-229-5ca74cd8e3ec>:2: SettingWithCopyWarning: \n",
      "A value is trying to be set on a copy of a slice from a DataFrame.\n",
      "Try using .loc[row_indexer,col_indexer] = value instead\n",
      "\n",
      "See the caveats in the documentation: https://pandas.pydata.org/pandas-docs/stable/user_guide/indexing.html#returning-a-view-versus-a-copy\n",
      "  Bandera13_adjudicaciones_si_noaplica['bandera_13_atributos'] = 'Ruc:' + Bandera13_adjudicaciones_si_noaplica ['ruc_codigo_ganador'] +';'+ ' Razon social:' + Bandera13_adjudicaciones_si_noaplica ['ganador'] +';'+ ' Tipo:' + Bandera13_adjudicaciones_si_noaplica ['tipo_proveedor']  +';'+ ' Estado:' + Bandera13_adjudicaciones_si_noaplica ['eshabido'] + ' '\n"
     ]
    }
   ],
   "source": [
    "# Concateno columnas para armar atributos de bandera 13\n",
    "Bandera13_adjudicaciones_si_noaplica['bandera_13_atributos'] = 'Ruc:' + Bandera13_adjudicaciones_si_noaplica ['ruc_codigo_ganador'] +';'+ ' Razon social:' + Bandera13_adjudicaciones_si_noaplica ['ganador'] +';'+ ' Tipo:' + Bandera13_adjudicaciones_si_noaplica ['tipo_proveedor']  +';'+ ' Estado:' + Bandera13_adjudicaciones_si_noaplica ['eshabido'] + ' '\n",
    "#Bandera13_adjudicaciones_si_noaplica['bandera_13_atributos'] = 'Ruc:' + Bandera13_adjudicaciones_si_noaplica ['ruc_codigo_ganador'] +';'+ ' Tipo:' + Bandera13_adjudicaciones_si_noaplica ['tipo_proveedor']  +';'+ ' Estado:' + Bandera13_adjudicaciones_si_noaplica ['eshabido'] + ' '"
   ]
  },
  {
   "cell_type": "code",
   "execution_count": 230,
   "id": "35239913",
   "metadata": {
    "scrolled": true
   },
   "outputs": [],
   "source": [
    "# Flatten del df para que quede a nivel codigoconvocatoria y haga un string con todos los items con bandera22\n",
    "Bandera13_adjudicaciones_si_noaplica  = pd.DataFrame(Bandera13_adjudicaciones_si_noaplica .groupby(['codigoconvocatoria'], as_index = False)['bandera_13_atributos'].apply(';'.join))"
   ]
  },
  {
   "cell_type": "code",
   "execution_count": 231,
   "id": "c44e367a",
   "metadata": {},
   "outputs": [],
   "source": [
    "# Join df_bandera_13 con Bandera13_adjudicaciones_si_noaplica\n",
    "df_bandera13 = df_bandera13.join(Bandera13_adjudicaciones_si_noaplica.set_index('codigoconvocatoria'), \n",
    "                                on = 'codigoconvocatoria',\n",
    "                                how ='left')"
   ]
  },
  {
   "cell_type": "code",
   "execution_count": 232,
   "id": "f6c3bbe2",
   "metadata": {},
   "outputs": [],
   "source": [
    "# Cambio Nan por Null\n",
    "df_bandera13 = df_bandera13.where(pd.notnull(df_bandera13),None)"
   ]
  },
  {
   "cell_type": "code",
   "execution_count": 233,
   "id": "838db5b1",
   "metadata": {
    "scrolled": false
   },
   "outputs": [],
   "source": [
    "# Genero bandera 13 a nivel codigo convocatoria\n",
    "estados = ['NO HABIDO','NO HALLADO']\n",
    "df_bandera13['bandera_13'] = df_bandera13.apply(lambda x: 'No' if x['bandera_13_atributos'] is None \n",
    "                                                                                       else ('Si' if any( i in x['bandera_13_atributos'] for i in estados) else 'No'), \n",
    "                                                                        axis = 1)"
   ]
  },
  {
   "cell_type": "code",
   "execution_count": 234,
   "id": "35c8bd00",
   "metadata": {},
   "outputs": [],
   "source": [
    "# End time de bandera\n",
    "end = datetime.datetime.now()\n",
    "\n",
    "# Calculo tiempo de procesamiento de bandera y agrego a DF\n",
    "tiempos = registro_tiempo_procesamiento('13',start,end, tiempos)"
   ]
  },
  {
   "cell_type": "code",
   "execution_count": 235,
   "id": "311b6b08",
   "metadata": {},
   "outputs": [],
   "source": [
    "df_bandera13 = df_bandera13.rename(columns = {'bandera_13_atributos':'bandera_13_RUC_nohabido_nohallado'})"
   ]
  },
  {
   "cell_type": "markdown",
   "id": "929062a4",
   "metadata": {},
   "source": [
    "### Bandera 15: El monto del postor es demasiado cercano al monto referencial"
   ]
  },
  {
   "cell_type": "code",
   "execution_count": 239,
   "id": "f5653ea3",
   "metadata": {},
   "outputs": [],
   "source": [
    "# Start time de bandera\n",
    "start = datetime.datetime.now()"
   ]
  },
  {
   "cell_type": "code",
   "execution_count": 240,
   "id": "ebaf7de8",
   "metadata": {},
   "outputs": [],
   "source": [
    "# Selecciono variables relevantes para la bandera\n",
    "df_bandera15 = df_agg_cac[['codigoconvocatoria','anio','fechaconvocatoria','objetocontractual','tipoprocesoseleccion']]"
   ]
  },
  {
   "cell_type": "code",
   "execution_count": 241,
   "id": "68b9b915",
   "metadata": {},
   "outputs": [],
   "source": [
    "# Genero dataframe de convocatorias a nivel conv - item\n",
    "convocatorias_items = convocatorias.drop_duplicates(['codigoconvocatoria','n_item','codigoitem','itemcubso','estadoitem'])\n",
    "postores_items = postores.drop_duplicates(['codigo_convocatoria','n_item','ruc_detallepostor','detalle_postor'])"
   ]
  },
  {
   "cell_type": "code",
   "execution_count": 242,
   "id": "70d3ff25",
   "metadata": {},
   "outputs": [],
   "source": [
    "# Seleccionamos items cuyo estado es 'Contratado','Consentido', 'Adjudicado','Convocado'\n",
    "postores_items = postores_items.loc[postores_items['estado_item'].isin(['Contratado','Convocado', 'Consentido','Adjudicado'])]\n",
    "convocatorias_items = convocatorias_items.loc[convocatorias_items['estadoitem'].isin(['Contratado','Convocado', 'Consentido','Adjudicado'])]"
   ]
  },
  {
   "cell_type": "code",
   "execution_count": 243,
   "id": "e7fcc0bd",
   "metadata": {},
   "outputs": [],
   "source": [
    "# Join de convocatorias_item con postores_item\n",
    "conv_postores = convocatorias_items[['codigoconvocatoria','n_item','monto_referencial_item','codigoitem','itemcubso']]\\\n",
    "                .join(postores_items[['codigo_convocatoria','n_item','ruc_detallepostor','detalle_postor','monto']].set_index(['codigo_convocatoria','n_item']), \n",
    "                  on = ['codigoconvocatoria','n_item'],\n",
    "                  how = 'left')"
   ]
  },
  {
   "cell_type": "code",
   "execution_count": 244,
   "id": "8e81f1a7",
   "metadata": {},
   "outputs": [],
   "source": [
    "# Genero dataframe que cuenta cantidad de postores por convocatoria-item:\n",
    "conv_postores_q_postores = conv_postores.groupby(['codigoconvocatoria','n_item'], as_index = False).count()[['codigoconvocatoria','n_item','monto_referencial_item']]\n",
    "conv_postores_q_postores.rename(columns = {'monto_referencial_item': 'cantidad_postores'}, inplace = True)"
   ]
  },
  {
   "cell_type": "code",
   "execution_count": 245,
   "id": "63e02fbe",
   "metadata": {},
   "outputs": [],
   "source": [
    "# Join conv_postores con coluna que indica cantidad de postores para conv-item\n",
    "conv_postores = conv_postores.join(conv_postores_q_postores.set_index(['codigoconvocatoria','n_item']),\n",
    "                                  on = ['codigoconvocatoria','n_item'],\n",
    "                                 how = 'left')"
   ]
  },
  {
   "cell_type": "code",
   "execution_count": 246,
   "id": "35da5d2b",
   "metadata": {},
   "outputs": [],
   "source": [
    "# Me quedo solo con los que tienen un unico postor\n",
    "conv_postores = conv_postores.loc[conv_postores['cantidad_postores'] == 1]"
   ]
  },
  {
   "cell_type": "code",
   "execution_count": 247,
   "id": "8671fba0",
   "metadata": {},
   "outputs": [],
   "source": [
    "# Calculo ratio precio del postor/precio de referencia\n",
    "conv_postores['bandera15_ratio_montorefitem_montopostoritem'] = (conv_postores['monto'] * 1.00 / conv_postores['monto_referencial_item'] * 1.00 )* 100"
   ]
  },
  {
   "cell_type": "code",
   "execution_count": 248,
   "id": "9e86ff0c",
   "metadata": {},
   "outputs": [],
   "source": [
    "# Genero bandera a nivel convocatoria-item\n",
    "conv_postores['bandera15'] = conv_postores.apply(lambda x: 'Si' if (x['bandera15_ratio_montorefitem_montopostoritem'] > 95) & (x['bandera15_ratio_montorefitem_montopostoritem'] < 105) else ' No', axis = 1)\n",
    "                                                 "
   ]
  },
  {
   "cell_type": "code",
   "execution_count": 249,
   "id": "52311f8c",
   "metadata": {},
   "outputs": [],
   "source": [
    "# Selecciono solo las conv-item con bandera = Si\n",
    "conv_postores_si = conv_postores.loc[conv_postores['bandera15'] == 'Si']"
   ]
  },
  {
   "cell_type": "code",
   "execution_count": 250,
   "id": "b5c233bb",
   "metadata": {},
   "outputs": [
    {
     "name": "stderr",
     "output_type": "stream",
     "text": [
      "<ipython-input-250-d912fec0fca7>:2: SettingWithCopyWarning: \n",
      "A value is trying to be set on a copy of a slice from a DataFrame.\n",
      "Try using .loc[row_indexer,col_indexer] = value instead\n",
      "\n",
      "See the caveats in the documentation: https://pandas.pydata.org/pandas-docs/stable/user_guide/indexing.html#returning-a-view-versus-a-copy\n",
      "  conv_postores_si['bandera15_attr'] = 'N_item: ' + \\\n"
     ]
    }
   ],
   "source": [
    "# Genero columna que resume info del item, monto ref item y monto del postor\n",
    "conv_postores_si['bandera15_attr'] = 'N_item: ' + \\\n",
    "                                    conv_postores_si['n_item'].astype(int).astype(str) +\\\n",
    "                                    ';Codigoitem: ' + \\\n",
    "                                    conv_postores_si['codigoitem'].astype(str) +\\\n",
    "                                    ';Itemcubso: ' + \\\n",
    "                                    conv_postores_si['itemcubso'].astype(str) +\\\n",
    "                                    ';Monto_Ref_Item: ' + \\\n",
    "                                    conv_postores_si['monto_referencial_item'].astype(int).astype(str) +\\\n",
    "                                    ';Monto_Postor_Item: ' + \\\n",
    "                                    conv_postores_si['monto'].astype(int).astype(str) "
   ]
  },
  {
   "cell_type": "code",
   "execution_count": 251,
   "id": "84ba6385",
   "metadata": {},
   "outputs": [],
   "source": [
    "# Agrupo a nivel conv-postor y genero una columna con la bandera15_attr dentro de una lista\n",
    "conv_postores_si_agg = conv_postores_si.groupby(['codigoconvocatoria','ruc_detallepostor','detalle_postor'])['bandera15_attr'].apply(list).reset_index(name='bandera15_atributos')"
   ]
  },
  {
   "cell_type": "code",
   "execution_count": 252,
   "id": "4ffa2891",
   "metadata": {},
   "outputs": [],
   "source": [
    "# Genero nueva columna que a la info resumen agregra el ruc del postor\n",
    "#conv_postores_si_agg['bandera15_items_cercanos_valor_referencia'] = '{Postor: ' + conv_postores_si_agg['ruc_detallepostor'] +','+ conv_postores_si_agg['detalle_postor'] + ':' + conv_postores_si_agg['bandera15_atributos'].astype(str) + '}'\n",
    "conv_postores_si_agg['bandera15_items_cercanos_valor_referencia'] = '{Postor: ' + conv_postores_si_agg['ruc_detallepostor'] +':' + conv_postores_si_agg['bandera15_atributos'].astype(str) + '}'"
   ]
  },
  {
   "cell_type": "code",
   "execution_count": 253,
   "id": "9bb2c69b",
   "metadata": {},
   "outputs": [],
   "source": [
    "# Flatten de la tabla para que todo quede a nivel convocatoria\n",
    "conv_postores_si_agg = conv_postores_si_agg.groupby(['codigoconvocatoria'])['bandera15_items_cercanos_valor_referencia'].apply(list).reset_index(name='bandera15_items_cercanos_valor_referencia')"
   ]
  },
  {
   "cell_type": "code",
   "execution_count": 254,
   "id": "b069686d",
   "metadata": {},
   "outputs": [],
   "source": [
    "df_bandera15 = df_bandera15.join(conv_postores_si_agg.set_index('codigoconvocatoria'), \n",
    "                                 on = 'codigoconvocatoria', how = 'left')"
   ]
  },
  {
   "cell_type": "code",
   "execution_count": 255,
   "id": "06e441b5",
   "metadata": {},
   "outputs": [],
   "source": [
    "def bandera15(atributos,objetocontractual,tipoprocesoseleccion):\n",
    "    if tipoprocesoseleccion == 'Contratación Directa':\n",
    "        resultado = 'No aplica'\n",
    "    else:\n",
    "        if objetocontractual in ('Servicio','Bien'):\n",
    "            if isinstance(atributos, list):\n",
    "                resultado = 'Si'\n",
    "            else:\n",
    "                resultado = 'No'\n",
    "        else:\n",
    "            resultado = 'No aplica'\n",
    "    return (resultado)"
   ]
  },
  {
   "cell_type": "code",
   "execution_count": 256,
   "id": "c1c00d63",
   "metadata": {},
   "outputs": [],
   "source": [
    "df_bandera15['bandera15'] = df_bandera15.apply(lambda x: bandera15(x['bandera15_items_cercanos_valor_referencia'],\n",
    "                                                                   x['objetocontractual'],\n",
    "                                                                  x['tipoprocesoseleccion']), \n",
    "                                               axis = 1)"
   ]
  },
  {
   "cell_type": "code",
   "execution_count": 257,
   "id": "3c286a3b",
   "metadata": {},
   "outputs": [],
   "source": [
    "# End time de bandera\n",
    "end = datetime.datetime.now()\n",
    "\n",
    "# Calculo tiempo de procesamiento de bandera y agrego a DF\n",
    "tiempos = registro_tiempo_procesamiento('15',start,end, tiempos)"
   ]
  },
  {
   "cell_type": "markdown",
   "id": "96f08d6f",
   "metadata": {},
   "source": [
    "### Bandera 16: A una convocatoria se presentó un postor que consistentemente gana contratos con este ente convocante\n"
   ]
  },
  {
   "cell_type": "code",
   "execution_count": 269,
   "id": "9e5572bc",
   "metadata": {},
   "outputs": [],
   "source": [
    "# Start time de bandera\n",
    "start = datetime.datetime.now()"
   ]
  },
  {
   "cell_type": "code",
   "execution_count": 270,
   "id": "2006ad53",
   "metadata": {},
   "outputs": [],
   "source": [
    "# Selecciono variables para la bandera\n",
    "df_bandera16 = df_agg_cac[['anio','codigoconvocatoria','ruc_entidad','entidad']]\n",
    "#df_bandera16 = df_bandera16.loc[df_bandera16['anio'] == '2021']"
   ]
  },
  {
   "cell_type": "code",
   "execution_count": 271,
   "id": "8524c7b6",
   "metadata": {},
   "outputs": [],
   "source": [
    "# Genero un dataframe de convocatorias 2018-2020 con columnas que me interesa (saco duplicados)\n",
    "df_bandera16_conv = convocatorias[['codigoconvocatoria','anio','ruc_entidad','entidad','n_item','grupo_familia','familia']].drop_duplicates()\n",
    "df_bandera16_conv = df_bandera16_conv.loc[df_bandera16_conv['anio'].isin([2018,2019,2020])]"
   ]
  },
  {
   "cell_type": "code",
   "execution_count": 272,
   "id": "a71439a2",
   "metadata": {},
   "outputs": [],
   "source": [
    "# Genero un dataframe de postores por conv y n_item saco duplicados\n",
    "df_bandera16_postores = postores[['codigo_convocatoria','n_item','ruc_detallepostor','detalle_postor']].drop_duplicates()"
   ]
  },
  {
   "cell_type": "code",
   "execution_count": 273,
   "id": "b5a8201c",
   "metadata": {},
   "outputs": [],
   "source": [
    "# Tabla desagregada de convocatorias y sus postores periodo 2018-2020\n",
    "df_bandera16_conv_postores = df_bandera16_conv.join(df_bandera16_postores.set_index(['codigo_convocatoria','n_item']),\n",
    "                                                on = (['codigoconvocatoria','n_item']),\n",
    "                                                how = 'inner')"
   ]
  },
  {
   "cell_type": "code",
   "execution_count": 274,
   "id": "35030a45",
   "metadata": {},
   "outputs": [],
   "source": [
    "# Tabla agregada de convocatorias y sus postores periodo 2018-2020\n",
    "df_bandera16_conv_postores_agg = df_bandera16_conv_postores\\\n",
    ".groupby(['ruc_detallepostor','ruc_entidad','grupo_familia','familia'], as_index = False).count()\\\n",
    "[['ruc_detallepostor','ruc_entidad','grupo_familia','familia','codigoconvocatoria']]\\\n",
    ".rename(columns = {'codigoconvocatoria': 'cantidad_postulaciones'})"
   ]
  },
  {
   "cell_type": "code",
   "execution_count": 275,
   "id": "ca1194b7",
   "metadata": {},
   "outputs": [],
   "source": [
    "# Tabla desagregada de adjudicaciones\n",
    "df_bandera16_adj = adjudicaciones[['codigoconvocatoria','ruc_entidad','ruc_codigo_ganador','ganador','grupo_familia','descripcion_familia','anio']].drop_duplicates()\n",
    "df_bandera16_adj = df_bandera16_adj.loc[df_bandera16_adj['anio'].isin([2018,2019,2020])]"
   ]
  },
  {
   "cell_type": "code",
   "execution_count": 276,
   "id": "6bb18f75",
   "metadata": {},
   "outputs": [],
   "source": [
    "# Tabla agregada de adjudicaciones\n",
    "df_bandera16_adj_agg = df_bandera16_adj.groupby(['ruc_codigo_ganador','ganador','ruc_entidad','grupo_familia'], as_index = False)\\\n",
    ".count() [['ruc_codigo_ganador','ganador','ruc_entidad','grupo_familia','codigoconvocatoria']]\\\n",
    ".rename(columns = {'codigoconvocatoria': 'cantidad_adjudicadas'})"
   ]
  },
  {
   "cell_type": "code",
   "execution_count": 277,
   "id": "c7a41797",
   "metadata": {},
   "outputs": [],
   "source": [
    "# Join tabla agregada de cantidad de postulaciones y tabla agregada de cantidad adjudicadas\n",
    "df_bandera16_agg = df_bandera16_conv_postores_agg.join(df_bandera16_adj_agg.set_index(['ruc_codigo_ganador','ruc_entidad','grupo_familia']),\n",
    "                                                     on = (['ruc_detallepostor','ruc_entidad','grupo_familia']),\n",
    "                                                    how = 'left')"
   ]
  },
  {
   "cell_type": "code",
   "execution_count": 278,
   "id": "a9fa6ac4",
   "metadata": {},
   "outputs": [],
   "source": [
    "# Reemplazo Nan por 0\n",
    "df_bandera16_agg = df_bandera16_agg.where(pd.notnull(df_bandera16_agg),0)"
   ]
  },
  {
   "cell_type": "code",
   "execution_count": 279,
   "id": "7da17c60",
   "metadata": {},
   "outputs": [],
   "source": [
    "# Calculo ratio cantidad_adjudicada / cantidad_postulacion para cada postor-entidad-familia\n",
    "df_bandera16_agg['bandera_16_ratio_cantadjudicaciones_cantpostulaciones'] = df_bandera16_agg['cantidad_adjudicadas'] * 1.00 / df_bandera16_agg['cantidad_postulaciones'] * 1.00 * 100 "
   ]
  },
  {
   "cell_type": "code",
   "execution_count": 280,
   "id": "face9f1b",
   "metadata": {},
   "outputs": [],
   "source": [
    "# Genero bandera a nivel postor-entidad-familia - 90% (sin contar los casos 1:1)\n",
    "df_bandera16_agg['bandera_16'] =  df_bandera16_agg.apply(lambda x: 'Si' \n",
    "                                                        if (x['bandera_16_ratio_cantadjudicaciones_cantpostulaciones'] > 90) & (x['cantidad_adjudicadas']!= 1 and x['cantidad_postulaciones'] != 1)\n",
    "                                                         else 'No', axis = 1)"
   ]
  },
  {
   "cell_type": "code",
   "execution_count": 281,
   "id": "9d2f8b7c",
   "metadata": {},
   "outputs": [],
   "source": [
    "# Genero ID postor-entidad-familia\n",
    "#df_bandera16_agg['id_entidad_familia'] = df_bandera16_agg['ruc_entidad'] + '-' + df_bandera16_agg['codigo_familia']\n",
    "df_bandera16_agg['id_postor_entidad_familia'] = df_bandera16_agg['ruc_detallepostor'].astype(str) + '-' + df_bandera16_agg['ruc_entidad'].astype(str) + '-' + df_bandera16_agg['grupo_familia'].astype(str)"
   ]
  },
  {
   "cell_type": "code",
   "execution_count": 282,
   "id": "d70f09a1",
   "metadata": {},
   "outputs": [],
   "source": [
    "df_bandera16_agg = df_bandera16_agg[['id_postor_entidad_familia','cantidad_postulaciones','cantidad_adjudicadas','bandera_16_ratio_cantadjudicaciones_cantpostulaciones','bandera_16']]"
   ]
  },
  {
   "cell_type": "code",
   "execution_count": 283,
   "id": "a124b1bf",
   "metadata": {},
   "outputs": [],
   "source": [
    "# Genero tabla de postores para convocatorias\n",
    "df_postores_cc = postores[['codigo_convocatoria','ruc_detallepostor','detalle_postor']].drop_duplicates()"
   ]
  },
  {
   "cell_type": "code",
   "execution_count": 284,
   "id": "90de55b6",
   "metadata": {
    "scrolled": true
   },
   "outputs": [],
   "source": [
    "# Me quedo con convocatorias \n",
    "df_convocatorias = convocatorias[['codigoconvocatoria','ruc_entidad','entidad','grupo_familia','familia']].drop_duplicates()\n",
    "df_convocatorias['id_entidad_familia'] = convocatorias['ruc_entidad'].astype(str) + '-' + convocatorias['grupo_familia'].astype(str)"
   ]
  },
  {
   "cell_type": "code",
   "execution_count": 285,
   "id": "7bb4bdbe",
   "metadata": {},
   "outputs": [],
   "source": [
    "# Join convocatorias y sus postores\n",
    "df_convocatorias = df_convocatorias.join(df_postores_cc.set_index('codigo_convocatoria'), on ='codigoconvocatoria',\n",
    "                                        how = 'left')"
   ]
  },
  {
   "cell_type": "code",
   "execution_count": 286,
   "id": "05f7b83a",
   "metadata": {},
   "outputs": [],
   "source": [
    "# Genero ID\n",
    "df_convocatorias['id_postor_entidad_familia'] = df_convocatorias['ruc_detallepostor'] + '-' + df_convocatorias['id_entidad_familia']"
   ]
  },
  {
   "cell_type": "code",
   "execution_count": 287,
   "id": "dae1b2b9",
   "metadata": {},
   "outputs": [],
   "source": [
    "df_convocatorias = df_convocatorias.join(df_bandera16_agg.set_index('id_postor_entidad_familia'),\n",
    "                                         on = 'id_postor_entidad_familia',\n",
    "                                         how = 'left',\n",
    "                                         rsuffix = '_agg')"
   ]
  },
  {
   "cell_type": "code",
   "execution_count": 288,
   "id": "f4b38f3c",
   "metadata": {},
   "outputs": [],
   "source": [
    "# Me quedo con los que bandera = si\n",
    "df_convocatorias = df_convocatorias.loc[df_convocatorias['bandera_16'] == 'Si']"
   ]
  },
  {
   "cell_type": "code",
   "execution_count": 289,
   "id": "15f599ed",
   "metadata": {},
   "outputs": [],
   "source": [
    "df_convocatorias['bandera_16_atributos'] = 'Ruc postor:' + df_convocatorias['ruc_detallepostor'] +\\\n",
    "                                           '-Razon social:' + df_convocatorias['detalle_postor'].astype(str) +\\\n",
    "                                           '-CodigoFamilia:' + df_convocatorias['grupo_familia'].astype(str) +\\\n",
    "                                           '-Familia:' + df_convocatorias['familia'] +\\\n",
    "                                           '-Cantidad postulaciones:' + df_convocatorias['cantidad_postulaciones'].astype(int).astype(str) +\\\n",
    "                                           '-Cantidad adjudicadas:' + df_convocatorias['cantidad_adjudicadas'].astype(int).astype(str) +\\\n",
    "                                           '-Porcentaje adjudicadas/postulaciones:' + df_convocatorias['bandera_16_ratio_cantadjudicaciones_cantpostulaciones'].astype(int).astype(str)+'%' "
   ]
  },
  {
   "cell_type": "code",
   "execution_count": 290,
   "id": "8e48886e",
   "metadata": {},
   "outputs": [],
   "source": [
    "df_convocatorias = pd.DataFrame(df_convocatorias.groupby('codigoconvocatoria',as_index = False)['bandera_16_atributos'].apply(';'.join))"
   ]
  },
  {
   "cell_type": "code",
   "execution_count": 291,
   "id": "6641cb34",
   "metadata": {},
   "outputs": [],
   "source": [
    "# Join con df_banderas16 con df_convocatorias\n",
    "df_bandera16 = df_bandera16.join(df_convocatorias.set_index('codigoconvocatoria'),\n",
    "                                on = 'codigoconvocatoria',\n",
    "                                how = 'left')"
   ]
  },
  {
   "cell_type": "code",
   "execution_count": 292,
   "id": "492d9e6f",
   "metadata": {},
   "outputs": [],
   "source": [
    "df_bandera16 = df_bandera16.where(pd.notnull(df_bandera16),None)"
   ]
  },
  {
   "cell_type": "code",
   "execution_count": 293,
   "id": "ba097f94",
   "metadata": {},
   "outputs": [],
   "source": [
    "# Genero bandera\n",
    "df_bandera16['bandera_16'] = df_bandera16.apply(lambda x: 'No' if x['bandera_16_atributos'] is None else 'Si', axis = 1)"
   ]
  },
  {
   "cell_type": "code",
   "execution_count": 294,
   "id": "1dfd06b5",
   "metadata": {
    "scrolled": true
   },
   "outputs": [],
   "source": [
    "# Rename columns\n",
    "df_bandera16 = df_bandera16.rename(columns ={'ruc_entidad' : 'bandera_16_rucentidad',\n",
    "                                             'entidad': 'bandera_16_entidad',\n",
    "                                            'bandera_16_atributos': 'bandera_16_postores_codflia_porcentaje_adj_vs_postulado'})"
   ]
  },
  {
   "cell_type": "code",
   "execution_count": 295,
   "id": "b39af401",
   "metadata": {},
   "outputs": [],
   "source": [
    "# End time de bandera\n",
    "end = datetime.datetime.now()\n",
    "\n",
    "# Calculo tiempo de procesamiento de bandera y agrego a DF\n",
    "tiempos = registro_tiempo_procesamiento('16',start,end, tiempos)"
   ]
  },
  {
   "cell_type": "markdown",
   "id": "b8445dc1",
   "metadata": {},
   "source": [
    "### Bandera 17: El tiempo transcurrido entre buena pro y consentimiento de buena pro es inferior al límite marcado por la legislación"
   ]
  },
  {
   "cell_type": "code",
   "execution_count": 308,
   "id": "40f0c8b0",
   "metadata": {},
   "outputs": [],
   "source": [
    "# Start time de bandera\n",
    "start = datetime.datetime.now()"
   ]
  },
  {
   "cell_type": "code",
   "execution_count": 309,
   "id": "0ec5ad82",
   "metadata": {},
   "outputs": [],
   "source": [
    "# Selecciono columnas relevantes para la bandera a construir\n",
    "df_bandera_17 = df_agg_cac[['anio','codigoconvocatoria','tipoprocesoseleccion']]"
   ]
  },
  {
   "cell_type": "code",
   "execution_count": 310,
   "id": "d1e4664c",
   "metadata": {},
   "outputs": [],
   "source": [
    "# Calculo diferencia de dias entre fechas\n",
    "Bandera17_adjudicaciones = adjudicaciones.copy()\n",
    "Bandera17_adjudicaciones['fecha_buenapro'] = Bandera17_adjudicaciones['fecha_buenapro'].fillna('1900-01-01') # nan a 1900 para poder computar np.busday\n",
    "Bandera17_adjudicaciones['fecha_consentimiento_bp'] = Bandera17_adjudicaciones['fecha_consentimiento_bp'].fillna('1900-01-01') # nan a 1900 para poder computar np.busday\n",
    "\n",
    "# Calculo diferencia de dias entre fechas excluyendo fin de semanas y feriados\n",
    "Bandera17_adjudicaciones['bandera_17_dif_buenapro_consentimiento_bp'] = np.busday_count(Bandera17_adjudicaciones['fecha_buenapro'].values.astype('datetime64[D]'),\n",
    "                               Bandera17_adjudicaciones['fecha_consentimiento_bp'].values.astype('datetime64[D]'), \n",
    "                              holidays = fecha_feriados)\n",
    "\n",
    "# Asigno NA a los casos en los que fecha convocatoria y/o fechapresentacionpropuesta es null\n",
    "Bandera17_adjudicaciones['bandera_17_dif_buenapro_consentimiento_bp'] = Bandera17_adjudicaciones.apply(lambda x: 'None' if (x['fecha_buenapro'] == '1900-01-01') or (x['fecha_consentimiento_bp'] == '1900-01-01 00:00:00')\n",
    "                                                                                      else x['bandera_17_dif_buenapro_consentimiento_bp'], axis = 1)"
   ]
  },
  {
   "cell_type": "code",
   "execution_count": 311,
   "id": "bae1b8aa",
   "metadata": {},
   "outputs": [],
   "source": [
    "Bandera17_adjudicaciones['consorcio'] = Bandera17_adjudicaciones.apply(lambda x: x['ruc_codigo_ganador'] \n",
    "                                                                       if x['tipo_proveedor'] == 'Consorcio' else 'No',\n",
    "                                                                      axis = 1)"
   ]
  },
  {
   "cell_type": "code",
   "execution_count": 312,
   "id": "3f00436f",
   "metadata": {},
   "outputs": [],
   "source": [
    "Bandera17_adjudicaciones['ruc_proveedor'] = Bandera17_adjudicaciones.apply(lambda x: x['ruc_miembro'] \n",
    "                                                                       if x['tipo_proveedor'] == 'Consorcio' else x['ruc_codigo_ganador'],\n",
    "                                                                      axis = 1)"
   ]
  },
  {
   "cell_type": "code",
   "execution_count": 313,
   "id": "39a6c080",
   "metadata": {},
   "outputs": [],
   "source": [
    "# Defino cantidad de dias de acuerdo a tipo de proceso\n",
    "def bandera_17_umbral_dias(tipoprocesoseleccion):\n",
    "    \"\"\"\n",
    "    Determina cantidad de dias máximos que pueden transcurrir entre fecha de buena pro y fecha de consentimiento de buena pro\n",
    "    de acuerdo al tipo de proceso de selección\n",
    "    \n",
    "    Params\n",
    "    ------\n",
    "    tipoprocesoseleccion(string): Tipo de proceso de seleccion de la convocatoria, por ejemplo 'Adjudicación Simplificada'\n",
    "    \n",
    "    Returns\n",
    "    -------\n",
    "    Cantidad de días máximos que pueden transcurrir entre fecha de buena pro y fecha de consentimiento de la buena pro\n",
    "    dado el tipo de proceso de selección\n",
    "    \n",
    "    \"\"\"\n",
    "    if tipoprocesoseleccion == 'Concurso Público':\n",
    "        resultado = 9\n",
    "    elif tipoprocesoseleccion == 'Licitación Pública':\n",
    "        resultado = 9\n",
    "    elif tipoprocesoseleccion == 'Contratación Directa':\n",
    "        resultado = None\n",
    "    elif tipoprocesoseleccion == 'Adjudicación Simplificada':\n",
    "        resultado = 6\n",
    "    elif tipoprocesoseleccion == 'Subasta Inversa Electrónica':\n",
    "        resultado = 6\n",
    "    elif tipoprocesoseleccion == 'Comparación de Precios':\n",
    "        resultado = 6\n",
    "    else:\n",
    "        resultado = None\n",
    "    return(resultado)"
   ]
  },
  {
   "cell_type": "code",
   "execution_count": 314,
   "id": "2d3e2845",
   "metadata": {},
   "outputs": [],
   "source": [
    "# Agrego columna que indica umbral\n",
    "Bandera17_adjudicaciones['bandera_17_umbral'] = Bandera17_adjudicaciones.apply(lambda x: bandera_17_umbral_dias(x['tipoprocesoseleccion']), axis = 1)"
   ]
  },
  {
   "cell_type": "code",
   "execution_count": 315,
   "id": "a86fd9fd",
   "metadata": {},
   "outputs": [],
   "source": [
    "# Computo bandera 17 a nivel item\n",
    "Bandera17_adjudicaciones['bandera_17'] = Bandera17_adjudicaciones.apply(lambda x: 'Si' \n",
    "                                               if (x['bandera_17_dif_buenapro_consentimiento_bp'] < x['bandera_17_umbral']) and (x['bandera_17_dif_buenapro_consentimiento_bp'] >= 0)  \n",
    "                                               else 'No', \n",
    "                                               axis = 1)"
   ]
  },
  {
   "cell_type": "code",
   "execution_count": 316,
   "id": "c4efb9af",
   "metadata": {},
   "outputs": [],
   "source": [
    "# Selecciono columnas relevantes\n",
    "Bandera17_adjudicaciones = Bandera17_adjudicaciones[['codigoconvocatoria','tipoprocesoseleccion','ruc_codigo_ganador','ganador','codigoitem','fecha_buenapro','fecha_consentimiento_bp','bandera_17_dif_buenapro_consentimiento_bp','bandera_17_umbral','bandera_17','ruc_proveedor','consorcio']]"
   ]
  },
  {
   "cell_type": "code",
   "execution_count": 317,
   "id": "cc38f984",
   "metadata": {},
   "outputs": [],
   "source": [
    "# Me quedo unicamente con convocatorias que tengan al menos un item con bandera 17\n",
    "Bandera17_adjudicaciones = Bandera17_adjudicaciones.loc[Bandera17_adjudicaciones['bandera_17'] == 'Si']"
   ]
  },
  {
   "cell_type": "code",
   "execution_count": 318,
   "id": "fee4ed09",
   "metadata": {},
   "outputs": [],
   "source": [
    "# Me quedo con convocatorias que hayan tenido solamente un postor\n",
    "\n",
    "# Genero tabla con codigoconvocatoria y postulantes unicos \n",
    "# (en tabla original esta aperturado por item y duplica postor)\n",
    "postores_cc = postores.groupby(['codigo_convocatoria','ruc_detallepostor','detalle_postor'], as_index =  False).count()\n",
    "convocatoria_multiples_postores = postores_cc.groupby('codigo_convocatoria',as_index = False).count()[['codigo_convocatoria','ruc_detallepostor','detalle_postor']]\n",
    "convocatoria_multiples_postores = convocatoria_multiples_postores.rename(columns = {'ruc_detallepostor': 'cantidad_postores'})\n",
    "\n",
    "# Selecciono convocatorias con mas de un postor\n",
    "convocatoria_multiples_postores = convocatoria_multiples_postores.loc[convocatoria_multiples_postores['cantidad_postores']> 1]\n",
    "\n",
    "# Join con tabla Bandera17_adjudicaciones\n",
    "Bandera17_adjudicaciones = Bandera17_adjudicaciones.join(convocatoria_multiples_postores.set_index('codigo_convocatoria'),\n",
    "                                                        on = 'codigoconvocatoria',\n",
    "                                                        how = 'inner')\n"
   ]
  },
  {
   "cell_type": "code",
   "execution_count": 320,
   "id": "04465f78",
   "metadata": {},
   "outputs": [],
   "source": [
    "# Cambio los tipos de datos de columnas que usare como atributos a string\n",
    "Bandera17_adjudicaciones['consorcio'] = Bandera17_adjudicaciones['consorcio'].astype(str)\n",
    "Bandera17_adjudicaciones['ruc_proveedor'] = Bandera17_adjudicaciones['ruc_proveedor'].astype(str)\n",
    "Bandera17_adjudicaciones['ganador'] = Bandera17_adjudicaciones['ganador'].astype(str)\n",
    "Bandera17_adjudicaciones['codigoitem'] = Bandera17_adjudicaciones['codigoitem'].astype(str)\n",
    "Bandera17_adjudicaciones['fecha_buenapro'] = Bandera17_adjudicaciones['fecha_buenapro'].astype(str)\n",
    "Bandera17_adjudicaciones['fecha_consentimiento_bp'] = Bandera17_adjudicaciones['fecha_consentimiento_bp'].astype(str)\n",
    "Bandera17_adjudicaciones['bandera_17_dif_buenapro_consentimiento_bp'] = Bandera17_adjudicaciones['bandera_17_dif_buenapro_consentimiento_bp'].astype(str)"
   ]
  },
  {
   "cell_type": "code",
   "execution_count": 321,
   "id": "98cb64f4",
   "metadata": {},
   "outputs": [],
   "source": [
    "# Genero una columna que tendra todos los atributos que quiero - concatenando las columnas\n",
    "\n",
    "Bandera17_adjudicaciones['bandera17_atributos'] = 'Consorcio:' + Bandera17_adjudicaciones['consorcio'] + ';' +\\\n",
    "' Ruc o Ruc miembro consorcio:' + Bandera17_adjudicaciones['ruc_proveedor'] + ';' +\\\n",
    "' Razon social:' + Bandera17_adjudicaciones['ganador'] + ';' +\\\n",
    "' CodigoItem:' + Bandera17_adjudicaciones['codigoitem'] + ';' + \\\n",
    "' Fecha bp: ' + Bandera17_adjudicaciones['fecha_buenapro'] + ';' +\\\n",
    "' Fecha consentimiento bp: ' + Bandera17_adjudicaciones['fecha_consentimiento_bp'] + ';' +\\\n",
    "' Diferencia:' + Bandera17_adjudicaciones['bandera_17_dif_buenapro_consentimiento_bp']"
   ]
  },
  {
   "cell_type": "code",
   "execution_count": 322,
   "id": "2475c337",
   "metadata": {
    "scrolled": true
   },
   "outputs": [],
   "source": [
    "# Flatten del df para que quede a nivel codigoconvocatoria y haga un string con todos los items con bandera17\n",
    "Bandera17_adjudicaciones = pd.DataFrame(Bandera17_adjudicaciones.groupby(['codigoconvocatoria'], as_index = False)['bandera17_atributos'].apply('|'.join))"
   ]
  },
  {
   "cell_type": "code",
   "execution_count": 323,
   "id": "9430fe0b",
   "metadata": {},
   "outputs": [
    {
     "name": "stderr",
     "output_type": "stream",
     "text": [
      "<ipython-input-323-46bbce69c349>:2: SettingWithCopyWarning: \n",
      "A value is trying to be set on a copy of a slice from a DataFrame.\n",
      "Try using .loc[row_indexer,col_indexer] = value instead\n",
      "\n",
      "See the caveats in the documentation: https://pandas.pydata.org/pandas-docs/stable/user_guide/indexing.html#returning-a-view-versus-a-copy\n",
      "  df_bandera_17['bandera_17_umbral'] = df_bandera_17.apply(lambda x: bandera_17_umbral_dias(x['tipoprocesoseleccion']), axis = 1)\n"
     ]
    }
   ],
   "source": [
    "# Agrego columna que indica umbral\n",
    "df_bandera_17['bandera_17_umbral'] = df_bandera_17.apply(lambda x: bandera_17_umbral_dias(x['tipoprocesoseleccion']), axis = 1)"
   ]
  },
  {
   "cell_type": "code",
   "execution_count": 324,
   "id": "e0aab385",
   "metadata": {},
   "outputs": [],
   "source": [
    "# Join df_bandera_17 con Bandera17_adjudicaciones\n",
    "df_bandera_17 = df_bandera_17.join(Bandera17_adjudicaciones.set_index('codigoconvocatoria'),\n",
    "                                  on = 'codigoconvocatoria',\n",
    "                                  how = 'left')"
   ]
  },
  {
   "cell_type": "code",
   "execution_count": 325,
   "id": "83ea4751",
   "metadata": {},
   "outputs": [],
   "source": [
    "# Reemplazo Nan por None\n",
    "df_bandera_17 = df_bandera_17.where(pd.notnull(df_bandera_17), None)"
   ]
  },
  {
   "cell_type": "code",
   "execution_count": 326,
   "id": "bb92a765",
   "metadata": {},
   "outputs": [],
   "source": [
    "# Genero bandera a nivel convocaotira\n",
    "df_bandera_17['bandera_17'] = df_bandera_17.apply(lambda x: 'No aplica' if x['tipoprocesoseleccion'] == 'Contratación Directa' else ('No' if x['bandera17_atributos'] is None \n",
    "                                                  else 'Si'), axis = 1)"
   ]
  },
  {
   "cell_type": "code",
   "execution_count": 327,
   "id": "3adb5053",
   "metadata": {},
   "outputs": [],
   "source": [
    "# Renombro columna con atributo\n",
    "df_bandera_17.rename(columns = {'bandera17_atributos':'bandera17_items_adjudicados_plazo_inferior_a_ley'}, inplace = True)"
   ]
  },
  {
   "cell_type": "code",
   "execution_count": 328,
   "id": "b9d544af",
   "metadata": {},
   "outputs": [],
   "source": [
    "# End time de bandera\n",
    "end = datetime.datetime.now()\n",
    "\n",
    "# Calculo tiempo de procesamiento de bandera y agrego a DF\n",
    "tiempos = registro_tiempo_procesamiento('17',start,end, tiempos)"
   ]
  },
  {
   "cell_type": "markdown",
   "id": "b21ecf10",
   "metadata": {},
   "source": [
    "### Bandera 19: El monto adjudicado por unidad (precio unitario) es superior al valor histórico"
   ]
  },
  {
   "cell_type": "code",
   "execution_count": 336,
   "id": "09ed47ab",
   "metadata": {},
   "outputs": [],
   "source": [
    "# Start time de bandera\n",
    "start = datetime.datetime.now()"
   ]
  },
  {
   "cell_type": "code",
   "execution_count": 337,
   "id": "f75c5d0d",
   "metadata": {},
   "outputs": [],
   "source": [
    "# Selecciono variables relevantes para la bandera\n",
    "df_bandera19 = df_agg_cac[['codigoconvocatoria','anio','fechaconvocatoria','objetocontractual','tipoprocesoseleccion']]"
   ]
  },
  {
   "cell_type": "code",
   "execution_count": 338,
   "id": "ab5bfddb",
   "metadata": {},
   "outputs": [
    {
     "data": {
      "text/plain": [
       "(18363, 5)"
      ]
     },
     "execution_count": 338,
     "metadata": {},
     "output_type": "execute_result"
    }
   ],
   "source": [
    "df_bandera19 = df_bandera19.loc[df_bandera19['anio'] == '2021']"
   ]
  },
  {
   "cell_type": "code",
   "execution_count": 339,
   "id": "29c469ca",
   "metadata": {},
   "outputs": [],
   "source": [
    "# Solo bienes y solo convocatorias de 2021\n",
    "df_bandera19_resto = df_bandera19.loc[df_bandera19['objetocontractual'] != 'Bien']\n",
    "df_bandera19 = df_bandera19.loc[df_bandera19['objetocontractual'] == 'Bien']"
   ]
  },
  {
   "cell_type": "code",
   "execution_count": 340,
   "id": "06dacf83",
   "metadata": {},
   "outputs": [],
   "source": [
    "# Genero precio unitario del item adjudicado\n",
    "adjudicaciones['precio_unitario_adjudicado'] = round(adjudicaciones['monto_adjudicado_item']/adjudicaciones['cantidad_adjudicada_item'],2)"
   ]
  },
  {
   "cell_type": "code",
   "execution_count": 341,
   "id": "4ab9d525",
   "metadata": {},
   "outputs": [],
   "source": [
    "# Solo items contratados o adjudicados - Solo Bienes\n",
    "df_adjudicaciones = adjudicaciones[adjudicaciones['estado_item'].isin(['Contratado','Adjudicado'])]\n",
    "df_adjudicaciones = df_adjudicaciones.loc[df_adjudicaciones['objetocontractual'] == 'BIENES']\n",
    "df_adjudicaciones = df_adjudicaciones[(df_adjudicaciones['moneda'].isin(['Soles','Nuevos Soles']))]"
   ]
  },
  {
   "cell_type": "code",
   "execution_count": 342,
   "id": "baae69d9",
   "metadata": {},
   "outputs": [],
   "source": [
    "def precio_item_vs_historico(codigoconvocatoria, df_adjudicaciones, meses = 2):\n",
    "    \n",
    "    # Selecciono items de la convocatoria\n",
    "    convocatoria_adjudicada = df_adjudicaciones.loc[df_adjudicaciones['codigoconvocatoria'] == codigoconvocatoria]\n",
    "    items_adjudicados = convocatoria_adjudicada['codigoitem'].unique()\n",
    "    \n",
    "    diccionario = {}\n",
    "    \n",
    "    for item in items_adjudicados:\n",
    "        if pd.isnull(item) == False: # Si el codigoitem existe  \n",
    "            # Selecciono adjudicaciones previas de este tipo de item y misma unidad\n",
    "            df_adj = df_adjudicaciones.loc[df_adjudicaciones['codigoitem'] == item]\n",
    "            unidad_medida = convocatoria_adjudicada.loc[convocatoria_adjudicada['codigoitem'] == item]['unidad_medida'].values[0]\n",
    "            df_adj = df_adj.loc[df_adj['unidad_medida'] == unidad_medida]\n",
    "                    \n",
    "            # Selecciono ventana temporal de analisis\n",
    "            fecha_adjudicacion = pd.to_datetime(convocatoria_adjudicada[convocatoria_adjudicada['codigoitem'] == item]['fecha_consentimiento_bp'].values[0])\n",
    "            fecha_inicio = (pd.to_datetime(fecha_adjudicacion) - pd.DateOffset(months=meses)).to_pydatetime()\n",
    "            df_items = df_adj.loc[(df_adj['fecha_consentimiento_bp'] < fecha_adjudicacion) & (df_adj['fecha_consentimiento_bp']> fecha_inicio)] \n",
    "            \n",
    "            if df_items.empty: \n",
    "                diccionario[f'item {item} -unidad {unidad_medida}'] = 'No existen adjudicaciones históricas en el periódo considerado para este item y unidad de medida'\n",
    "            else:\n",
    "                # Descarto outliers (algunos itemcubso no tienen las cantidades correctas e inflan precio unitario)\n",
    "                outliers = df_items['precio_unitario_adjudicado'].describe([.95])\n",
    "                df_items = df_items.loc[df_items['precio_unitario_adjudicado'] <= outliers['95%']]\n",
    "                \n",
    "\n",
    "                # Calculo media y SD de precio unitario para el item analizado\n",
    "                Media = round(df_items['precio_unitario_adjudicado'].mean(),2)\n",
    "                SD = round(df_items['precio_unitario_adjudicado'].std(),2)\n",
    "                MasDosSD = round(Media + 2 * SD,2)                                  \n",
    "                MenosDosSD = round(Media - 2 * SD,2)\n",
    "                Convocatorias = df_items['codigoconvocatoria'].unique()\n",
    "                \n",
    "                if SD == 0:\n",
    "                    cantidad_casos = df_items.shape[0]\n",
    "                    diccionario[f'item {item}'] = 'No hay suficiente variabilidad de precio en el periodo considerado (Desvio estandar = 0 , Casos = cantidad_casos)'\n",
    "                else:\n",
    "                    # Miro adjudicaciones del item\n",
    "                    adjudicaciones_item = convocatoria_adjudicada.loc[convocatoria_adjudicada['codigoitem'] == item]\n",
    "                    precios_unitarios_adjudicados = adjudicaciones_item[['codigoitem','ruc_codigo_ganador','precio_unitario_adjudicado']]\n",
    "                    \n",
    "                    for index, row in precios_unitarios_adjudicados.iterrows(): #Puede haber mas de una adj para el mismo item y convocatoria\n",
    "                        # Comparo el precio unitario del item adjudicado vs +/- 2 Desvios Estandar\n",
    "                        if row['precio_unitario_adjudicado'] > MasDosSD:\n",
    "                            diccionario[f'CodigoItem {item} -unidad {unidad_medida}'] = [f'precio unitario {row[\"precio_unitario_adjudicado\"]}',f'precio media {Media}',f'precio std {SD}',f'umbral_superior {MasDosSD}', f'convocatorias: {Convocatorias}'] \n",
    "                        #elif row['precio_unitario_adjudicado'] < MenosDosSD:\n",
    "                            #diccionario[f'CodigoItem {item} -unidad {unidad_medida}'] = [f'precio unitario {row[\"precio_unitario_adjudicado\"]}',f'precio media {Media}',f'precio std {SD}',f'umbral_inferior {MenosDosSD}',f'umbral_superior {MasDosSD}', f'convocatorias: {Convocatorias}'] \n",
    "                        else:\n",
    "                            continue\n",
    "        else:\n",
    "            diccionario[f'item {item}'] = 'Codigo de item es nulo'\n",
    "            continue      \n",
    "    return(diccionario)"
   ]
  },
  {
   "cell_type": "code",
   "execution_count": 343,
   "id": "6a6ff36c",
   "metadata": {
    "scrolled": true
   },
   "outputs": [],
   "source": [
    "# Generacion atributo\n",
    "df_bandera19['bandera19_precio_unitario_item_vs_historico'] = df_bandera19.apply(lambda x: precio_item_vs_historico(x['codigoconvocatoria'],\n",
    "                                                                                                                    df_adjudicaciones, \n",
    "                                                                                                                     meses = 2),\n",
    "                                                                                axis = 1)"
   ]
  },
  {
   "cell_type": "code",
   "execution_count": 344,
   "id": "265dfe02",
   "metadata": {},
   "outputs": [],
   "source": [
    "# Si diccionario esta vacio reemplazo por null\n",
    "df_bandera19['bandera19_precio_unitario_item_vs_historico'] = df_bandera19.apply(lambda x: None if bool(x['bandera19_precio_unitario_item_vs_historico'])== False else x['bandera19_precio_unitario_item_vs_historico'] ,axis = 1) "
   ]
  },
  {
   "cell_type": "code",
   "execution_count": 345,
   "id": "cc37e467",
   "metadata": {},
   "outputs": [],
   "source": [
    "def generacion_bandera_19(atributo):\n",
    "    if atributo is None:\n",
    "        resultado = 'No'\n",
    "    else:\n",
    "        atributo = str(atributo.values())\n",
    "        if 'precio unitario' in atributo:\n",
    "            resultado = 'Si'\n",
    "        elif 'Codigo de item es nulo' in atributo:\n",
    "            resultado = 'No aplica'\n",
    "        elif 'No existen adjudicaciones históricas' in atributo:\n",
    "            resultado = 'No aplica'\n",
    "        elif 'No hay suficiente variabilidad' in atributo:\n",
    "            resultado = 'No aplica'\n",
    "        else:\n",
    "            resultado = None\n",
    "    return(resultado)"
   ]
  },
  {
   "cell_type": "code",
   "execution_count": 346,
   "id": "ca0e2c8b",
   "metadata": {},
   "outputs": [],
   "source": [
    "# Generacion bandera\n",
    "df_bandera19['bandera19'] = df_bandera19.apply(lambda x: 'No aplica' if x['objetocontractual'] != 'Bien' else\n",
    "                                               generacion_bandera_19(x['bandera19_precio_unitario_item_vs_historico']),\n",
    "                                              axis = 1)"
   ]
  },
  {
   "cell_type": "code",
   "execution_count": 347,
   "id": "3b4733a7",
   "metadata": {},
   "outputs": [],
   "source": [
    "# Agrego 'No aplica' de servicios, obras etc\n",
    "df_bandera19_resto['bandera19'] = 'No aplica'\n",
    "df_bandera19_resto['bandera19_precio_unitario_item_vs_historico'] = None\n",
    "\n",
    "df_bandera19 = pd.concat([df_bandera19,df_bandera19_resto])"
   ]
  },
  {
   "cell_type": "code",
   "execution_count": 348,
   "id": "456410e2",
   "metadata": {},
   "outputs": [],
   "source": [
    "# End time de bandera\n",
    "end = datetime.datetime.now()\n",
    "\n",
    "# Calculo tiempo de procesamiento de bandera y agrego a DF\n",
    "tiempos = registro_tiempo_procesamiento('19',start,end, tiempos)"
   ]
  },
  {
   "cell_type": "markdown",
   "id": "08d8ed08",
   "metadata": {},
   "source": [
    "### Bandera 21: Adjudicación con el tipo de proceso de selección diferente al planificado"
   ]
  },
  {
   "cell_type": "code",
   "execution_count": 356,
   "id": "41419d00",
   "metadata": {},
   "outputs": [],
   "source": [
    "# Start time de bandera\n",
    "start = datetime.datetime.now()"
   ]
  },
  {
   "cell_type": "code",
   "execution_count": 357,
   "id": "28d22fb5",
   "metadata": {},
   "outputs": [],
   "source": [
    "# Selecciono variables relevantes para la bandera\n",
    "df_bandera_21 = df_agg_cac[['codigoconvocatoria','tipoprocesoseleccion']]"
   ]
  },
  {
   "cell_type": "code",
   "execution_count": 358,
   "id": "9b456e46",
   "metadata": {},
   "outputs": [],
   "source": [
    "# Traigo proceso de seleccion de PAC y Adj\n",
    "df_bandera_21 = df_bandera_21.join(df_agg_pcac[['codigoconvocatoria','tipoprocesoseleccion']]\\\n",
    "                                   .set_index('codigoconvocatoria'),\n",
    "                                  on = 'codigoconvocatoria',\n",
    "                                  how = 'left',\n",
    "                                  rsuffix = '_pac')\\\n",
    "                              .join(adjudicaciones_agg[['codigoconvocatoria','tipoprocesoseleccion']]\\\n",
    "                                   .set_index('codigoconvocatoria'),\n",
    "                                  on = 'codigoconvocatoria',\n",
    "                                  how = 'left',\n",
    "                                  rsuffix = '_adj')\n"
   ]
  },
  {
   "cell_type": "code",
   "execution_count": 359,
   "id": "24602d7f",
   "metadata": {},
   "outputs": [],
   "source": [
    "# Nan a None\n",
    "df_bandera_21 = df_bandera_21.where(pd.notnull(df_bandera_21),None)"
   ]
  },
  {
   "cell_type": "code",
   "execution_count": 360,
   "id": "c484b8ef",
   "metadata": {},
   "outputs": [],
   "source": [
    "df_bandera_21['bandera_21'] = df_bandera_21.apply(lambda x:'No aplica' if x['tipoprocesoseleccion_pac'] is None else \n",
    "                                                  ('No' if (x['tipoprocesoseleccion_pac'] == x['tipoprocesoseleccion_adj']) else 'Si')\n",
    "                                                  ,axis = 1)"
   ]
  },
  {
   "cell_type": "code",
   "execution_count": 361,
   "id": "a2d1dfb8",
   "metadata": {},
   "outputs": [],
   "source": [
    "# Renombro columnas\n",
    "df_bandera_21 = df_bandera_21.rename(columns = {'tipoprocesoseleccion_pac': 'bandera_21_tipoprocesoseleccion_pac',\n",
    "                                               'tipoprocesoseleccion_adj': 'bandera_21_tipoprocesoseleccion_adj'})"
   ]
  },
  {
   "cell_type": "code",
   "execution_count": 362,
   "id": "5ff70b6c",
   "metadata": {},
   "outputs": [],
   "source": [
    "# End time de bandera\n",
    "end = datetime.datetime.now()\n",
    "\n",
    "# Calculo tiempo de procesamiento de bandera y agrego a DF\n",
    "tiempos = registro_tiempo_procesamiento('21',start,end, tiempos)"
   ]
  },
  {
   "cell_type": "markdown",
   "id": "0da136d5",
   "metadata": {},
   "source": [
    "### Bandera 22: El plazo transcurrido entre el consentimiento de buena pro y suscripción del contrato es demasiado largo\n",
    "\n"
   ]
  },
  {
   "cell_type": "code",
   "execution_count": 369,
   "id": "093abc22",
   "metadata": {},
   "outputs": [],
   "source": [
    "# Start time de bandera\n",
    "start = datetime.datetime.now()"
   ]
  },
  {
   "cell_type": "code",
   "execution_count": 370,
   "id": "06a86e6d",
   "metadata": {},
   "outputs": [],
   "source": [
    "# Selecciono variables relevantes para la bandera\n",
    "df_bandera22 = df_agg_cac[['codigoconvocatoria','anio','tipoprocesoseleccion']]"
   ]
  },
  {
   "cell_type": "code",
   "execution_count": 371,
   "id": "4ef741b9",
   "metadata": {},
   "outputs": [],
   "source": [
    "Bandera22_adj_contratos = adjudicaciones[['codigoconvocatoria','n_item','codigoitem','itemcubso','ruc_codigo_ganador','ganador','fecha_consentimiento_bp','tipo_proveedor','ruc_miembro']].join(contratos[['codigoconvocatoria','num_item','ruc_codigo_ganador','fecha_suscripcion_contrato']]\\\n",
    "                                              .set_index(['codigoconvocatoria','num_item','ruc_codigo_ganador']),\n",
    "                                             on = ['codigoconvocatoria','n_item','ruc_codigo_ganador'],\n",
    "                                             how = 'inner')"
   ]
  },
  {
   "cell_type": "code",
   "execution_count": 372,
   "id": "e95d71a1",
   "metadata": {},
   "outputs": [],
   "source": [
    "# Calculo diferencia de dias entre fechas\n",
    "Bandera22_adj_contratos['fecha_consentimiento_bp'] = Bandera22_adj_contratos['fecha_consentimiento_bp'].fillna('1900-01-01') # nan a 1900 para poder computar np.busday\n",
    "Bandera22_adj_contratos['fecha_suscripcion_contrato'] = Bandera22_adj_contratos['fecha_suscripcion_contrato'].fillna('1900-01-01') # nan a 1900 para poder computar np.busday\n",
    "\n",
    "# Calculo diferencia de dias entre fechas excluyendo fin de semanas y feriados\n",
    "Bandera22_adj_contratos['bandera_22_dif_consentimientobp_suscripcioncontrato'] = np.busday_count(Bandera22_adj_contratos['fecha_consentimiento_bp'].values.astype('datetime64[D]'),\n",
    "                               Bandera22_adj_contratos['fecha_suscripcion_contrato'].values.astype('datetime64[D]'), \n",
    "                              holidays = fecha_feriados)\n",
    "\n",
    "# Asigno NA a los casos en los que fecha convocatoria y/o fechapresentacionpropuesta es null\n",
    "Bandera22_adj_contratos['bandera_22_dif_consentimientobp_suscripcioncontrato'] = Bandera22_adj_contratos.apply(lambda x: None if x['fecha_consentimiento_bp'] == '1900-01-01' or x['fecha_suscripcion_contrato'] == '1900-01-01'\n",
    "                                                                                      else x['bandera_22_dif_consentimientobp_suscripcioncontrato'], axis = 1)"
   ]
  },
  {
   "cell_type": "code",
   "execution_count": 373,
   "id": "4df96762",
   "metadata": {},
   "outputs": [],
   "source": [
    "Bandera22_adj_contratos['consorcio'] = Bandera22_adj_contratos.apply(lambda x: x['ruc_codigo_ganador'] \n",
    "                                                                       if x['tipo_proveedor'] == 'Consorcio' else 'No',\n",
    "                                                                      axis = 1)\n",
    "\n",
    "Bandera22_adj_contratos['ruc_proveedor'] = Bandera22_adj_contratos.apply(lambda x: x['ruc_miembro'] \n",
    "                                                                       if x['tipo_proveedor'] == 'Consorcio' else x['ruc_codigo_ganador'],\n",
    "                                                                      axis = 1)"
   ]
  },
  {
   "cell_type": "code",
   "execution_count": 374,
   "id": "17981acb",
   "metadata": {},
   "outputs": [],
   "source": [
    "# Calculo bandera a nivel item\n",
    "umbral = 16\n",
    "Bandera22_adj_contratos['bandera_22'] = Bandera22_adj_contratos.apply(lambda x: 'Si' if (x['bandera_22_dif_consentimientobp_suscripcioncontrato'] > umbral) and (x['bandera_22_dif_consentimientobp_suscripcioncontrato'] < 1000) else 'No', axis = 1)"
   ]
  },
  {
   "cell_type": "code",
   "execution_count": 375,
   "id": "e86180b5",
   "metadata": {},
   "outputs": [],
   "source": [
    "# Me quedo solo con items para los que salto la bandera\n",
    "Bandera22_adj_contratos = Bandera22_adj_contratos.loc[Bandera22_adj_contratos['bandera_22'] == 'Si']"
   ]
  },
  {
   "cell_type": "code",
   "execution_count": 376,
   "id": "bf9b3f07",
   "metadata": {},
   "outputs": [],
   "source": [
    "# Cambio los tipos de datos de columnas que usare como atributos a string\n",
    "Bandera22_adj_contratos['ruc_codigo_ganador'] = Bandera22_adj_contratos['ruc_codigo_ganador'].astype(str)\n",
    "Bandera22_adj_contratos['ruc_proveedor'] = Bandera22_adj_contratos['ruc_proveedor'].astype(str)\n",
    "Bandera22_adj_contratos['ganador'] = Bandera22_adj_contratos['ganador'].astype(str)\n",
    "Bandera22_adj_contratos['consorcio'] = Bandera22_adj_contratos['consorcio'].astype(str)\n",
    "Bandera22_adj_contratos['codigoitem'] = Bandera22_adj_contratos['codigoitem'].astype(str)\n",
    "Bandera22_adj_contratos['itemcubso'] = Bandera22_adj_contratos['itemcubso'].astype(str)\n",
    "Bandera22_adj_contratos['fecha_consentimiento_bp'] = Bandera22_adj_contratos['fecha_consentimiento_bp'].astype(str)\n",
    "Bandera22_adj_contratos['fecha_suscripcion_contrato'] = Bandera22_adj_contratos['fecha_suscripcion_contrato'].astype(str)\n",
    "Bandera22_adj_contratos['bandera_22_dif_consentimientobp_suscripcioncontrato'] = Bandera22_adj_contratos['bandera_22_dif_consentimientobp_suscripcioncontrato'].astype(str)"
   ]
  },
  {
   "cell_type": "code",
   "execution_count": 377,
   "id": "7912cd67",
   "metadata": {},
   "outputs": [],
   "source": [
    "# Genero una columna que tendra todos los atributos que quiero - concatenando las columnas\n",
    "\n",
    "Bandera22_adj_contratos['bandera22_atributos'] = 'Consorcio:' + Bandera22_adj_contratos['consorcio'] + ';'+\\\n",
    "' Ruc o Ruc miembro consorcio:' + Bandera22_adj_contratos['ruc_proveedor'] + ';'+\\\n",
    "' Razon social:' + Bandera22_adj_contratos['ganador'] + ';'+\\\n",
    "' CodigoItem:' + Bandera22_adj_contratos['codigoitem'] + ';'+ \\\n",
    "' Itemcubso:' + Bandera22_adj_contratos['itemcubso'] + ';'+ \\\n",
    "' Fecha consentimiento bp: ' + Bandera22_adj_contratos['fecha_consentimiento_bp'] + ';'+ \\\n",
    "' Fecha suscripcion contrato: ' + Bandera22_adj_contratos['fecha_suscripcion_contrato'] + ';'+ \\\n",
    "' Diferencia:' + Bandera22_adj_contratos['bandera_22_dif_consentimientobp_suscripcioncontrato']"
   ]
  },
  {
   "cell_type": "code",
   "execution_count": 378,
   "id": "3026bad8",
   "metadata": {
    "scrolled": true
   },
   "outputs": [],
   "source": [
    "# Flatten del df para que quede a nivel codigoconvocatoria y haga un string con todos los items con bandera22\n",
    "Bandera22_adj_contratos = pd.DataFrame(Bandera22_adj_contratos.groupby(['codigoconvocatoria'], as_index = False)['bandera22_atributos'].apply(r'|'.join))\n",
    "\n"
   ]
  },
  {
   "cell_type": "code",
   "execution_count": 379,
   "id": "fd1a89b6",
   "metadata": {},
   "outputs": [],
   "source": [
    "# Join df_bandera_22 con Bandera22_adj_contratos\n",
    "df_bandera22 = df_bandera22.join(Bandera22_adj_contratos.set_index('codigoconvocatoria'),\n",
    "                                on = 'codigoconvocatoria',\n",
    "                                how = 'left')"
   ]
  },
  {
   "cell_type": "code",
   "execution_count": 380,
   "id": "259c39d3",
   "metadata": {},
   "outputs": [],
   "source": [
    "# Cambio nan por None\n",
    "df_bandera22=df_bandera22.where(pd.notnull(df_bandera22), None)"
   ]
  },
  {
   "cell_type": "code",
   "execution_count": 381,
   "id": "f4952c77",
   "metadata": {},
   "outputs": [],
   "source": [
    "# Genero bandera 22 a nivel convocatoria - para todos excepto Contratacion Directa\n",
    "df_bandera22['bandera_22'] = df_bandera22.apply(lambda x: 'No aplica' if x['tipoprocesoseleccion'] == 'Contratación Directa' \n",
    "                                               else ('No' if x['bandera22_atributos'] is None else 'Si'), axis = 1)\n",
    "\n"
   ]
  },
  {
   "cell_type": "code",
   "execution_count": 382,
   "id": "ef716a65",
   "metadata": {},
   "outputs": [],
   "source": [
    "# Renombro atributos\n",
    "df_bandera22 = df_bandera22.rename(columns = {'bandera22_atributos':'df_bandera22_itemscontratados_plazo_mayor_ley'})\n",
    "# Agrego columna con umbral\n",
    "df_bandera22['bandera_22_umbral'] = 16"
   ]
  },
  {
   "cell_type": "code",
   "execution_count": 383,
   "id": "c7a34c77",
   "metadata": {},
   "outputs": [],
   "source": [
    "# End time de bandera\n",
    "end = datetime.datetime.now()\n",
    "\n",
    "# Calculo tiempo de procesamiento de bandera y agrego a DF\n",
    "tiempos = registro_tiempo_procesamiento('22',start,end, tiempos)"
   ]
  },
  {
   "cell_type": "code",
   "execution_count": null,
   "id": "03ee7415",
   "metadata": {},
   "outputs": [],
   "source": []
  },
  {
   "cell_type": "markdown",
   "id": "92572177",
   "metadata": {},
   "source": [
    "### Bandera 23a"
   ]
  },
  {
   "cell_type": "code",
   "execution_count": 390,
   "id": "f4d1e02c",
   "metadata": {},
   "outputs": [],
   "source": [
    "# Start time de bandera\n",
    "start = datetime.datetime.now()"
   ]
  },
  {
   "cell_type": "code",
   "execution_count": 391,
   "id": "bd8b19fb",
   "metadata": {},
   "outputs": [],
   "source": [
    "# Selecciono variables para construir bandera\n",
    "df_bandera23a = df_agg_cac[['codigoconvocatoria','tipoprocesoseleccion','objetocontractual']]"
   ]
  },
  {
   "cell_type": "code",
   "execution_count": 392,
   "id": "115679e3",
   "metadata": {},
   "outputs": [],
   "source": [
    "# Selecciono variables de convocatorias para join con contratos\n",
    "bandera_23a_convocatorias = convocatorias[['codigoconvocatoria','objetocontractual','tipoprocesoseleccion']].drop_duplicates()"
   ]
  },
  {
   "cell_type": "code",
   "execution_count": 393,
   "id": "5925aa09",
   "metadata": {},
   "outputs": [],
   "source": [
    "# Selecciono variables para construir bandera - dataframe de contratos\n",
    "bandera_23a_contratos = contratos[['codigoconvocatoria',\n",
    "                                   'n_cod_contrato',\n",
    "                                   'ruc_proveedor',\n",
    "                                   'ruc_proveedor_razon_social',\n",
    "                                   'monto_contratado_total',\n",
    "                                   'monto_adicional',\n",
    "                                  'monto_reduccion',\n",
    "                                  'monto_complementario']]\n",
    "\n",
    "# Join con convocatorias para traer proceso de seleccion y objeto contractual\n",
    "bandera_23a_contratos = bandera_23a_contratos.join(bandera_23a_convocatorias.set_index('codigoconvocatoria'),\n",
    "                                                  on = 'codigoconvocatoria',\n",
    "                                                  how = 'inner')"
   ]
  },
  {
   "cell_type": "code",
   "execution_count": 394,
   "id": "e00cf2e0",
   "metadata": {},
   "outputs": [],
   "source": [
    "# Flatten del dataframe a nivel cod-convocatoria-contrato\n",
    "bandera_23a_contratos = bandera_23a_contratos.drop_duplicates(['codigoconvocatoria','n_cod_contrato'])"
   ]
  },
  {
   "cell_type": "code",
   "execution_count": 395,
   "id": "387319b2",
   "metadata": {},
   "outputs": [],
   "source": [
    "# Si los montos son Nan entonces convertir a cero\n",
    "bandera_23a_contratos = bandera_23a_contratos.where(pd.notnull(bandera_23a_contratos),0)"
   ]
  },
  {
   "cell_type": "code",
   "execution_count": 396,
   "id": "18025e16",
   "metadata": {},
   "outputs": [],
   "source": [
    "bandera_23a_contratos['bandera_23a_adicional_vs_contratado'] = (bandera_23a_contratos['monto_adicional'] * 1.00 / bandera_23a_contratos['monto_contratado_total'] * 100)\n",
    "bandera_23a_contratos['bandera_23a_reduccion_vs_contratado'] = bandera_23a_contratos['monto_reduccion'] * 1.00 / bandera_23a_contratos['monto_contratado_total'] * 100\n",
    "bandera_23a_contratos['bandera_23a_complementario_vs_contratado'] = bandera_23a_contratos['monto_complementario'] * 1.00 / bandera_23a_contratos['monto_contratado_total'] * 100"
   ]
  },
  {
   "cell_type": "code",
   "execution_count": 397,
   "id": "2a7085e1",
   "metadata": {},
   "outputs": [],
   "source": [
    "# Si los montos son Nan entonces convertir a cero\n",
    "bandera_23a_contratos = bandera_23a_contratos.where(pd.notnull(bandera_23a_contratos),0)"
   ]
  },
  {
   "cell_type": "code",
   "execution_count": 398,
   "id": "f438cb3d",
   "metadata": {},
   "outputs": [],
   "source": [
    "def generacion_microbanderas_23a(objetocontractual,tipoprocesoseleccion,bandera_23a_adicional_vs_contratado,bandera_23a_reduccion_vs_contratado,bandera_23a_complementario_vs_contratado):\n",
    "    if objetocontractual in (['Bien','Servicio']):\n",
    "        #### BIENES Y SERVICIOS ####\n",
    "        # Adicional vs contratado\n",
    "        if (bandera_23a_adicional_vs_contratado >= 23) & (bandera_23a_adicional_vs_contratado <= 25):\n",
    "            resultado_adicional_vs_contratado = 'Si'\n",
    "        else: \n",
    "            resultado_adicional_vs_contratado = 'No'\n",
    "        # Reduccion vs contratado\n",
    "        if (bandera_23a_reduccion_vs_contratado >= 23) & (bandera_23a_reduccion_vs_contratado <= 25):\n",
    "            resultado_reduccion_vs_contratado = 'Si'\n",
    "        else: \n",
    "            resultado_reduccion_vs_contratado = 'No'\n",
    "        # Complementario vs contratado\n",
    "        if tipoprocesoseleccion == 'Contratación Directa':\n",
    "            resultado_complementario_vs_contratado = 'No aplica'\n",
    "        elif (bandera_23a_complementario_vs_contratado >= 23) & (bandera_23a_complementario_vs_contratado <= 25):\n",
    "            resultado_complementario_vs_contratado = 'Si'\n",
    "        else: \n",
    "            resultado_complementario_vs_contratado = 'No'\n",
    "    elif objetocontractual == 'Obra':\n",
    "        ##### OBRAS #####\n",
    "        # Adicional vs contratado\n",
    "        if (bandera_23a_adicional_vs_contratado >= 47) & (bandera_23a_adicional_vs_contratado <= 50):\n",
    "            resultado_adicional_vs_contratado = 'Si'\n",
    "        else: \n",
    "            resultado_adicional_vs_contratado = 'No'\n",
    "        # Reduccion vs contratado\n",
    "        if (bandera_23a_reduccion_vs_contratado >= 47) & (bandera_23a_reduccion_vs_contratado <= 50):\n",
    "            resultado_reduccion_vs_contratado = 'Si'\n",
    "        else: \n",
    "            resultado_reduccion_vs_contratado = 'No'\n",
    "        # Complementario vs contratado\n",
    "        if (bandera_23a_complementario_vs_contratado >= 47) & (bandera_23a_complementario_vs_contratado <= 50):\n",
    "            resultado_complementario_vs_contratado = 'Si'\n",
    "        else: \n",
    "            resultado_complementario_vs_contratado = 'No'\n",
    "    else:\n",
    "        ##### CONSULTORIA DE OBRA ####\n",
    "        resultado_adicional_vs_contratado = 'No aplica'\n",
    "        resultado_reduccion_vs_contratado = 'No aplica'\n",
    "        resultado_complementario_vs_contratado = 'No aplica'\n",
    "        \n",
    "    return(pd.Series([resultado_adicional_vs_contratado,resultado_reduccion_vs_contratado,resultado_complementario_vs_contratado]))\n",
    "    "
   ]
  },
  {
   "cell_type": "code",
   "execution_count": 399,
   "id": "f779afbf",
   "metadata": {},
   "outputs": [],
   "source": [
    "# Microbanderas a nivel contrato\n",
    "bandera_23a_contratos[['bandera_23a_adicion','bandera_23a_reduccion','bandera_23a_complementario']] = bandera_23a_contratos.apply(lambda x: generacion_microbanderas_23a(x['objetocontractual'],\n",
    "                                                                                                                                                                         x['tipoprocesoseleccion'],\n",
    "                                                                                                                                                                         x['bandera_23a_adicional_vs_contratado'],\n",
    "                                                                                                                                                                         x['bandera_23a_reduccion_vs_contratado'],\n",
    "                                                                                                                                                                         x['bandera_23a_complementario_vs_contratado']),\n",
    "                                                                  axis = 1)"
   ]
  },
  {
   "cell_type": "code",
   "execution_count": 400,
   "id": "c4841920",
   "metadata": {},
   "outputs": [],
   "source": [
    "# Bandera 23a a nivel contrato\n",
    "bandera_23a_contratos['bandera_23a'] = bandera_23a_contratos.apply(lambda x: 'Si' if (x['bandera_23a_adicion'] == 'Si') \n",
    "                                                                   or (x['bandera_23a_reduccion'] == 'Si') \n",
    "                                                                   or (x['bandera_23a_complementario'] == 'Si')\n",
    "                                                                   else 'No', axis = 1)"
   ]
  },
  {
   "cell_type": "code",
   "execution_count": 401,
   "id": "96d11bf8",
   "metadata": {},
   "outputs": [],
   "source": [
    "# Nan a 0\n",
    "bandera_23a_contratos = bandera_23a_contratos.where(pd.notnull(bandera_23a_contratos),0)"
   ]
  },
  {
   "cell_type": "code",
   "execution_count": 402,
   "id": "7d59798b",
   "metadata": {},
   "outputs": [],
   "source": [
    "bandera_23a_contratos['n_cod_contrato'] = round(bandera_23a_contratos['n_cod_contrato'].astype(float),0).astype('Int64')"
   ]
  },
  {
   "cell_type": "code",
   "execution_count": 403,
   "id": "d29bbfac",
   "metadata": {},
   "outputs": [],
   "source": [
    "# Generacion de atributos\n",
    "def generar_atributos_bandera23a(n_cod_contrato,\n",
    "                                 ruc_proveedor,\n",
    "                                 ruc_proveedor_razon_social,\n",
    "                                monto_contratado_total,\n",
    "                                monto_adicional,\n",
    "                                monto_reduccion,\n",
    "                                monto_complementario,\n",
    "                                bandera_23a_adicional_vs_contratado,\n",
    "                                bandera_23a_reduccion_vs_contratado,\n",
    "                                bandera_23a_complementario_vs_contratado,\n",
    "                                bandera_23a_adicion,\n",
    "                                bandera_23a_reduccion,\n",
    "                                bandera_23a_complementario):\n",
    "    \n",
    "    # Resultado\n",
    "    atributos_generales = ' N_Cod_Contrato:' + str(n_cod_contrato) + ';'\\\n",
    "                          ' Ruc proveedor:' + str(ruc_proveedor) + ';' \\\n",
    "                          ' Razon social:' + str(ruc_proveedor_razon_social) + ';'\n",
    "    \n",
    "    resultado = atributos_generales\n",
    "    \n",
    "    # Atributos bandera adicion\n",
    "    atributos_adicion = '**Monto adicional vs contratado**' + ';' + \\\n",
    "                        ' Monto contratado: ' + str(round(monto_contratado_total,2)) + ';' +\\\n",
    "                        ' Monto adicional: ' + str(round(monto_adicional,2)) + ';' +\\\n",
    "                        ' Porcentaje: ' + str(round(bandera_23a_adicional_vs_contratado,2)) +  '%' \n",
    "    # Atributos bandera reduccion\n",
    "    atributos_reduccion = '**Monto reduccion vs contratado**' + ';' + \\\n",
    "                            ' Monto contratado: ' + str(round(monto_contratado_total,2)) + ';' + \\\n",
    "                            ' Monto reduccion: ' + str(round(monto_reduccion,2)) + ';' + \\\n",
    "                            ' Porcentaje: ' + str(round(bandera_23a_reduccion_vs_contratado,2)) +  '%'\n",
    "    # Atributos bandera complementario\n",
    "    atributos_complementario = '**Monto complementario vs contratado**' +  ';' +\\\n",
    "                            ' Monto contratado: ' + str(round(monto_contratado_total,2)) + ';' + \\\n",
    "                            ' Monto complementario: ' + str(round(monto_complementario,2)) + ';' + \\\n",
    "                            ' Porcentaje: ' + str(round(bandera_23a_complementario_vs_contratado,2)) +  '%'\n",
    "    if bandera_23a_adicion == 'Si':\n",
    "        resultado = resultado + atributos_adicion\n",
    "    if bandera_23a_reduccion == 'Si':\n",
    "        resultado = resultado + atributos_reduccion\n",
    "    if bandera_23a_complementario == 'Si':\n",
    "        resultado = resultado + atributos_complementario\n",
    "                \n",
    "    return(resultado)"
   ]
  },
  {
   "cell_type": "code",
   "execution_count": 404,
   "id": "81807870",
   "metadata": {},
   "outputs": [],
   "source": [
    "bandera_23a_contratos['bandera_23a_atributos'] = bandera_23a_contratos.apply(lambda x: generar_atributos_bandera23a(x['n_cod_contrato'],\n",
    "                                                                                        x['ruc_proveedor'],\n",
    "                                                                                        x['ruc_proveedor_razon_social'],\n",
    "                                                                                        x['monto_contratado_total'],\n",
    "                                                                                        x['monto_adicional'],\n",
    "                                                                                        x['monto_reduccion'],\n",
    "                                                                                        x['monto_complementario'],\n",
    "                                                                                        x['bandera_23a_adicional_vs_contratado'],\n",
    "                                                                                        x['bandera_23a_reduccion_vs_contratado'],\n",
    "                                                                                        x['bandera_23a_complementario_vs_contratado'],\n",
    "                                                                                        x['bandera_23a_adicion'],\n",
    "                                                                                        x['bandera_23a_reduccion'],\n",
    "                                                                                        x['bandera_23a_complementario']), axis = 1)\n"
   ]
  },
  {
   "cell_type": "code",
   "execution_count": 405,
   "id": "f96deb25",
   "metadata": {},
   "outputs": [],
   "source": [
    "# Me quedo solo con contratos con bandera = si\n",
    "bandera_23a_contratos = bandera_23a_contratos.loc[bandera_23a_contratos['bandera_23a'] == 'Si']"
   ]
  },
  {
   "cell_type": "code",
   "execution_count": 406,
   "id": "13b9ff99",
   "metadata": {},
   "outputs": [],
   "source": [
    "# Flatten a nivel contrato\n",
    "bandera_23a_contratos = bandera_23a_contratos.groupby('codigoconvocatoria', as_index = False)['bandera_23a_atributos'].apply(' | '.join)"
   ]
  },
  {
   "cell_type": "code",
   "execution_count": 407,
   "id": "5f781e84",
   "metadata": {},
   "outputs": [],
   "source": [
    "# Join con df bandera 23a\n",
    "df_bandera23a = df_bandera23a.join(bandera_23a_contratos.set_index('codigoconvocatoria'),\n",
    "                              on = 'codigoconvocatoria',\n",
    "                              how = 'left')"
   ]
  },
  {
   "cell_type": "code",
   "execution_count": 408,
   "id": "e9a28dfb",
   "metadata": {},
   "outputs": [],
   "source": [
    "# Nan reemplzo por None\n",
    "df_bandera23a = df_bandera23a.where(pd.notnull(df_bandera23a),None)"
   ]
  },
  {
   "cell_type": "code",
   "execution_count": 409,
   "id": "2f83e7b5",
   "metadata": {},
   "outputs": [],
   "source": [
    "# Genero Bandera a nivel CodConvocatoria\n",
    "df_bandera23a['bandera_23a'] = df_bandera23a.apply(lambda x: 'No aplica' if x['objetocontractual'] == 'Consultoría de Obra' else ('No' if x['bandera_23a_atributos'] is None else 'Si'), axis = 1)"
   ]
  },
  {
   "cell_type": "code",
   "execution_count": 410,
   "id": "3ddb2c3f",
   "metadata": {},
   "outputs": [],
   "source": [
    "# Rename columnas\n",
    "df_bandera23a = df_bandera23a.rename(columns = {'tipoprocesoseleccion': 'bandera_23a_tipoprocesoseleccion',\n",
    "                                                'objetocontractual': 'bandera_23a_objetocontractual'})"
   ]
  },
  {
   "cell_type": "code",
   "execution_count": 411,
   "id": "5f899765",
   "metadata": {},
   "outputs": [],
   "source": [
    "# End time de bandera\n",
    "end = datetime.datetime.now()\n",
    "\n",
    "# Calculo tiempo de procesamiento de bandera y agrego a DF\n",
    "tiempos = registro_tiempo_procesamiento('23a',start,end, tiempos)"
   ]
  },
  {
   "cell_type": "markdown",
   "id": "1ec72d90",
   "metadata": {},
   "source": [
    "### Bandera 27: El monto con el cual el proveedor ganador postuló es mayor al monto contratado"
   ]
  },
  {
   "cell_type": "code",
   "execution_count": 416,
   "id": "79428e72",
   "metadata": {},
   "outputs": [],
   "source": [
    "# Start time de bandera\n",
    "start = datetime.datetime.now()"
   ]
  },
  {
   "cell_type": "code",
   "execution_count": 417,
   "id": "ecaa78d5",
   "metadata": {},
   "outputs": [],
   "source": [
    "df_bandera27 = df_agg_cac[['codigoconvocatoria']]"
   ]
  },
  {
   "cell_type": "code",
   "execution_count": 418,
   "id": "6f80d75e",
   "metadata": {},
   "outputs": [],
   "source": [
    "# Contratos\n",
    "bandera_27_contratos = contratos[['codigoconvocatoria','n_cod_contrato','ruc_proveedor','ruc_proveedor_razon_social','num_item','monto_contratado_item']]"
   ]
  },
  {
   "cell_type": "code",
   "execution_count": 419,
   "id": "30372cc2",
   "metadata": {},
   "outputs": [],
   "source": [
    "# Join contratos y convocatorias para traerme itemcubso\n",
    "bandera_27_convocatorias = convocatorias[['codigoconvocatoria','n_item','itemcubso','codigoitem']].drop_duplicates()\n",
    "\n",
    "bandera_27_contratos = bandera_27_contratos.join(bandera_27_convocatorias.set_index(['codigoconvocatoria','n_item']),\n",
    "                                                on = ['codigoconvocatoria','num_item'],\n",
    "                                                how = 'inner')"
   ]
  },
  {
   "cell_type": "code",
   "execution_count": 420,
   "id": "a9dab6c1",
   "metadata": {},
   "outputs": [],
   "source": [
    "# Postores\n",
    "bandera_27_postores = postores[['codigo_convocatoria','ruc_detallepostor','detalle_postor','n_item','monto']].drop_duplicates()"
   ]
  },
  {
   "cell_type": "code",
   "execution_count": 421,
   "id": "8c83ad4d",
   "metadata": {},
   "outputs": [],
   "source": [
    "# Join contratos y postores\n",
    "bandera_27_contratos_postores = bandera_27_contratos.join(bandera_27_postores.set_index(['codigo_convocatoria','ruc_detallepostor','n_item']),\n",
    "                                                    on = ['codigoconvocatoria','ruc_proveedor','num_item'],\n",
    "                                                    how = 'left')"
   ]
  },
  {
   "cell_type": "code",
   "execution_count": 422,
   "id": "87a71095",
   "metadata": {},
   "outputs": [],
   "source": [
    "# Si no pudo joinear entonces None\n",
    "bandera_27_contratos_postores = bandera_27_contratos_postores.where(pd.notnull(bandera_27_contratos_postores),None)"
   ]
  },
  {
   "cell_type": "code",
   "execution_count": 423,
   "id": "e2c740f7",
   "metadata": {},
   "outputs": [],
   "source": [
    "# Diferencia entre monto postulado y monto contratado\n",
    "bandera_27_contratos_postores['bandera_27_dif_montopostulacionitem_montocontratadoitem'] = bandera_27_contratos_postores['monto_contratado_item'] - bandera_27_contratos_postores['monto']"
   ]
  },
  {
   "cell_type": "code",
   "execution_count": 424,
   "id": "ca1a2db7",
   "metadata": {},
   "outputs": [],
   "source": [
    "# bandera a nivel item\n",
    "bandera_27_contratos_postores['bandera_27'] = bandera_27_contratos_postores.apply(lambda x: 'No aplica' if x['monto'] is None else ('Si' if x['bandera_27_dif_montopostulacionitem_montocontratadoitem'] > 0 else 'No'), axis = 1)"
   ]
  },
  {
   "cell_type": "code",
   "execution_count": 425,
   "id": "41acf526",
   "metadata": {},
   "outputs": [],
   "source": [
    "# Me quedo con items con bandera = 'si'\n",
    "bandera_27_contratos_postores_si = bandera_27_contratos_postores.loc[bandera_27_contratos_postores['bandera_27'].isin(['Si'])]                                            \n",
    "                                                                  "
   ]
  },
  {
   "cell_type": "code",
   "execution_count": 426,
   "id": "6aa5e753",
   "metadata": {},
   "outputs": [],
   "source": [
    "# Me quedo con items con bandera = 'no aplica'\n",
    "bandera_27_contratos_postores_noaplica = bandera_27_contratos_postores.loc[bandera_27_contratos_postores['bandera_27'].isin(['No aplica'])]          \n",
    "\n",
    "# Flatten a nivel convocatoria\n",
    "bandera_27_contratos_postores_noaplica = bandera_27_contratos_postores_noaplica[['codigoconvocatoria']].drop_duplicates()\n",
    "bandera_27_contratos_postores_noaplica['bandera_27_noaplica'] = 'No aplica'\n"
   ]
  },
  {
   "cell_type": "code",
   "execution_count": 427,
   "id": "dfb2bc89",
   "metadata": {},
   "outputs": [
    {
     "name": "stderr",
     "output_type": "stream",
     "text": [
      "<ipython-input-427-31e1f1168354>:1: SettingWithCopyWarning: \n",
      "A value is trying to be set on a copy of a slice from a DataFrame.\n",
      "Try using .loc[row_indexer,col_indexer] = value instead\n",
      "\n",
      "See the caveats in the documentation: https://pandas.pydata.org/pandas-docs/stable/user_guide/indexing.html#returning-a-view-versus-a-copy\n",
      "  bandera_27_contratos_postores_si['n_cod_contrato'] = bandera_27_contratos_postores_si['n_cod_contrato'].astype(float)\n"
     ]
    }
   ],
   "source": [
    "bandera_27_contratos_postores_si['n_cod_contrato'] = bandera_27_contratos_postores_si['n_cod_contrato'].astype(float)"
   ]
  },
  {
   "cell_type": "code",
   "execution_count": 428,
   "id": "b478a0a9",
   "metadata": {
    "scrolled": true
   },
   "outputs": [
    {
     "name": "stderr",
     "output_type": "stream",
     "text": [
      "<ipython-input-428-2fb73220733f>:1: SettingWithCopyWarning: \n",
      "A value is trying to be set on a copy of a slice from a DataFrame.\n",
      "Try using .loc[row_indexer,col_indexer] = value instead\n",
      "\n",
      "See the caveats in the documentation: https://pandas.pydata.org/pandas-docs/stable/user_guide/indexing.html#returning-a-view-versus-a-copy\n",
      "  bandera_27_contratos_postores_si['bandera_27_dif_montopostulacionitem_montocontratadoitem'] = round(bandera_27_contratos_postores_si['bandera_27_dif_montopostulacionitem_montocontratadoitem'].astype(float),2)\n",
      "<ipython-input-428-2fb73220733f>:2: SettingWithCopyWarning: \n",
      "A value is trying to be set on a copy of a slice from a DataFrame.\n",
      "Try using .loc[row_indexer,col_indexer] = value instead\n",
      "\n",
      "See the caveats in the documentation: https://pandas.pydata.org/pandas-docs/stable/user_guide/indexing.html#returning-a-view-versus-a-copy\n",
      "  bandera_27_contratos_postores_si['n_cod_contrato'] = round(bandera_27_contratos_postores_si['n_cod_contrato'].astype(float),0).astype('Int64')\n",
      "<ipython-input-428-2fb73220733f>:3: SettingWithCopyWarning: \n",
      "A value is trying to be set on a copy of a slice from a DataFrame.\n",
      "Try using .loc[row_indexer,col_indexer] = value instead\n",
      "\n",
      "See the caveats in the documentation: https://pandas.pydata.org/pandas-docs/stable/user_guide/indexing.html#returning-a-view-versus-a-copy\n",
      "  bandera_27_contratos_postores_si['monto_contratado_item'] = round(bandera_27_contratos_postores_si['monto_contratado_item'].astype(float),2)\n",
      "<ipython-input-428-2fb73220733f>:4: SettingWithCopyWarning: \n",
      "A value is trying to be set on a copy of a slice from a DataFrame.\n",
      "Try using .loc[row_indexer,col_indexer] = value instead\n",
      "\n",
      "See the caveats in the documentation: https://pandas.pydata.org/pandas-docs/stable/user_guide/indexing.html#returning-a-view-versus-a-copy\n",
      "  bandera_27_contratos_postores_si['monto'] = round(bandera_27_contratos_postores_si['monto'].astype(float),2)\n"
     ]
    }
   ],
   "source": [
    "bandera_27_contratos_postores_si['bandera_27_dif_montopostulacionitem_montocontratadoitem'] = round(bandera_27_contratos_postores_si['bandera_27_dif_montopostulacionitem_montocontratadoitem'].astype(float),2)\n",
    "bandera_27_contratos_postores_si['n_cod_contrato'] = round(bandera_27_contratos_postores_si['n_cod_contrato'].astype(float),0).astype('Int64')\n",
    "bandera_27_contratos_postores_si['monto_contratado_item'] = round(bandera_27_contratos_postores_si['monto_contratado_item'].astype(float),2)\n",
    "bandera_27_contratos_postores_si['monto'] = round(bandera_27_contratos_postores_si['monto'].astype(float),2)"
   ]
  },
  {
   "cell_type": "code",
   "execution_count": 429,
   "id": "d66c8564",
   "metadata": {},
   "outputs": [
    {
     "name": "stderr",
     "output_type": "stream",
     "text": [
      "<ipython-input-429-0639503d2e6a>:3: SettingWithCopyWarning: \n",
      "A value is trying to be set on a copy of a slice from a DataFrame.\n",
      "Try using .loc[row_indexer,col_indexer] = value instead\n",
      "\n",
      "See the caveats in the documentation: https://pandas.pydata.org/pandas-docs/stable/user_guide/indexing.html#returning-a-view-versus-a-copy\n",
      "  bandera_27_contratos_postores_si['bandera_27_atributos_si'] = 'N cod contrato: ' + bandera_27_contratos_postores_si['n_cod_contrato'].astype(str) + ';' +\\\n"
     ]
    }
   ],
   "source": [
    "# Genero campo para atributos de bandera\n",
    "                                                        \n",
    "bandera_27_contratos_postores_si['bandera_27_atributos_si'] = 'N cod contrato: ' + bandera_27_contratos_postores_si['n_cod_contrato'].astype(str) + ';' +\\\n",
    "                                                        ' Ruc: ' + bandera_27_contratos_postores_si['ruc_proveedor'].astype(str) + ';' +\\\n",
    "                                                        ' Razon social: ' + bandera_27_contratos_postores_si['ruc_proveedor_razon_social'].astype(str) + ';' +\\\n",
    "                                                        ' Itemcubso: ' + bandera_27_contratos_postores_si['itemcubso'].astype(str) + ';' +\\\n",
    "                                                        ' Codigoitem: ' + bandera_27_contratos_postores_si['codigoitem'].astype(str) + ';' +\\\n",
    "                                                        ' MontoContratadoItem: ' + bandera_27_contratos_postores_si['monto_contratado_item'].astype(str)  + ';' +\\\n",
    "                                                        ' MontoPostulacionItem: ' + bandera_27_contratos_postores_si['monto'].astype(str)  + ';' +\\\n",
    "                                                        ' Diferencia: ' + bandera_27_contratos_postores_si['bandera_27_dif_montopostulacionitem_montocontratadoitem'].astype(str) \n",
    "                                                                                "
   ]
  },
  {
   "cell_type": "code",
   "execution_count": 430,
   "id": "782d2944",
   "metadata": {},
   "outputs": [
    {
     "name": "stderr",
     "output_type": "stream",
     "text": [
      "<ipython-input-430-00e54eeabd13>:2: SettingWithCopyWarning: \n",
      "A value is trying to be set on a copy of a slice from a DataFrame.\n",
      "Try using .loc[row_indexer,col_indexer] = value instead\n",
      "\n",
      "See the caveats in the documentation: https://pandas.pydata.org/pandas-docs/stable/user_guide/indexing.html#returning-a-view-versus-a-copy\n",
      "  bandera_27_contratos_postores_si['bandera_27_atributos_si'] = bandera_27_contratos_postores_si['bandera_27_atributos_si'].where(pd.notnull(bandera_27_contratos_postores_si['bandera_27_atributos_si']), '')\n"
     ]
    }
   ],
   "source": [
    "# Convierto bandera_27_atributos a string para poder hacer apply y join\n",
    "bandera_27_contratos_postores_si['bandera_27_atributos_si'] = bandera_27_contratos_postores_si['bandera_27_atributos_si'].where(pd.notnull(bandera_27_contratos_postores_si['bandera_27_atributos_si']), '')"
   ]
  },
  {
   "cell_type": "code",
   "execution_count": 431,
   "id": "1bae66d4",
   "metadata": {},
   "outputs": [],
   "source": [
    "# Flatten del atributo, para llevarlo a nivel codigo convocatoria\n",
    "bandera_27_contratos_postores_si  = pd.DataFrame(bandera_27_contratos_postores_si.groupby(['codigoconvocatoria'], as_index = False)\\\n",
    "                                                     ['bandera_27_atributos_si'].apply(' | '.join))"
   ]
  },
  {
   "cell_type": "code",
   "execution_count": 432,
   "id": "b1ab4b47",
   "metadata": {},
   "outputs": [],
   "source": [
    "# Join df_bandera27 con codconv que tienen al menos un item con bandera = 1\n",
    "df_bandera27 = df_bandera27.join(bandera_27_contratos_postores_si.set_index('codigoconvocatoria'),\n",
    "                                on = 'codigoconvocatoria',\n",
    "                                how = 'left')\n",
    "# Join df_bandera27 con df que a nivel convocatoria indica si 'no aplica'\n",
    "df_bandera27 = df_bandera27.join(bandera_27_contratos_postores_noaplica.set_index('codigoconvocatoria'),\n",
    "                                on = 'codigoconvocatoria',\n",
    "                                how = 'left')"
   ]
  },
  {
   "cell_type": "code",
   "execution_count": 433,
   "id": "b50c108b",
   "metadata": {},
   "outputs": [],
   "source": [
    "#Nan a None\n",
    "df_bandera27 = df_bandera27.where(pd.notnull(df_bandera27),None)"
   ]
  },
  {
   "cell_type": "code",
   "execution_count": 434,
   "id": "eb514ce8",
   "metadata": {},
   "outputs": [],
   "source": [
    "# Genero atributos a nivel codigo convocatoria\n",
    "df_bandera27['bandera_27_atributos'] = df_bandera27.apply(lambda x:  x['bandera_27_atributos_si'] \n",
    "                                                          if x['bandera_27_atributos_si'] is not None\n",
    "                                                         else x['bandera_27_noaplica'], axis = 1)"
   ]
  },
  {
   "cell_type": "code",
   "execution_count": 435,
   "id": "9f6d1dce",
   "metadata": {},
   "outputs": [],
   "source": [
    "# Bandera 27 a nivel codigo convocatoria\n",
    "df_bandera27['bandera_27']= df_bandera27.apply(lambda x: 'No aplica' if x['bandera_27_atributos'] == 'No aplica' else \n",
    "                                               ('No' if x['bandera_27_atributos'] is None else 'Si'), axis = 1 )"
   ]
  },
  {
   "cell_type": "code",
   "execution_count": 436,
   "id": "01a61587",
   "metadata": {},
   "outputs": [],
   "source": [
    "# Borro columnas que ya no se usan\n",
    "df_bandera27 = df_bandera27[['codigoconvocatoria','bandera_27_atributos','bandera_27']]"
   ]
  },
  {
   "cell_type": "code",
   "execution_count": 437,
   "id": "795e9770",
   "metadata": {},
   "outputs": [],
   "source": [
    "# End time de bandera\n",
    "end = datetime.datetime.now()\n",
    "\n",
    "# Calculo tiempo de procesamiento de bandera y agrego a DF\n",
    "tiempos = registro_tiempo_procesamiento('27',start,end, tiempos)"
   ]
  },
  {
   "cell_type": "markdown",
   "id": "0beeb034",
   "metadata": {},
   "source": [
    "### Bandera 29: La diferencia entre el monto de referencia en convocatoria y monto contratado es excesiva\n"
   ]
  },
  {
   "cell_type": "code",
   "execution_count": 452,
   "id": "9135ba64",
   "metadata": {},
   "outputs": [],
   "source": [
    "# Start time de bandera\n",
    "start = datetime.datetime.now()"
   ]
  },
  {
   "cell_type": "code",
   "execution_count": 453,
   "id": "cb83db07",
   "metadata": {},
   "outputs": [],
   "source": [
    "df_bandera29 = df_agg_cac[['codigoconvocatoria','objetocontractual']]"
   ]
  },
  {
   "cell_type": "code",
   "execution_count": 454,
   "id": "184a6a86",
   "metadata": {},
   "outputs": [],
   "source": [
    "# Selecciono variables de tabla contratos para hacerlo a nivel item\n",
    "bandera_29_contratos = contratos[['codigoconvocatoria','num_item','n_cod_contrato','ruc_proveedor','ruc_proveedor_razon_social','monto_referencial_item','monto_contratado_item']]"
   ]
  },
  {
   "cell_type": "code",
   "execution_count": 455,
   "id": "4f80882e",
   "metadata": {},
   "outputs": [],
   "source": [
    "# Flatten de tabla convocatorias para joinear y traerme itemcubso\n",
    "bandera_29_convocatorias = convocatorias[['codigoconvocatoria','n_item','itemcubso','codigoitem']].drop_duplicates()"
   ]
  },
  {
   "cell_type": "code",
   "execution_count": 456,
   "id": "23c51914",
   "metadata": {},
   "outputs": [],
   "source": [
    "bandera_29_contratos = bandera_29_contratos.join(bandera_29_convocatorias.set_index(['codigoconvocatoria','n_item']),\n",
    "                                                on = ['codigoconvocatoria','num_item'],\n",
    "                                                how = 'left')"
   ]
  },
  {
   "cell_type": "code",
   "execution_count": 457,
   "id": "034a2248",
   "metadata": {},
   "outputs": [],
   "source": [
    "# Nan a 0\n",
    "bandera_29_contratos = bandera_29_contratos.where(pd.notnull(bandera_29_contratos),0)"
   ]
  },
  {
   "cell_type": "code",
   "execution_count": 458,
   "id": "83fd7cfd",
   "metadata": {},
   "outputs": [],
   "source": [
    "# Calculo %\n",
    "bandera_29_contratos['bandera_29_porcentaje_mreferenciaitem_mcontratoitem'] = ((bandera_29_contratos['monto_contratado_item'] * 1.00 - bandera_29_contratos['monto_referencial_item']) / bandera_29_contratos['monto_referencial_item'] * 1.00 ) * 100 \n",
    "\n"
   ]
  },
  {
   "cell_type": "code",
   "execution_count": 459,
   "id": "58f23fc7",
   "metadata": {},
   "outputs": [],
   "source": [
    "# Calculo bandera a nivel item\n",
    "bandera_29_contratos['bandera_29'] = bandera_29_contratos.apply(lambda x: 'Si' if x['bandera_29_porcentaje_mreferenciaitem_mcontratoitem'] > 30 else 'No', axis = 1)"
   ]
  },
  {
   "cell_type": "code",
   "execution_count": 460,
   "id": "11d5575c",
   "metadata": {},
   "outputs": [],
   "source": [
    "# Me quedo con los casos en los que bandera a nivel item = Si\n",
    "bandera_29_contratos = bandera_29_contratos.loc[bandera_29_contratos['bandera_29'] == 'Si']"
   ]
  },
  {
   "cell_type": "code",
   "execution_count": 461,
   "id": "1c649cd2",
   "metadata": {},
   "outputs": [],
   "source": [
    "bandera_29_contratos['n_cod_contrato'] = bandera_29_contratos['n_cod_contrato'].astype('Int64')"
   ]
  },
  {
   "cell_type": "code",
   "execution_count": 462,
   "id": "885f9a13",
   "metadata": {},
   "outputs": [],
   "source": [
    "# Genero una columna con atributos que me interesan\n",
    "                                              \n",
    "bandera_29_contratos['bandera_29_atributos'] = 'N cod contrato: ' + bandera_29_contratos['n_cod_contrato'].astype(str) + ';' +\\\n",
    "                                               ' Ruc proveedor: ' + bandera_29_contratos['ruc_proveedor'].astype(str) + ';' +\\\n",
    "                                               ' Razon social: ' + bandera_29_contratos['ruc_proveedor_razon_social'].astype(str) + ';' +\\\n",
    "                                               ' Itemcubso: ' + bandera_29_contratos['itemcubso'].astype(str) + ';' +\\\n",
    "                                               ' Codigoitem: ' + bandera_29_contratos['codigoitem'].astype(str) + ';' +\\\n",
    "                                               ' MontoRefItem: ' + bandera_29_contratos['monto_referencial_item'].astype(int).astype(str) + ';' +\\\n",
    "                                               ' MontoContratadoItem: ' + bandera_29_contratos['monto_contratado_item'].astype(int).astype(str) + ';' +\\\n",
    "                                               ' Porcentaje: ' + bandera_29_contratos['bandera_29_porcentaje_mreferenciaitem_mcontratoitem'].astype(int).astype(str) + '%'\n",
    "\n"
   ]
  },
  {
   "cell_type": "code",
   "execution_count": 463,
   "id": "f611f16e",
   "metadata": {},
   "outputs": [],
   "source": [
    "# Agrupo a nivel codconvocatoria\n",
    "bandera_29_contratos = pd.DataFrame(bandera_29_contratos.groupby(['codigoconvocatoria'],as_index = False)['bandera_29_atributos'].apply(' | '.join))"
   ]
  },
  {
   "cell_type": "code",
   "execution_count": 464,
   "id": "05498b46",
   "metadata": {},
   "outputs": [],
   "source": [
    "# Join con df_bandera29\n",
    "df_bandera29 = df_bandera29.join(bandera_29_contratos.set_index('codigoconvocatoria'),\n",
    "                                on = 'codigoconvocatoria',\n",
    "                                how = 'left')"
   ]
  },
  {
   "cell_type": "code",
   "execution_count": 465,
   "id": "1a1cc75d",
   "metadata": {},
   "outputs": [],
   "source": [
    "# None cuando no hizo join con bandera_29_contratos\n",
    "df_bandera29 = df_bandera29.where(pd.notnull(df_bandera29),None)"
   ]
  },
  {
   "cell_type": "code",
   "execution_count": 466,
   "id": "3d0bd0a8",
   "metadata": {},
   "outputs": [],
   "source": [
    "# Genero bandera a nivel convocatoria\n",
    "df_bandera29['bandera_29'] = df_bandera29.apply(lambda x: 'No aplica' if x['objetocontractual'] in (['Consultoría de Obra','Obra']) else ('No' if x['bandera_29_atributos'] is None else 'Si'), axis = 1)\n"
   ]
  },
  {
   "cell_type": "code",
   "execution_count": 467,
   "id": "0e1e1180",
   "metadata": {},
   "outputs": [],
   "source": [
    "# Rename de atributos\n",
    "df_bandera29 = df_bandera29.rename(columns = {'bandera_29_atributos': 'bandera_29_contrato_item_montorefitem_vs_montocontratoitem'})"
   ]
  },
  {
   "cell_type": "code",
   "execution_count": 468,
   "id": "85e1123f",
   "metadata": {
    "scrolled": true
   },
   "outputs": [],
   "source": [
    "# End time de bandera\n",
    "end = datetime.datetime.now()\n",
    "\n",
    "# Calculo tiempo de procesamiento de bandera y agrego a DF\n",
    "tiempos = registro_tiempo_procesamiento('29',start,end, tiempos)"
   ]
  },
  {
   "cell_type": "markdown",
   "id": "c87d5a4a",
   "metadata": {},
   "source": [
    "## 5. Salidas"
   ]
  },
  {
   "cell_type": "markdown",
   "id": "2d3e3caa",
   "metadata": {},
   "source": [
    "### Postprocesamiento: Vinculación de todas las banderas con dataframe con características de la convocatoria"
   ]
  },
  {
   "cell_type": "code",
   "execution_count": 475,
   "id": "5b7d419e",
   "metadata": {},
   "outputs": [],
   "source": [
    "# Selecciono informacion basica de la convocatoria\n",
    "df = df_agg_cac[['anio','codigoconvocatoria','proceso','entidad','ruc_entidad','sector','tipoprocesoseleccion','objetocontractual','descripcion_proceso','fechaconvocatoria','fechapresentacionpropuesta','monto_convocatoria']]"
   ]
  },
  {
   "cell_type": "code",
   "execution_count": 476,
   "id": "8effd363",
   "metadata": {},
   "outputs": [
    {
     "data": {
      "text/plain": [
       "(143735, 12)"
      ]
     },
     "execution_count": 476,
     "metadata": {},
     "output_type": "execute_result"
    }
   ],
   "source": [
    "df.shape"
   ]
  },
  {
   "cell_type": "code",
   "execution_count": 477,
   "id": "a79fafe7",
   "metadata": {},
   "outputs": [],
   "source": [
    "# Selecciono solo convocatorias 2021\n",
    "df = df.loc[df['anio'] == '2021']"
   ]
  },
  {
   "cell_type": "code",
   "execution_count": 478,
   "id": "84707ca7",
   "metadata": {},
   "outputs": [
    {
     "data": {
      "text/plain": [
       "(18363, 12)"
      ]
     },
     "execution_count": 478,
     "metadata": {},
     "output_type": "execute_result"
    }
   ],
   "source": [
    "df.shape"
   ]
  },
  {
   "cell_type": "code",
   "execution_count": 479,
   "id": "bd68df46",
   "metadata": {
    "scrolled": true
   },
   "outputs": [],
   "source": [
    "# Agrego bandera 1\n",
    "df_malla = df.join(df_bandera_1[['codigoconvocatoria','bandera_1_grupo_entidad','bandera_1_version','bandera_1_media_versionesPAC','bandera_1_std_versionesPAC','bandera_1_umbral_versionesPAC','bandera_1']].set_index('codigoconvocatoria'),\n",
    "                  how = 'left',\n",
    "                  on = 'codigoconvocatoria')\n",
    "\n",
    "df_malla['bandera_1'].fillna('No aplica', inplace = True)\n",
    "\n"
   ]
  },
  {
   "cell_type": "code",
   "execution_count": 480,
   "id": "eab97d98",
   "metadata": {},
   "outputs": [
    {
     "data": {
      "text/plain": [
       "(18363, 18)"
      ]
     },
     "execution_count": 480,
     "metadata": {},
     "output_type": "execute_result"
    }
   ],
   "source": [
    "df_malla.shape"
   ]
  },
  {
   "cell_type": "code",
   "execution_count": 481,
   "id": "e5dceeed",
   "metadata": {},
   "outputs": [],
   "source": [
    "# Agrego bandera 2\n",
    "df_malla = df_malla.join(df_bandera2[['codigoconvocatoria','bandera2_ente_%contrdirecta_item_mayor_2SD','bandera_2']].set_index('codigoconvocatoria'),\n",
    "                  how = 'left',\n",
    "                  on = 'codigoconvocatoria')\n"
   ]
  },
  {
   "cell_type": "code",
   "execution_count": 482,
   "id": "e2b9e91e",
   "metadata": {},
   "outputs": [
    {
     "data": {
      "text/plain": [
       "(18363, 20)"
      ]
     },
     "execution_count": 482,
     "metadata": {},
     "output_type": "execute_result"
    }
   ],
   "source": [
    "df_malla.shape"
   ]
  },
  {
   "cell_type": "code",
   "execution_count": 483,
   "id": "abc7d3ec",
   "metadata": {},
   "outputs": [],
   "source": [
    "# Agrego bandera 3\n",
    "df_malla = df_malla.join(df_bandera_3[['codigoconvocatoria','bandera_3_dif_convocatoria_presentacionpropuestas','bandera_3_umbral','bandera_3']].set_index('codigoconvocatoria'),\n",
    "                  how = 'left',\n",
    "                  on = 'codigoconvocatoria')"
   ]
  },
  {
   "cell_type": "code",
   "execution_count": 484,
   "id": "083287ba",
   "metadata": {},
   "outputs": [
    {
     "data": {
      "text/plain": [
       "(18363, 23)"
      ]
     },
     "execution_count": 484,
     "metadata": {},
     "output_type": "execute_result"
    }
   ],
   "source": [
    "df_malla.shape"
   ]
  },
  {
   "cell_type": "code",
   "execution_count": 485,
   "id": "10aac431",
   "metadata": {},
   "outputs": [],
   "source": [
    "# Agrego bandera 3a\n",
    "df_malla = df_malla.join(df_bandera_3a[['codigoconvocatoria','bandera_3a_dif_convocatoria_presentacionpropuestas','bandera_3a_media','bandera_3a_std','bandera_3a_umbral','bandera_3a']].set_index('codigoconvocatoria'),\n",
    "                  how = 'left',\n",
    "                  on = 'codigoconvocatoria')"
   ]
  },
  {
   "cell_type": "code",
   "execution_count": 486,
   "id": "1741b4e0",
   "metadata": {},
   "outputs": [
    {
     "data": {
      "text/plain": [
       "(18363, 28)"
      ]
     },
     "execution_count": 486,
     "metadata": {},
     "output_type": "execute_result"
    }
   ],
   "source": [
    "df_malla.shape"
   ]
  },
  {
   "cell_type": "code",
   "execution_count": 487,
   "id": "ca5d6aff",
   "metadata": {},
   "outputs": [],
   "source": [
    "# Agrego bandera 4\n",
    "df_malla = df_malla.join(df_bandera_4[['codigoconvocatoria','bandera_4_cantidad_ruc_postores','bandera_4']].set_index('codigoconvocatoria'),\n",
    "                  how = 'left',\n",
    "                  on = 'codigoconvocatoria')"
   ]
  },
  {
   "cell_type": "code",
   "execution_count": 488,
   "id": "38ca9ab3",
   "metadata": {},
   "outputs": [
    {
     "data": {
      "text/plain": [
       "(18363, 30)"
      ]
     },
     "execution_count": 488,
     "metadata": {},
     "output_type": "execute_result"
    }
   ],
   "source": [
    "df_malla.shape"
   ]
  },
  {
   "cell_type": "code",
   "execution_count": 489,
   "id": "8b26a918",
   "metadata": {},
   "outputs": [],
   "source": [
    "# Agrego bandera 4a\n",
    "df_malla = df_malla.join(df_bandera_4a_2021[['codigoconvocatoria',\n",
    "                                             'bandera_4a_cant_ruc_codigo_postor',\n",
    "                                             'bandera_4a_cant_rucparticipante',\n",
    "                                            'bandera_4a_ratio_postor_participante',\n",
    "                                            'bandera_4a_media_ratio_postor_participante',\n",
    "                                            'bandera_4a_std_ratio_postor_participante',\n",
    "                                             'bandera_4a_umbral_ratio_postor_participante',\n",
    "                                            'bandera_4a']].set_index('codigoconvocatoria'),\n",
    "                  how = 'left',\n",
    "                  on = 'codigoconvocatoria')"
   ]
  },
  {
   "cell_type": "code",
   "execution_count": 490,
   "id": "61c44ce6",
   "metadata": {},
   "outputs": [
    {
     "data": {
      "text/plain": [
       "(18363, 37)"
      ]
     },
     "execution_count": 490,
     "metadata": {},
     "output_type": "execute_result"
    }
   ],
   "source": [
    "df_malla.shape"
   ]
  },
  {
   "cell_type": "code",
   "execution_count": 491,
   "id": "4a2fc63a",
   "metadata": {},
   "outputs": [],
   "source": [
    "# Agrego bandera 5\n",
    "df_malla = df_malla.join(df_bandera5[['codigoconvocatoria',\n",
    "                                       'bandera_5_proveedores_primera_vez',\n",
    "                                       'bandera_5']].set_index('codigoconvocatoria'),\n",
    "                        how ='left',\n",
    "                        on = 'codigoconvocatoria')"
   ]
  },
  {
   "cell_type": "code",
   "execution_count": 492,
   "id": "69edf9b6",
   "metadata": {},
   "outputs": [
    {
     "data": {
      "text/plain": [
       "(18363, 39)"
      ]
     },
     "execution_count": 492,
     "metadata": {},
     "output_type": "execute_result"
    }
   ],
   "source": [
    "df_malla.shape"
   ]
  },
  {
   "cell_type": "code",
   "execution_count": 493,
   "id": "a18ccefe",
   "metadata": {},
   "outputs": [],
   "source": [
    "# Agrego bandera 5a\n",
    "df_malla = df_malla.join(df_bandera5a_2021[['codigoconvocatoria',\n",
    "                                       'bandera5a_items_nunca_antes_adjudicados_por_postor',\n",
    "                                       'bandera_5a']].set_index('codigoconvocatoria'),\n",
    "                        how ='left',\n",
    "                        on = 'codigoconvocatoria')"
   ]
  },
  {
   "cell_type": "code",
   "execution_count": 494,
   "id": "a594fd56",
   "metadata": {},
   "outputs": [
    {
     "data": {
      "text/plain": [
       "(18363, 41)"
      ]
     },
     "execution_count": 494,
     "metadata": {},
     "output_type": "execute_result"
    }
   ],
   "source": [
    "df_malla.shape"
   ]
  },
  {
   "cell_type": "code",
   "execution_count": 495,
   "id": "0127f737",
   "metadata": {},
   "outputs": [],
   "source": [
    "# Agrego bandera 8\n",
    "df_malla = df_malla.join(df_bandera8[['codigoconvocatoria',\n",
    "                                       'bandera8_FechaAdj_Posterior_FechaDGR',\n",
    "                                       'bandera_8']].set_index('codigoconvocatoria'),\n",
    "                        how ='left',\n",
    "                        on = 'codigoconvocatoria')"
   ]
  },
  {
   "cell_type": "code",
   "execution_count": 496,
   "id": "c89b6821",
   "metadata": {},
   "outputs": [
    {
     "data": {
      "text/plain": [
       "(18363, 43)"
      ]
     },
     "execution_count": 496,
     "metadata": {},
     "output_type": "execute_result"
    }
   ],
   "source": [
    "df_malla.shape"
   ]
  },
  {
   "cell_type": "code",
   "execution_count": 497,
   "id": "488d1a36",
   "metadata": {},
   "outputs": [],
   "source": [
    "# Agrego bandera 13\n",
    "df_malla = df_malla.join(df_bandera13[['codigoconvocatoria',\n",
    "                                       'bandera_13_RUC_nohabido_nohallado',\n",
    "                                       'bandera_13']].set_index('codigoconvocatoria'),\n",
    "                        how ='left',\n",
    "                        on = 'codigoconvocatoria')"
   ]
  },
  {
   "cell_type": "code",
   "execution_count": 498,
   "id": "6903392f",
   "metadata": {},
   "outputs": [
    {
     "data": {
      "text/plain": [
       "(18363, 45)"
      ]
     },
     "execution_count": 498,
     "metadata": {},
     "output_type": "execute_result"
    }
   ],
   "source": [
    "df_malla.shape"
   ]
  },
  {
   "cell_type": "code",
   "execution_count": 499,
   "id": "d0a8b006",
   "metadata": {},
   "outputs": [],
   "source": [
    "# Agrego bandera 15\n",
    "df_malla = df_malla.join(df_bandera15[['codigoconvocatoria',\n",
    "                                       'bandera15_items_cercanos_valor_referencia',\n",
    "                                       'bandera15']].set_index('codigoconvocatoria'),\n",
    "                        how ='left',\n",
    "                        on = 'codigoconvocatoria')"
   ]
  },
  {
   "cell_type": "code",
   "execution_count": 500,
   "id": "55c29016",
   "metadata": {},
   "outputs": [
    {
     "data": {
      "text/plain": [
       "(18363, 47)"
      ]
     },
     "execution_count": 500,
     "metadata": {},
     "output_type": "execute_result"
    }
   ],
   "source": [
    "df_malla.shape"
   ]
  },
  {
   "cell_type": "code",
   "execution_count": 501,
   "id": "d4659606",
   "metadata": {},
   "outputs": [],
   "source": [
    "# Agrego bandera 16\n",
    "df_malla = df_malla.join(df_bandera16[['codigoconvocatoria',\n",
    "                                       'bandera_16_rucentidad','bandera_16_entidad',\n",
    "                                        'bandera_16_postores_codflia_porcentaje_adj_vs_postulado',\n",
    "                                       'bandera_16']].set_index('codigoconvocatoria'),\n",
    "                        how ='left',\n",
    "                        on = 'codigoconvocatoria')"
   ]
  },
  {
   "cell_type": "code",
   "execution_count": 502,
   "id": "de82bfd7",
   "metadata": {},
   "outputs": [
    {
     "data": {
      "text/plain": [
       "(18363, 51)"
      ]
     },
     "execution_count": 502,
     "metadata": {},
     "output_type": "execute_result"
    }
   ],
   "source": [
    "df_malla.shape"
   ]
  },
  {
   "cell_type": "code",
   "execution_count": 503,
   "id": "fb841773",
   "metadata": {},
   "outputs": [],
   "source": [
    "# Agrego bandera 17\n",
    "df_malla = df_malla.join(df_bandera_17[['codigoconvocatoria',\n",
    "                                       'bandera_17_umbral','bandera17_items_adjudicados_plazo_inferior_a_ley',\n",
    "                                       'bandera_17']].set_index('codigoconvocatoria'),\n",
    "                        how ='left',\n",
    "                        on = 'codigoconvocatoria')"
   ]
  },
  {
   "cell_type": "code",
   "execution_count": 504,
   "id": "bcdb3492",
   "metadata": {},
   "outputs": [
    {
     "data": {
      "text/plain": [
       "(18363, 54)"
      ]
     },
     "execution_count": 504,
     "metadata": {},
     "output_type": "execute_result"
    }
   ],
   "source": [
    "df_malla.shape"
   ]
  },
  {
   "cell_type": "code",
   "execution_count": 505,
   "id": "ee699fb5",
   "metadata": {},
   "outputs": [],
   "source": [
    "# Agrego bandera 19\n",
    "df_malla = df_malla.join(df_bandera19[['codigoconvocatoria',\n",
    "                                       'bandera19_precio_unitario_item_vs_historico',\n",
    "                                       'bandera19']].set_index('codigoconvocatoria'),\n",
    "                        how ='left',\n",
    "                        on = 'codigoconvocatoria')"
   ]
  },
  {
   "cell_type": "code",
   "execution_count": 506,
   "id": "18f10abf",
   "metadata": {},
   "outputs": [
    {
     "data": {
      "text/plain": [
       "(18363, 56)"
      ]
     },
     "execution_count": 506,
     "metadata": {},
     "output_type": "execute_result"
    }
   ],
   "source": [
    "df_malla.shape"
   ]
  },
  {
   "cell_type": "code",
   "execution_count": 507,
   "id": "6f939655",
   "metadata": {},
   "outputs": [],
   "source": [
    "# Agrego bandera 21\n",
    "df_malla = df_malla.join(df_bandera_21[['codigoconvocatoria',\n",
    "                                       'bandera_21_tipoprocesoseleccion_pac',\n",
    "                                       'bandera_21_tipoprocesoseleccion_adj',\n",
    "                                      'bandera_21']].set_index('codigoconvocatoria'),\n",
    "                        how ='left',\n",
    "                        on = 'codigoconvocatoria')"
   ]
  },
  {
   "cell_type": "code",
   "execution_count": 508,
   "id": "dca232e0",
   "metadata": {},
   "outputs": [
    {
     "data": {
      "text/plain": [
       "(18363, 59)"
      ]
     },
     "execution_count": 508,
     "metadata": {},
     "output_type": "execute_result"
    }
   ],
   "source": [
    "df_malla.shape"
   ]
  },
  {
   "cell_type": "code",
   "execution_count": 509,
   "id": "5fae3ebf",
   "metadata": {},
   "outputs": [],
   "source": [
    "# Agrego bandera 22\n",
    "df_malla = df_malla.join(df_bandera22[['codigoconvocatoria',\n",
    "                                       'df_bandera22_itemscontratados_plazo_mayor_ley',\n",
    "                                       'bandera_22_umbral',\n",
    "                                      'bandera_22']].set_index('codigoconvocatoria'),\n",
    "                        how ='left',\n",
    "                        on = 'codigoconvocatoria')"
   ]
  },
  {
   "cell_type": "code",
   "execution_count": 510,
   "id": "63175335",
   "metadata": {},
   "outputs": [
    {
     "data": {
      "text/plain": [
       "(18363, 62)"
      ]
     },
     "execution_count": 510,
     "metadata": {},
     "output_type": "execute_result"
    }
   ],
   "source": [
    "df_malla.shape"
   ]
  },
  {
   "cell_type": "code",
   "execution_count": 511,
   "id": "00ee5787",
   "metadata": {},
   "outputs": [],
   "source": [
    "# Agrego bandera 23a\n",
    "df_malla = df_malla.join(df_bandera23a[['codigoconvocatoria',\n",
    "                                       'bandera_23a_tipoprocesoseleccion',\n",
    "                                       'bandera_23a_objetocontractual',\n",
    "                                      'bandera_23a_atributos',\n",
    "                                      'bandera_23a']].set_index('codigoconvocatoria'),\n",
    "                        how ='left',\n",
    "                        on = 'codigoconvocatoria')"
   ]
  },
  {
   "cell_type": "code",
   "execution_count": 512,
   "id": "d8e68e2e",
   "metadata": {},
   "outputs": [
    {
     "data": {
      "text/plain": [
       "(18363, 66)"
      ]
     },
     "execution_count": 512,
     "metadata": {},
     "output_type": "execute_result"
    }
   ],
   "source": [
    "df_malla.shape"
   ]
  },
  {
   "cell_type": "code",
   "execution_count": 513,
   "id": "0a02eaca",
   "metadata": {},
   "outputs": [],
   "source": [
    "# Agrego bandera 27\n",
    "df_malla = df_malla.join(df_bandera27[['codigoconvocatoria',\n",
    "                                       'bandera_27_atributos',\n",
    "                                      'bandera_27']].set_index('codigoconvocatoria'),\n",
    "                        how ='left',\n",
    "                        on = 'codigoconvocatoria')"
   ]
  },
  {
   "cell_type": "code",
   "execution_count": 514,
   "id": "a25bd63c",
   "metadata": {},
   "outputs": [
    {
     "data": {
      "text/plain": [
       "(18363, 68)"
      ]
     },
     "execution_count": 514,
     "metadata": {},
     "output_type": "execute_result"
    }
   ],
   "source": [
    "df_malla.shape"
   ]
  },
  {
   "cell_type": "code",
   "execution_count": 515,
   "id": "1d972623",
   "metadata": {},
   "outputs": [],
   "source": [
    "# Agrego bandera 29\n",
    "df_malla = df_malla.join(df_bandera29[['codigoconvocatoria',\n",
    "                                       'bandera_29_contrato_item_montorefitem_vs_montocontratoitem',\n",
    "                                      'bandera_29']].set_index('codigoconvocatoria'),\n",
    "                        how ='left',\n",
    "                        on = 'codigoconvocatoria')"
   ]
  },
  {
   "cell_type": "code",
   "execution_count": 516,
   "id": "d1b669b9",
   "metadata": {},
   "outputs": [
    {
     "data": {
      "text/plain": [
       "(18363, 70)"
      ]
     },
     "execution_count": 516,
     "metadata": {},
     "output_type": "execute_result"
    }
   ],
   "source": [
    "df_malla.shape"
   ]
  },
  {
   "cell_type": "markdown",
   "id": "a503241d",
   "metadata": {},
   "source": [
    "### Postprocesamiento: Etapas a la que pertenece la convocatoria"
   ]
  },
  {
   "cell_type": "code",
   "execution_count": 517,
   "id": "97f240b8",
   "metadata": {},
   "outputs": [],
   "source": [
    "banderas = ['bandera_1',\n",
    "            'bandera_2',\n",
    "            'bandera_3',\n",
    "            'bandera_3a',\n",
    "            'bandera_4',\n",
    "            'bandera_4a',\n",
    "            'bandera_5',\n",
    "            'bandera_5a',\n",
    "            'bandera_8',\n",
    "            'bandera_13',\n",
    "            'bandera15',\n",
    "            'bandera_16',\n",
    "            'bandera_17',\n",
    "            'bandera19',\n",
    "            'bandera_21',\n",
    "            'bandera_22',\n",
    "           'bandera_23a',\n",
    "           'bandera_27',\n",
    "           'bandera_29']"
   ]
  },
  {
   "cell_type": "code",
   "execution_count": 518,
   "id": "d21b3fc0",
   "metadata": {},
   "outputs": [],
   "source": [
    "etapa_convocatoria = ['bandera_3',\n",
    "                     'bandera_3a',\n",
    "                     'bandera_2']\n",
    "etapa_adjudicacion = ['bandera_17',\n",
    "                      'bandera_4',\n",
    "                     'bandera_13',\n",
    "                     'bandera19',\n",
    "                     'bandera_8',\n",
    "                     'bandera_21']\n",
    "etapa_contrato = ['bandera_22',\n",
    "                 'bandera_29',\n",
    "                 'bandera_27']\n",
    "etapa_presentacionpropuesta = ['bandera_5',\n",
    "                               'bandera_4a',\n",
    "                              'bandera_5a',\n",
    "                              'bandera_16',\n",
    "                              'bandera15']\n",
    "etapa_ejecucion = ['bandera_23a']\n",
    "etapa_planificacion = ['bandera_1']"
   ]
  },
  {
   "cell_type": "code",
   "execution_count": 519,
   "id": "8ecb70cc",
   "metadata": {},
   "outputs": [],
   "source": [
    "for bandera in banderas:\n",
    "    nombre_columna = f'{bandera}_etapa'\n",
    "    if bandera in etapa_convocatoria:     \n",
    "        df_malla[nombre_columna] = 'convocatoria'\n",
    "    elif bandera in etapa_adjudicacion:\n",
    "        df_malla[nombre_columna] = 'adjudicaciones'\n",
    "    elif bandera in etapa_contrato:\n",
    "        df_malla[nombre_columna] = 'contrato'\n",
    "    elif bandera in etapa_presentacionpropuesta:\n",
    "        df_malla[nombre_columna] = 'presentacion propuesta'\n",
    "    elif bandera in etapa_ejecucion:\n",
    "        df_malla[nombre_columna] = 'ejecucion'\n",
    "    elif bandera in etapa_planificacion:\n",
    "        df_malla[nombre_columna] = 'planificacion'"
   ]
  },
  {
   "cell_type": "markdown",
   "id": "6bdb83b7",
   "metadata": {},
   "source": [
    "### Salida: Tiempo de procesamiento de cada bandera"
   ]
  },
  {
   "cell_type": "code",
   "execution_count": 523,
   "id": "ee8176d8",
   "metadata": {},
   "outputs": [],
   "source": [
    "tiempos['tiempo_procesamiento'] = tiempos['tiempo_procesamiento'].astype(str)"
   ]
  },
  {
   "cell_type": "code",
   "execution_count": 524,
   "id": "7f179b7b",
   "metadata": {},
   "outputs": [],
   "source": [
    "# Guardo tiempos a Excel\n",
    "hoy = datetime.datetime.today().strftime('%d%b%Y')\n",
    "tiempos.to_excel(f'banderas_rojas/banderas_rojas_tiempos_{hoy}.xlsx',index = False)"
   ]
  },
  {
   "cell_type": "markdown",
   "id": "d5c46811",
   "metadata": {},
   "source": [
    "### Salida: Cantidad de alertas disparadas para cada bandera"
   ]
  },
  {
   "cell_type": "code",
   "execution_count": 525,
   "id": "ed399b83",
   "metadata": {},
   "outputs": [],
   "source": [
    "def cuadro_resumen(df,variable,porcentaje = False):\n",
    "    \"\"\"\n",
    "    Genera tabla que contabiliza la cantidad de ocurrencias de la variable dada. Con y sin porcentaje.\n",
    "    \n",
    "    Params\n",
    "    -----\n",
    "    df(dataframe): Dataframe que contiene la variable a agrupar y el codigodeconvocotaria\n",
    "    variable(string): Variable a agrupar por ejemplo 'bandera_4'\n",
    "    porcentaje (bool): Si es igual a  True agrega columna con porcentaje. \n",
    "    \n",
    "    Returns\n",
    "    -------\n",
    "    Cuadro resumen con cantidad de ocurrencias para cada valor de la variable consultada.\n",
    "    \"\"\"\n",
    "    objeto = df.groupby(variable, as_index = False).count()[[variable,'codigoconvocatoria']].rename(columns = {'codigoconvocatoria':'cantidad'}).sort_values(by = 'cantidad', ascending = True)\n",
    "    if porcentaje:\n",
    "        objeto['porcentaje'] = (objeto.cantidad*1.0 / objeto.cantidad.sum())*100\n",
    "    objeto = objeto.sort_values(by = 'cantidad', ascending = False)\n",
    "    total = objeto.sum()\n",
    "    total.name = 'Total'\n",
    "    total\n",
    "    objeto = objeto.append(total.transpose())\n",
    "    \n",
    "    return(objeto)"
   ]
  },
  {
   "cell_type": "code",
   "execution_count": 1,
   "id": "37ec49ee",
   "metadata": {
    "scrolled": false
   },
   "outputs": [],
   "source": [
    "# Cantidad de casos por bandera\n",
    "for bandera in banderas:\n",
    "    display(cuadro_resumen(df_malla,bandera,porcentaje = True))"
   ]
  },
  {
   "cell_type": "code",
   "execution_count": 530,
   "id": "99066d43",
   "metadata": {},
   "outputs": [],
   "source": [
    "# Funcion para cantidad de banderas disparadas\n",
    "def contador_banderas_si(*args):\n",
    "    contador = [1 for item in args if 'Si' in item]\n",
    "    resultado = sum(contador)\n",
    "    return(resultado)"
   ]
  },
  {
   "cell_type": "code",
   "execution_count": 531,
   "id": "cf6dc5ba",
   "metadata": {},
   "outputs": [],
   "source": [
    "# Cantidad de banderas disparadas\n",
    "df_malla['cantidad_banderas_si'] = df_malla.apply(lambda x: contador_banderas_si(x['bandera_1'],\n",
    "                                                                                x['bandera_2'],\n",
    "                                                                                x['bandera_3'],\n",
    "                                                                                x['bandera_3a'],\n",
    "                                                                                x['bandera_4'],\n",
    "                                                                                x['bandera_4a'],\n",
    "                                                                                x['bandera_5'],\n",
    "                                                                                x['bandera_5a'],\n",
    "                                                                                x['bandera_8'],\n",
    "                                                                                x['bandera_13'],\n",
    "                                                                                x['bandera15'],\n",
    "                                                                                x['bandera_16'],\n",
    "                                                                                x['bandera_17'],\n",
    "                                                                                x['bandera19'],\n",
    "                                                                                x['bandera_21'],\n",
    "                                                                                x['bandera_22'],\n",
    "                                                                                x['bandera_23a'],\n",
    "                                                                                x['bandera_27'],\n",
    "                                                                                x['bandera_29']),\n",
    "                                                  axis = 1)"
   ]
  },
  {
   "cell_type": "code",
   "execution_count": 532,
   "id": "dd74730f",
   "metadata": {},
   "outputs": [],
   "source": [
    "# Genero cuadro para PPT\n",
    "cuadro_ppt = pd.DataFrame()"
   ]
  },
  {
   "cell_type": "code",
   "execution_count": 533,
   "id": "a4c47f8f",
   "metadata": {},
   "outputs": [],
   "source": [
    "# Genero cuadro para PPT\n",
    "for bandera in banderas:\n",
    "    resumen = cuadro_resumen(df_malla,bandera,porcentaje = True)\n",
    "    resumen['bandera'] = bandera\n",
    "    resumen_pivot = resumen.pivot(index='bandera', columns=str(bandera), values='cantidad')\n",
    "    cuadro_ppt = cuadro_ppt.append(resumen_pivot)"
   ]
  },
  {
   "cell_type": "code",
   "execution_count": 535,
   "id": "74a04b17",
   "metadata": {},
   "outputs": [],
   "source": [
    "cuadro_ppt = cuadro_ppt.fillna(0)\n",
    "cuadro_ppt['Total'] = cuadro_ppt['NoNo aplicaSi'] + cuadro_ppt['NoNo aplica']+cuadro_ppt['No aplicaNoSi'] + cuadro_ppt['NoSi'] + cuadro_ppt['NoSiNo aplica']"
   ]
  },
  {
   "cell_type": "code",
   "execution_count": 537,
   "id": "86feb2b0",
   "metadata": {},
   "outputs": [],
   "source": [
    "cuadro_ppt = cuadro_ppt[['Total','Si']]"
   ]
  },
  {
   "cell_type": "code",
   "execution_count": 538,
   "id": "04c59af2",
   "metadata": {},
   "outputs": [
    {
     "name": "stderr",
     "output_type": "stream",
     "text": [
      "<ipython-input-538-6e43d2afc1bc>:1: SettingWithCopyWarning: \n",
      "A value is trying to be set on a copy of a slice from a DataFrame.\n",
      "Try using .loc[row_indexer,col_indexer] = value instead\n",
      "\n",
      "See the caveats in the documentation: https://pandas.pydata.org/pandas-docs/stable/user_guide/indexing.html#returning-a-view-versus-a-copy\n",
      "  cuadro_ppt['%Si'] = (cuadro_ppt['Si'] * 1.00 / cuadro_ppt['Total'] * 1.00) * 100\n"
     ]
    }
   ],
   "source": [
    "cuadro_ppt['%Si'] = (cuadro_ppt['Si'] * 1.00 / cuadro_ppt['Total'] * 1.00) * 100"
   ]
  },
  {
   "cell_type": "code",
   "execution_count": 539,
   "id": "04af4c48",
   "metadata": {},
   "outputs": [],
   "source": [
    "cuadro_ppt.to_excel(f'banderas_rojas/banderas_rojas_cuadro_ppt_versionprevia_{hoy}.xlsx',index = True)"
   ]
  },
  {
   "cell_type": "code",
   "execution_count": 540,
   "id": "be081603",
   "metadata": {},
   "outputs": [],
   "source": [
    "cuadro_ppt = cuadro_ppt.sort_values(by='%Si',ascending = True)"
   ]
  },
  {
   "cell_type": "code",
   "execution_count": 541,
   "id": "27208943",
   "metadata": {},
   "outputs": [],
   "source": [
    "cuadro_ppt['%Si'] = cuadro_ppt['%Si'].map('{:,.2f}%'.format)"
   ]
  },
  {
   "cell_type": "code",
   "execution_count": 543,
   "id": "9a2542ec",
   "metadata": {},
   "outputs": [],
   "source": [
    "# Guardo cuadro en a Excel\n",
    "hoy = datetime.datetime.today().strftime('%d%b%Y')\n",
    "cuadro_ppt.to_excel(f'banderas_rojas/banderas_rojas_cuadro_ppt_{hoy}.xlsx',index = True)"
   ]
  },
  {
   "cell_type": "markdown",
   "id": "586967b1",
   "metadata": {},
   "source": [
    "### Salida: Cantidad de banderas disparadas por entidad"
   ]
  },
  {
   "cell_type": "code",
   "execution_count": 545,
   "id": "bbcedeab",
   "metadata": {},
   "outputs": [],
   "source": [
    "# Genero dataframe con todas las entidades\n",
    "df_entidad = df_malla[['ruc_entidad','entidad']].drop_duplicates()"
   ]
  },
  {
   "cell_type": "code",
   "execution_count": 546,
   "id": "c058f1d3",
   "metadata": {
    "scrolled": true
   },
   "outputs": [],
   "source": [
    "def cantidad_si_por_bandera_por_entidad(df_entidad, df_malla, bandera):\n",
    "    df_ente_bandera = df_malla.loc[df_malla[bandera] == 'Si']\\\n",
    "    .groupby(['entidad',bandera], as_index = False).count()\\\n",
    "    [['entidad',bandera,'codigoconvocatoria']]\\\n",
    "    .rename(columns = {'codigoconvocatoria':'cantidad'})\\\n",
    "    .pivot('entidad',bandera,'cantidad').rename_axis(None, axis=1).reset_index()\\\n",
    "    .rename(columns = {'Si': bandera})\n",
    "    \n",
    "    df_entidad = df_entidad.join(df_ente_bandera.set_index('entidad'), on = 'entidad', how = 'left')\n",
    "    \n",
    "    return(df_entidad)\n",
    "                       "
   ]
  },
  {
   "cell_type": "code",
   "execution_count": 547,
   "id": "ea8f1d62",
   "metadata": {},
   "outputs": [],
   "source": [
    "for bandera in banderas:\n",
    "    df_entidad = cantidad_si_por_bandera_por_entidad(df_entidad, df_malla, bandera)"
   ]
  },
  {
   "cell_type": "code",
   "execution_count": 548,
   "id": "1ea24054",
   "metadata": {},
   "outputs": [],
   "source": [
    "# Reemplazo Nan por 0\n",
    "df_entidad = df_entidad.fillna(0)"
   ]
  },
  {
   "cell_type": "code",
   "execution_count": 549,
   "id": "cc392704",
   "metadata": {},
   "outputs": [],
   "source": [
    "df_entidad['total'] = df_entidad.drop('ruc_entidad', axis=1).sum(axis=1)"
   ]
  },
  {
   "cell_type": "code",
   "execution_count": 550,
   "id": "d8c6c8c0",
   "metadata": {},
   "outputs": [],
   "source": [
    "#df_entidad = df_entidad.append(df_entidad.sum(numeric_only=True), ignore_index=True)"
   ]
  },
  {
   "cell_type": "code",
   "execution_count": 551,
   "id": "a156de25",
   "metadata": {},
   "outputs": [],
   "source": [
    "df_entidad = df_entidad[['ruc_entidad', 'entidad','total', 'bandera_1', 'bandera_2', 'bandera_3a',\n",
    "       'bandera_4', 'bandera_4a', 'bandera_5', 'bandera_5a', 'bandera_8',\n",
    "       'bandera_13', 'bandera15', 'bandera_16', 'bandera_17', 'bandera19',\n",
    "       'bandera_21', 'bandera_22', 'bandera_23a', 'bandera_27', 'bandera_29'\n",
    "       ]]"
   ]
  },
  {
   "cell_type": "code",
   "execution_count": 552,
   "id": "8a5eda81",
   "metadata": {},
   "outputs": [],
   "source": [
    "df_entidad = df_entidad.sort_values(by='total', ascending = False)"
   ]
  },
  {
   "cell_type": "code",
   "execution_count": 553,
   "id": "79619ac0",
   "metadata": {},
   "outputs": [],
   "source": [
    "hoy = datetime.datetime.today().strftime('%d%b%Y')\n",
    "df_entidad.to_excel(f'banderas_rojas/banderas_rojas_entidades_{hoy}.xlsx',index = False)"
   ]
  },
  {
   "cell_type": "markdown",
   "id": "45397560",
   "metadata": {},
   "source": [
    "### Salida: Codigos y grupos"
   ]
  },
  {
   "cell_type": "code",
   "execution_count": 557,
   "id": "c180419b",
   "metadata": {},
   "outputs": [],
   "source": [
    "# grupos y codigos\n",
    "adjudicaciones[['codigogrupo','descripcion_grupo']].drop_duplicates().to_excel(f'banderas_rojas/banderas_rojas_codigosgrupos_gruposdescripcion.xlsx',index = False)"
   ]
  },
  {
   "cell_type": "markdown",
   "id": "0022329a",
   "metadata": {},
   "source": [
    "### Salida: Malla en Excel"
   ]
  },
  {
   "cell_type": "code",
   "execution_count": 555,
   "id": "db9af026",
   "metadata": {},
   "outputs": [],
   "source": [
    "# Quito new lines de descpcion de proceso\n",
    "df_malla['descripcion_proceso'] = df_malla['descripcion_proceso'].replace(r'\\s+|\\\\n', ' ', regex=True)"
   ]
  },
  {
   "cell_type": "code",
   "execution_count": 556,
   "id": "28597875",
   "metadata": {},
   "outputs": [],
   "source": [
    "# Guardo malla a Excel\n",
    "hoy = datetime.datetime.today().strftime('%d%b%Y')\n",
    "df_malla.to_excel(f'banderas_rojas/banderas_rojas_malla_{hoy}.xlsx',index = False)"
   ]
  }
 ],
 "metadata": {
  "kernelspec": {
   "display_name": "Python 3",
   "language": "python",
   "name": "python3"
  },
  "language_info": {
   "codemirror_mode": {
    "name": "ipython",
    "version": 3
   },
   "file_extension": ".py",
   "mimetype": "text/x-python",
   "name": "python",
   "nbconvert_exporter": "python",
   "pygments_lexer": "ipython3",
   "version": "3.8.8"
  }
 },
 "nbformat": 4,
 "nbformat_minor": 5
}
